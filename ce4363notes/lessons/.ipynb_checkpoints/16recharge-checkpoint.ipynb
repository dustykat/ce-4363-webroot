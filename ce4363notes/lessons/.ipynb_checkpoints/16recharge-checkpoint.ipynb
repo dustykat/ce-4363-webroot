{
 "cells": [
  {
   "cell_type": "markdown",
   "metadata": {},
   "source": [
    "# Recharge\n",
    "\n",
    "## References\n",
    "\n",
    "1. [Unsaturated Zone and Recharge](http://54.243.252.9/ce-4363-webroot/3-Readings/Lecture013.PDF)\n",
    "2. [Measuring Soil Properties](http://54.243.252.9/ce-4363-webroot/3-Readings/Lecture014.PDF)\n",
    "3. [Water Profiles During Precipitation](http://54.243.252.9/ce-4363-webroot/3-Readings/Lecture015.PDF)"
   ]
  }
 ],
 "metadata": {
  "kernelspec": {
   "display_name": "Python 3",
   "language": "python",
   "name": "python3"
  },
  "language_info": {
   "codemirror_mode": {
    "name": "ipython",
    "version": 3
   },
   "file_extension": ".py",
   "mimetype": "text/x-python",
   "name": "python",
   "nbconvert_exporter": "python",
   "pygments_lexer": "ipython3",
   "version": "3.8.10"
  }
 },
 "nbformat": 4,
 "nbformat_minor": 4
}
