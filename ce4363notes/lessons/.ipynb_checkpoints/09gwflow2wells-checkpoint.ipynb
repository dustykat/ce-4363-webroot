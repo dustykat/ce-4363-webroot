{
 "cells": [
  {
   "cell_type": "markdown",
   "metadata": {},
   "source": [
    "# Groundwater Flow to Wells - II\n",
    "\n",
    "## Unsteady Flow Solutions\n"
   ]
  },
  {
   "cell_type": "code",
   "execution_count": 10,
   "metadata": {},
   "outputs": [],
   "source": [
    "def W(u): # Theis well function using exponential integral\n",
    "    import scipy.special as sc\n",
    "    w = sc.expn(1,u)\n",
    "    return(w)\n",
    "\n",
    "def s(radius,time,storage,transmissivity,discharge): # Drawdown function using exponential integral\n",
    "    import math\n",
    "    u = ((radius**2)*(storage))/(4*transmissivity*time)\n",
    "    s = ((discharge)/(4*math.pi*transmissivity))*W(u)\n",
    "    return(s)\n",
    "    "
   ]
  },
  {
   "cell_type": "code",
   "execution_count": 14,
   "metadata": {},
   "outputs": [
    {
     "data": {
      "text/plain": [
       "1.2819598053120422"
      ]
     },
     "execution_count": 14,
     "metadata": {},
     "output_type": "execute_result"
    }
   ],
   "source": [
    "s(824,8/1440,2.4e-05,1400,42400)"
   ]
  },
  {
   "cell_type": "code",
   "execution_count": null,
   "metadata": {},
   "outputs": [],
   "source": []
  }
 ],
 "metadata": {
  "kernelspec": {
   "display_name": "Python 3",
   "language": "python",
   "name": "python3"
  },
  "language_info": {
   "codemirror_mode": {
    "name": "ipython",
    "version": 3
   },
   "file_extension": ".py",
   "mimetype": "text/x-python",
   "name": "python",
   "nbconvert_exporter": "python",
   "pygments_lexer": "ipython3",
   "version": "3.8.10"
  }
 },
 "nbformat": 4,
 "nbformat_minor": 4
}
