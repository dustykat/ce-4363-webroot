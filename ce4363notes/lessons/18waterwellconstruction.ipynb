{
 "cells": [
  {
   "cell_type": "markdown",
   "metadata": {},
   "source": [
    "# Water Well Construction - I\n",
    "\n",
    "Wells are the primary means to access the subsurface. \n",
    "Most wells are vertical oriented, some are horizontal. \n",
    "\n",
    "![](http://54.243.252.9/ce-4363-webroot/ce4363notes/lessons/horizontalwell.png)\n",
    "\n",
    "![](http://54.243.252.9/ce-4363-webroot/ce4363notes/lessons/verticalwell.png)\n",
    "\n",
    "Wells are drilled by drilling services depending on intented use/customer:\n",
    "\n",
    "- Water wells (drinking)\n",
    "- Monitoring wells\n",
    "- Geotechnical borings\n",
    "- Oil/Gas wells\n",
    "- Large diameter shallow wells (tube wells)\n",
    "\n",
    "Techniques are similar in each category, but different scales."
   ]
  },
  {
   "cell_type": "markdown",
   "metadata": {},
   "source": [
    "Generic well terminology\n",
    "\n",
    "![](http://54.243.252.9/ce-4363-webroot/ce4363notes/lessons/wellcompletion.png)\n",
    "\n",
    "image\n"
   ]
  }
 ],
 "metadata": {
  "kernelspec": {
   "display_name": "Python 3",
   "language": "python",
   "name": "python3"
  },
  "language_info": {
   "codemirror_mode": {
    "name": "ipython",
    "version": 3
   },
   "file_extension": ".py",
   "mimetype": "text/x-python",
   "name": "python",
   "nbconvert_exporter": "python",
   "pygments_lexer": "ipython3",
   "version": "3.8.10"
  }
 },
 "nbformat": 4,
 "nbformat_minor": 4
}
