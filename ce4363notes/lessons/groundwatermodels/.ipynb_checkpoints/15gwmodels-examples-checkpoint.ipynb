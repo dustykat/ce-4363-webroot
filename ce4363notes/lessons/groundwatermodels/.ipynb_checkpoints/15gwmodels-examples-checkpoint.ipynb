{
 "cells": [
  {
   "cell_type": "markdown",
   "metadata": {},
   "source": [
    "# MODFLOW Python Interface Examples\n",
    "\n",
    "A way to access MODFLOW using Python and Jupyter Notebooks is avaliable at \n",
    "\n",
    "[FloPy: Python Package for Creating, Running, and Post-Processing MODFLOW-Based Models ](https://www.usgs.gov/software/flopy-python-package-creating-running-and-post-processing-modflow-based-models)\n",
    "\n",
    "The PDF link below shows the installation and an example run on the AWS server.\n",
    "\n",
    "[MODFLOW on a Jupyter Server - notes](http://54.243.252.9/ce-4363-webroot/ce4363notes/lessons/groundwatermodels/installing.pdf)\n",
    "\n",
    "## Examples\n",
    "\n",
    "The remainder of this section is worked examples using `FLOPY` and `MODFLOW6` installed on a `aarch-64` computer.  `x86-...` architectures should use the `! get-modflow` method to download (in near real time) current binaries"
   ]
  },
  {
   "cell_type": "markdown",
   "metadata": {},
   "source": [
    "### Obleo Aquifer Example\n",
    "\n",
    "This is a steady-state model of the Obleo aquifer system depicted below:\n",
    "\n",
    "![](obleoaquifer.png)\n",
    "\n",
    "Sone added information about the system is:\n",
    "\n",
    "![](obleoparticulars.png)\n",
    "\n",
    "The general goals for the analysis are:\n",
    "\n",
    "![](obleogoals.png)\n",
    "\n",
    "So with a little infomration regarding how we will manage elevations we can move forward with the modeling effort.\n",
    "\n",
    "![](obleovertdatum.png)\n",
    "\n",
    "Now onto **modflow**"
   ]
  },
  {
   "cell_type": "code",
   "execution_count": 738,
   "metadata": {},
   "outputs": [],
   "source": [
    "import warnings\n",
    "warnings.filterwarnings('ignore')\n",
    "import os\n",
    "import numpy as np\n",
    "import matplotlib.pyplot as plt\n",
    "import flopy"
   ]
  },
  {
   "cell_type": "code",
   "execution_count": 739,
   "metadata": {},
   "outputs": [],
   "source": [
    "# Workspace and Executibles\n",
    "binary = \"/home/sensei/ce-4363-webroot/ModflowExperimental/mf6-arm/mf6\"  # location on MY computer of the compiled modflow program\n",
    "workarea = \"/home/sensei/ce-4363-webroot/ModflowExperimental/mf6-arm/example_2\" # location on MY computer to store files this example (directory must already exist)\n",
    "\n",
    "# Set Simulation Name\n",
    "name = \"example02_obleo\"\n",
    "\n",
    "##### FLOPY Build simulation framework ####\n",
    "sim = flopy.mf6.MFSimulation(\n",
    "    sim_name=name, exe_name=binary, version=\"mf6\", sim_ws=workarea\n",
    ")"
   ]
  },
  {
   "cell_type": "code",
   "execution_count": 740,
   "metadata": {},
   "outputs": [],
   "source": [
    "# Set Time Structure\n",
    "Time_Units=\"YEARS\"\n",
    "\n",
    "##### FLOPY Build time framework ##########\n",
    "tdis = flopy.mf6.ModflowTdis(\n",
    "    sim, pname=\"tdis\", time_units=Time_Units, nper=1, perioddata=[(1.0, 1, 1.0)]\n",
    ")"
   ]
  },
  {
   "cell_type": "code",
   "execution_count": 741,
   "metadata": {},
   "outputs": [],
   "source": [
    "# Set Iterative Model Solution (choose solver parameters)\n",
    "# about IMS see: https://water.usgs.gov/nrp/gwsoftware/ModelMuse/Help/sms_sparse_matrix_solution_pac.htm\n",
    "# using defaults see: https://flopy.readthedocs.io/en/3.3.2/source/flopy.mf6.modflow.mfims.html\n",
    "\n",
    "##### FLOPY Build IMS framework ###########\n",
    "ims = flopy.mf6.ModflowIms(sim, pname=\"ims\", complexity=\"SIMPLE\")"
   ]
  },
  {
   "cell_type": "code",
   "execution_count": 742,
   "metadata": {},
   "outputs": [],
   "source": [
    "# Set Model Name (using same base name as the simulation)\n",
    "model_nam_file = \"{}.nam\".format(name)\n",
    "\n",
    "##### FLOPY Build Model Name framework ####\n",
    "gwf = flopy.mf6.ModflowGwf(sim, modelname=name, model_nam_file=model_nam_file)"
   ]
  },
  {
   "cell_type": "code",
   "execution_count": 743,
   "metadata": {},
   "outputs": [],
   "source": [
    "\n",
    "# Define The Grid\n",
    "Nlay = 1 #number layers\n",
    "Nrow = 11 #number rows\n",
    "Ncol = 11 #number columns\n",
    "# Define distances and elevations\n",
    "delrow = 1000 # cell size along columns (how tall is a row)\n",
    "delcol = 1000 # cell size along row (how wide is a column)\n",
    "topelev = 100.0 # elevation of top of aquifer\n",
    "thick = 1000.0 #aquifer thickness\n",
    "\n",
    "bot = [topelev-thick] # bot is a list with Nlay entries\n",
    "#print(bot)\n",
    "\n",
    "\n",
    "##### FLOPY Build Model Grid framework #####\n",
    "dis = flopy.mf6.ModflowGwfdis(gwf,nlay=Nlay,nrow=Nrow,ncol=Ncol,delr=delrow,delc=delcol,top=topelev,botm=bot,\n",
    ")\n"
   ]
  },
  {
   "cell_type": "code",
   "execution_count": 744,
   "metadata": {},
   "outputs": [],
   "source": [
    "# Define initial conditions\n",
    "h1 = 0.0 # \n",
    "start = h1 * np.ones((Nlay, Nrow, Ncol)) # start heads are h1 everywhere\n",
    "\n",
    "##### FLOPY Build Initial Conditions framework ###\n",
    "ic = flopy.mf6.ModflowGwfic(gwf, pname=\"ic\", strt=start)"
   ]
  },
  {
   "cell_type": "code",
   "execution_count": 745,
   "metadata": {},
   "outputs": [],
   "source": [
    "# Define hydraulic conductivity arrays\n",
    "K = 3650.0\n",
    "k = K * np.ones((Nlay, Nrow, Ncol)) # Hydraulic conductivity is K everywhere\n",
    "# Use above to build layer-by-layer spatial varying K\n",
    "# need to read: to deal with Kx!=Ky\n",
    "\n",
    "\n",
    "##### FLOPY Build BCF framework ######\n",
    "npf = flopy.mf6.ModflowGwfnpf(gwf, icelltype=1, k=k, save_flows=True) \n",
    "# setting icelltype > 0 is unconfined \n",
    "# https://flopy.readthedocs.io/en/3.3.5/source/flopy.mf6.modflow.mfgwfnpf.html?highlight=icelltype#flopy.mf6.modflow.mfgwfnpf.ModflowGwfnpf.icelltype"
   ]
  },
  {
   "cell_type": "code",
   "execution_count": 746,
   "metadata": {},
   "outputs": [],
   "source": [
    "# Define constant head boundary conditions\n",
    "chd_rec = []\n",
    "#h2 = 90 # Just a different value \n",
    "#chd_rec.append(((0, 5, 5), h2))\n",
    "# L,R,T,B constant head boundaries\n",
    "for layer in range(0, Nlay):\n",
    "    for row in range(0, Nrow):\n",
    "        chd_rec.append(((layer, row, 0), h1))  #left column held at h1\n",
    "        chd_rec.append(((layer, row, Ncol-1), h1)) #right column held at h1\n",
    "#    for col in range(1,Ncol-1):\n",
    "#        chd_rec.append(((layer, 0, col), h1)) # top row held at h1\n",
    "#        chd_rec.append(((layer, Nrow-1 , col), h1)) # bottom row held at h1\n",
    "\n",
    "        \n",
    "##### FLOPY Build CHD framework #####          \n",
    "chd = flopy.mf6.ModflowGwfchd(gwf,maxbound=len(chd_rec),stress_period_data=chd_rec,save_flows=True,\n",
    ")"
   ]
  },
  {
   "cell_type": "code",
   "execution_count": 747,
   "metadata": {},
   "outputs": [],
   "source": [
    "# Define wellfields\n",
    "wel_rec = []\n",
    "# wel_rec.append((0, 5, 5, -0e6)) # 0 Mm3/yr - use to examine recharge only\n",
    "wel_rec.append((0, 5, 5, -2500e6)) # 2,000 Mm3/yr\n",
    "\n",
    "##### FLOPY Build Wellfields framework #####  \n",
    "wel = flopy.mf6.ModflowGwfwel(gwf,maxbound=len(wel_rec),stress_period_data=wel_rec,\n",
    ")"
   ]
  },
  {
   "cell_type": "code",
   "execution_count": 748,
   "metadata": {},
   "outputs": [],
   "source": [
    "# Define recharge\n",
    "rech_val = 0.25 #  rate as depth/year\n",
    "rech_rec = rech_val * np.ones((1, Nrow, Ncol)) # set recharge top layer only\n",
    "\n",
    "rch = flopy.mf6.ModflowGwfrcha(gwf, maxbound=len(rech_rec),recharge=rech_rec)\n",
    "\n",
    "#rch = flopy.mf6.ModflowGwfrcha(gwf, recharge=rech_val) # default entry format"
   ]
  },
  {
   "cell_type": "code",
   "execution_count": 749,
   "metadata": {},
   "outputs": [],
   "source": [
    "# something to do with stress periods\n",
    "iper = 0\n",
    "ra = chd.stress_period_data.get_data(key=iper)\n"
   ]
  },
  {
   "cell_type": "code",
   "execution_count": 750,
   "metadata": {},
   "outputs": [],
   "source": [
    "# Create the output control (`OC`) Package\n",
    "headfile = \"{}.hds\".format(name)\n",
    "head_filerecord = [headfile]\n",
    "budgetfile = \"{}.cbb\".format(name)\n",
    "budget_filerecord = [budgetfile]\n",
    "saverecord = [(\"HEAD\", \"ALL\"), (\"BUDGET\", \"ALL\")]\n",
    "printrecord = [(\"HEAD\", \"LAST\")]\n",
    "\n",
    "##### FLOPY Build OC framework\n",
    "oc = flopy.mf6.ModflowGwfoc(\n",
    "    gwf,\n",
    "    saverecord=saverecord,\n",
    "    head_filerecord=head_filerecord,\n",
    "    budget_filerecord=budget_filerecord,\n",
    "    printrecord=printrecord,\n",
    ")"
   ]
  },
  {
   "cell_type": "code",
   "execution_count": 751,
   "metadata": {},
   "outputs": [
    {
     "name": "stdout",
     "output_type": "stream",
     "text": [
      "writing simulation...\n",
      "  writing simulation name file...\n",
      "  writing simulation tdis package...\n",
      "  writing ims package ims...\n",
      "  writing model example02_obleo...\n",
      "    writing model name file...\n",
      "    writing package dis...\n",
      "    writing package ic...\n",
      "    writing package npf...\n",
      "    writing package chd_0...\n",
      "    writing package wel_0...\n",
      "    writing package rcha_0...\n",
      "    writing package oc...\n"
     ]
    }
   ],
   "source": [
    "# Write files to the directory\n",
    "sim.write_simulation()"
   ]
  },
  {
   "cell_type": "code",
   "execution_count": 752,
   "metadata": {},
   "outputs": [
    {
     "name": "stdout",
     "output_type": "stream",
     "text": [
      "FloPy is using the following executable to run the model: /home/sensei/ce-4363-webroot/ModflowExperimental/mf6-arm/mf6\n",
      "                                   MODFLOW 6\n",
      "                U.S. GEOLOGICAL SURVEY MODULAR HYDROLOGIC MODEL\n",
      "                        VERSION 6.4.1 Release 12/09/2022\n",
      "\n",
      "         MODFLOW 6 compiled Apr 16 2023 18:27:14 with GCC version 9.4.0\n",
      "\n",
      "This software has been approved for release by the U.S. Geological \n",
      "Survey (USGS). Although the software has been subjected to rigorous \n",
      "review, the USGS reserves the right to update the software as needed \n",
      "pursuant to further analysis and review. No warranty, expressed or \n",
      "implied, is made by the USGS or the U.S. Government as to the \n",
      "functionality of the software and related material nor shall the \n",
      "fact of release constitute any such warranty. Furthermore, the \n",
      "software is released on condition that neither the USGS nor the U.S. \n",
      "Government shall be held liable for any damages resulting from its \n",
      "authorized or unauthorized use. Also refer to the USGS Water \n",
      "Resources Software User Rights Notice for complete use, copyright, \n",
      "and distribution information.\n",
      "\n",
      "\n",
      " Run start date and time (yyyy/mm/dd hh:mm:ss): 2023/04/18 20:24:49\n",
      "\n",
      " Writing simulation list file: mfsim.lst\n",
      " Using Simulation name file: mfsim.nam\n",
      "\n",
      "    Solving:  Stress period:     1    Time step:     1\n",
      "\n",
      " Run end date and time (yyyy/mm/dd hh:mm:ss): 2023/04/18 20:24:49\n",
      " Elapsed run time:  0.028 Seconds\n",
      "\n",
      " Normal termination of simulation.\n"
     ]
    }
   ],
   "source": [
    "# Attempt to run MODFLOW this model\n",
    "success, buff = sim.run_simulation()\n",
    "if not success:\n",
    "    raise Exception(\"MODFLOW 6 did not terminate normally.\")"
   ]
  },
  {
   "cell_type": "code",
   "execution_count": 753,
   "metadata": {},
   "outputs": [
    {
     "data": {
      "image/png": "[encoded data removed]",
      "text/plain": [
       "<Figure size 648x648 with 1 Axes>"
      ]
     },
     "metadata": {
      "needs_background": "light"
     },
     "output_type": "display_data"
    }
   ],
   "source": [
    "# now attempt to postprocess\n",
    "h = gwf.output.head().get_data(kstpkper=(0, 0))\n",
    "x =  np.linspace(0, delrow*Ncol, Ncol)\n",
    "y =  np.linspace(0, delrow*Nrow, Nrow)\n",
    "y = y[::-1]\n",
    "vmin, vmax = -200., 100.0\n",
    "contour_intervals = np.arange(-200., 0., 10.)\n",
    "\n",
    "# ### Plot a Map of Layer 1\n",
    "\n",
    "fig = plt.figure(figsize=(9, 9))\n",
    "ax = fig.add_subplot(1, 1, 1, aspect=\"equal\")\n",
    "c = ax.contour(x, y, h[0], contour_intervals, colors=\"black\")\n",
    "plt.title(\"Obleo Aquifer Example 2 Head Map \")\n",
    "plt.xlabel(\"Easting (meters)\")\n",
    "plt.ylabel(\"Northing (meters)\")\n",
    "plt.clabel(c, fmt=\"%2.1f\");"
   ]
  },
  {
   "cell_type": "markdown",
   "metadata": {},
   "source": [
    "Now for pretty mapping!"
   ]
  },
  {
   "cell_type": "code",
   "execution_count": 754,
   "metadata": {},
   "outputs": [
    {
     "data": {
      "image/png": "[encoded data removed]",
      "text/plain": [
       "<Figure size 648x648 with 2 Axes>"
      ]
     },
     "metadata": {
      "needs_background": "light"
     },
     "output_type": "display_data"
    }
   ],
   "source": [
    "# ### Use the FloPy `PlotMapView()` capabilities for MODFLOW 6\n",
    "\n",
    "fig = plt.figure(figsize=(9, 9))\n",
    "ax = fig.add_subplot(1, 1, 1, aspect=\"equal\")\n",
    "ax.set_title(\"Obleo Aquifer Example 2 \\n Head Map\")\n",
    "ax.set_xlabel(\"Easting (meters)\")\n",
    "ax.set_ylabel(\"Northing (meters)\")\n",
    "modelmap = flopy.plot.PlotMapView(model=gwf, ax=ax)\n",
    "pa = modelmap.plot_array(h, vmin=-900, vmax=100)\n",
    "quadmesh = modelmap.plot_bc(\"CHD\")\n",
    "linecollection = modelmap.plot_grid(lw=0.5, color=\"0.5\")\n",
    "contours = modelmap.contour_array(\n",
    "    h,\n",
    "    levels=contour_intervals,\n",
    "    colors=\"black\",\n",
    ")\n",
    "ax.clabel(contours, fmt=\"%2.1f\")\n",
    "\n",
    "cb = plt.colorbar(pa, shrink=0.5, ax=ax)\n",
    "cb.set_label(' Head (meters) ', rotation=90)"
   ]
  },
  {
   "cell_type": "markdown",
   "metadata": {},
   "source": [
    "So this seems like a working model next we need to see if the heads are no less than -650 meters (the minimum allowed saturated thickness).  We already have this information contained in the output object."
   ]
  },
  {
   "cell_type": "code",
   "execution_count": 755,
   "metadata": {},
   "outputs": [
    {
     "name": "stdout",
     "output_type": "stream",
     "text": [
      "Minimum allowed is -650.0 meters\n",
      "Minimum Head is: -1e+30  meters\n",
      "Computed head is below allowed value - reduce pumpage and rerun simulation\n"
     ]
    }
   ],
   "source": [
    "print(\"Minimum allowed is -650.0 meters\")\n",
    "print(\"Minimum Head is:\",round(h[0].min(),1),\" meters\")\n",
    "if h[0].min() < -650.0:\n",
    "    print(\"Computed head is below allowed value - reduce pumpage and rerun simulation\")"
   ]
  },
  {
   "cell_type": "markdown",
   "metadata": {},
   "source": [
    "## References\n",
    "\n",
    "1. [Groundwater Modeling Exercise (used in video)](http://54.243.252.9/ce-4363-webroot/3-Readings/Groundwater_modelling_exercise.pdf)\n",
    "2. [MODFLOW Notes (Cleveland circa 1992)](http://54.243.252.9/ce-4363-webroot/3-Readings/modflowNotes01.pdf)  The Obleo Aquifer simulation in the MODFLOW88 video is described in these notes.\n",
    "3. [MODFLOW Manual (US EPA)](http://54.243.252.9/ce-4363-webroot/3-Readings/modflmn.pdf) An EPA training document on the use of MODFLOW"
   ]
  },
  {
   "cell_type": "code",
   "execution_count": null,
   "metadata": {},
   "outputs": [],
   "source": []
  }
 ],
 "metadata": {
  "kernelspec": {
   "display_name": "Python 3",
   "language": "python",
   "name": "python3"
  },
  "language_info": {
   "codemirror_mode": {
    "name": "ipython",
    "version": 3
   },
   "file_extension": ".py",
   "mimetype": "text/x-python",
   "name": "python",
   "nbconvert_exporter": "python",
   "pygments_lexer": "ipython3",
   "version": "3.8.10"
  }
 },
 "nbformat": 4,
 "nbformat_minor": 4
}
