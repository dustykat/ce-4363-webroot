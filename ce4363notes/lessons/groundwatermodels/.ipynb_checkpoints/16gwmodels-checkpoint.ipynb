{
 "cells": [
  {
   "cell_type": "markdown",
   "metadata": {},
   "source": [
    "# Regional Flow \n",
    "\n",
    "## Recharge and Discharge Areas\n",
    "\n",
    "## Flow Patterns in Aquifers\n",
    "\n",
    "### Vertical Slices\n",
    "\n",
    "### Horizontal Slides\n",
    "\n",
    "## Low Permeability Inclusions\n",
    "\n",
    "## High Permeability Inclusions\n",
    "\n",
    "## Heterogenity and Anisotropy\n",
    "\n",
    "## References\n",
    "\n",
    "1. [Bravo,R., Rogers, J.R., and T.G. Cleveland, 1996. *Modeling Groundwater Flow using Flux Boundary Conditions.* Water Resources Bulletin, Vol 32., No. 1, pp 39-46](http://54.243.252.9/about-me-webroot/about-me/MyWebPapers/journal_papers/AWRA_WRB_1996/AWRA_WRB_1996.pdf)"
   ]
  },
  {
   "cell_type": "code",
   "execution_count": 1,
   "metadata": {},
   "outputs": [
    {
     "name": "stdout",
     "output_type": "stream",
     "text": [
      "/home/sensei/ce-4363-webroot/ce4363notes/lessons/groundwatermodels\n"
     ]
    }
   ],
   "source": [
    "! pwd"
   ]
  },
  {
   "cell_type": "code",
   "execution_count": null,
   "metadata": {},
   "outputs": [],
   "source": []
  }
 ],
 "metadata": {
  "kernelspec": {
   "display_name": "Python 3",
   "language": "python",
   "name": "python3"
  },
  "language_info": {
   "codemirror_mode": {
    "name": "ipython",
    "version": 3
   },
   "file_extension": ".py",
   "mimetype": "text/x-python",
   "name": "python",
   "nbconvert_exporter": "python",
   "pygments_lexer": "ipython3",
   "version": "3.8.10"
  }
 },
 "nbformat": 4,
 "nbformat_minor": 4
}
