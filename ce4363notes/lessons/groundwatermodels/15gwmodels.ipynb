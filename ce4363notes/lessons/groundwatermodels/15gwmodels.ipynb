{
 "cells": [
  {
   "cell_type": "markdown",
   "metadata": {},
   "source": [
    "# MODFLOW Program"
   ]
  },
  {
   "cell_type": "markdown",
   "metadata": {},
   "source": [
    "## Introduction"
   ]
  },
  {
   "cell_type": "markdown",
   "metadata": {},
   "source": [
    "## MODFLOW 6 (Using your own computer)\n",
    "\n",
    "This would be the preferred way to use MODFLOW for this class.  The install is not that hard, but alos not point and click.  A video showing an installation is available for viewing at:\n",
    "\n",
    "- [Installing ModelMuse and MODFLOW 6 on a local computer](https://www.youtube.com/watch?v=x_D_rvsQ-tI&feature=youtu.be)\n",
    "\n",
    "The installation process is:\n",
    "\n",
    "1. GOOGLE \"modflow 6\"  and/or select: [https://www.usgs.gov/software/modflow-6-usgs-modular-hydrologic-model](https://www.usgs.gov/software/modflow-6-usgs-modular-hydrologic-model) Download the MODFLOW 6 program (choose windows installer)\n",
    "\n",
    "2. GOOGLE \"ModelMuse\" and/or select: [https://www.usgs.gov/software/modelmuse-a-graphical-user-interface-groundwater-models](https://www.usgs.gov/software/modelmuse-a-graphical-user-interface-groundwater-models)  Download the interface program (installer for 32/64 bit.  Do not commit to 64 bit only (it might not work well).  When you get a real job, have an IT professional do the install and testing)\n",
    "\n",
    "3. Create C:/WRDAPP folder to house modflow binaries - note the folder attaches at C:/  any other path will probably mess things up later on.\n",
    "\n",
    "4. Install ModelMuse using installer (double click, accept defaults)\n",
    "\n",
    "5. Move the modflow package into C:/WRDAPP folder, extract package, put into folder root.\n",
    "\n",
    "6. Start ModelMuse\n",
    "  - create MODFLOW\n",
    "  - next\n",
    "  - next\n",
    "  - Model/MODFLOW Program Locations\n",
    "  - set the directory path (may need to edit names a bit)\n",
    "  \n",
    "7. Restart ModelMuse and run tutorial.\n",
    "  - Pray for smiley faces!\n",
    "  - Yay! Install complete."
   ]
  },
  {
   "cell_type": "markdown",
   "metadata": {},
   "source": [
    "## MODFLOW 6 (Using Shared On-Line Windows Server 2019 on AWS)\n",
    "\n",
    "A fully provisioned implementation of ModelMuse and MODFLOW 6 is available for use at:\n",
    "\n",
    "- **server name** kittyinthewindow.ddns.net\n",
    "- **user name** ce3372-share\n",
    "- **passwort** modflow63\\$hare\n",
    "\n",
    "You must access using a **Remote Desktop Protocol** client application, it is built-in to Windows\n",
    "\n",
    "- Windows Support Pages: [https://support.microsoft.com/en-us/windows/how-to-use-remote-desktop-5fe128d5-8fb1-7a23-3b8a-41e636865e8c](https://support.microsoft.com/en-us/windows/how-to-use-remote-desktop-5fe128d5-8fb1-7a23-3b8a-41e636865e8c)\n",
    "- Windows 10 Client: [https://apps.microsoft.com/store/detail/microsoft-remote-desktop/9WZDNCRFJ3PS?hl=en-au&gl=au&rtc=1&activetab=pivot%3Aoverviewtab](https://apps.microsoft.com/store/detail/microsoft-remote-desktop/9WZDNCRFJ3PS?hl=en-au&gl=au&rtc=1&activetab=pivot%3Aoverviewtab)\n",
    "- Mac OS Users: [https://apps.apple.com/app/microsoft-remote-desktop/id1295203466?mt=12](https://apps.apple.com/app/microsoft-remote-desktop/id1295203466?mt=12)\n",
    "- iOS Users: [https://apps.apple.com/app/microsoft-remote-desktop/id714464092](https://apps.apple.com/app/microsoft-remote-desktop/id714464092) **This would be really stupid to try to operate on a phone** but you could.  I think for iPad access this might make sense.\n",
    "- Other Drug Users (Android/Linux):[https://play.google.com/store/apps/details?id=com.microsoft.rdc.android](https://play.google.com/store/apps/details?id=com.microsoft.rdc.android)\n",
    "\n",
    "### Video Demonstrating Remote Connection\n",
    "\n",
    "A video demonstrating remote connection is available at [Login to shared server running ModelMuse and MODFLOW 6](https://youtu.be/3Rv6e61FBYk)"
   ]
  },
  {
   "cell_type": "markdown",
   "metadata": {},
   "source": [
    "## MODFLOW 1988 (On-Line Structured Input Files)\n"
   ]
  },
  {
   "cell_type": "code",
   "execution_count": 1,
   "metadata": {},
   "outputs": [
    {
     "name": "stdout",
     "output_type": "stream",
     "text": [
      "/home/sensei/ce-4363-webroot/ce4363notes/lessons/groundwatermodels\n"
     ]
    }
   ],
   "source": [
    "! pwd"
   ]
  },
  {
   "cell_type": "markdown",
   "metadata": {},
   "source": [
    "## References\n",
    "\n",
    "1. [Groundwater Modeling Exercise (used in video)](http://54.243.252.9/ce-4363-webroot/3-Readings/Groundwater_modelling_exercise.pdf)"
   ]
  },
  {
   "cell_type": "code",
   "execution_count": null,
   "metadata": {},
   "outputs": [],
   "source": []
  }
 ],
 "metadata": {
  "kernelspec": {
   "display_name": "Python 3",
   "language": "python",
   "name": "python3"
  },
  "language_info": {
   "codemirror_mode": {
    "name": "ipython",
    "version": 3
   },
   "file_extension": ".py",
   "mimetype": "text/x-python",
   "name": "python",
   "nbconvert_exporter": "python",
   "pygments_lexer": "ipython3",
   "version": "3.8.10"
  }
 },
 "nbformat": 4,
 "nbformat_minor": 4
}
