{
 "cells": [
  {
   "cell_type": "markdown",
   "metadata": {},
   "source": [
    "# Groundwater Flow to Wells - II (pp. 162 - 166)\n",
    "\n",
    "Leaky Confining Layer (No storage in the confining layer) A.K.A. Hantush (1956) Solution\n",
    "\n",
    "## Unsteady Flow Solutions\n"
   ]
  },
  {
   "cell_type": "code",
   "execution_count": 1,
   "metadata": {},
   "outputs": [],
   "source": [
    "def wh(u, rho): # Hantush Leaky aquifer well function\n",
    "    import numpy\n",
    "    \"\"\"Returns Hantush's well function values\n",
    "\n",
    "    Note: works only for scalar values of u and rho\n",
    "\n",
    "    Parameters:\n",
    "    -----------\n",
    "    u : scalar  (u= r^2 * S / (4 * kD * t))\n",
    "    rho : sclaar (rho =r / lambda, lambda = sqrt(kD * c))\n",
    "    Returns:\n",
    "    --------\n",
    "    Wh(u, rho) : Hantush well function value for (u, rho)\n",
    "    \"\"\"\n",
    "    try:\n",
    "        u =float(u)\n",
    "        rho =float(rho)\n",
    "    except:\n",
    "        print(\"u and rho must be scalars.\")\n",
    "        raise ValueError()\n",
    "\n",
    "    LOGINF = 2\n",
    "    y = numpy.logspace(numpy.log10(u), LOGINF, 1000)\n",
    "    ym = 0.5 * (y[:-1]+  y[1:])\n",
    "    dy = numpy.diff(y)\n",
    "    wh = numpy.sum(numpy.exp(-ym - (rho / 2)**2 / ym ) * dy / ym)\n",
    "    return wh"
   ]
  },
  {
   "cell_type": "markdown",
   "metadata": {},
   "source": [
    "Example on pg. 165 to illustrate homebrew script\n",
    "\n",
    "The relevant problem parametrs are:\n",
    "\n",
    "- $K = 0.73 m/d$\n",
    "- $b = 5.2 m$\n",
    "- $T = Kb = 3.8 m^2/d$\n",
    "- $S = 0.0035$\n",
    "- $Q_w = 28 m^3/d$\n",
    "- $b' = 1.1 m$\n",
    "- $K'_v = 5.5 \\times 10^{-5} m/d$\n",
    "\n",
    "Notice in the example the author tests some requesite assumptions before proceeding to look up values in a table (also a good idea here, but we will just be lazy and apply the script)"
   ]
  },
  {
   "cell_type": "code",
   "execution_count": 2,
   "metadata": {},
   "outputs": [],
   "source": [
    "def leaky(radius,time,storage,transmissivity,discharge,leakance): # Leaky drawdown function using Hantush solution\n",
    "    import math\n",
    "    u = ((radius**2)*(storage))/(4*transmissivity*time)\n",
    "    roB = radius/leakance\n",
    "    leaky = ((discharge)/(4*math.pi*transmissivity))*wh(u,roB)\n",
    "    return(leaky)"
   ]
  },
  {
   "cell_type": "code",
   "execution_count": 3,
   "metadata": {},
   "outputs": [
    {
     "name": "stdout",
     "output_type": "stream",
     "text": [
      "radius    drawdown   \n",
      "1.5 4.089\n",
      "5.5 2.57\n",
      "10 1.879\n",
      "25 0.874\n",
      "75 0.079\n",
      "150 0.001\n"
     ]
    }
   ],
   "source": [
    "import math\n",
    "radius=[1.5,5.5,10,25,75,150]\n",
    "ddn=[0 for i in range(len(radius))] # list of zeros to hold results\n",
    "# simulation constants\n",
    "time = 1 # 1 day\n",
    "transmissivity = 3.8\n",
    "storage = 0.0035\n",
    "discharge = 28\n",
    "bprime = 1.1\n",
    "Kvert = 5.5e-05\n",
    "# computed constants\n",
    "B = math.sqrt((transmissivity*bprime)/Kvert)\n",
    "# compute the drawdowns\n",
    "for i in range(len(radius)):\n",
    "    ddn[i]=leaky(radius[i],time,storage,transmissivity,discharge,B)\n",
    "# print results\n",
    "print(\"radius    drawdown   \")\n",
    "for i in range(len(radius)):\n",
    "    print(round(radius[i],1),round(ddn[i],3))"
   ]
  },
  {
   "cell_type": "markdown",
   "metadata": {},
   "source": [
    "## References\n",
    "1. [TWRI BOOK 3 Chapter B3 TYPE CURVES FOR SELECTED PROBLEMS OF FLOW TO WELLS IN CONFINED AQUIFERS](https://pubs.usgs.gov/twri/twri3-b3/pdf/TWRI_3-B3.pdf)"
   ]
  },
  {
   "cell_type": "code",
   "execution_count": null,
   "metadata": {},
   "outputs": [],
   "source": []
  }
 ],
 "metadata": {
  "kernelspec": {
   "display_name": "Python 3",
   "language": "python",
   "name": "python3"
  },
  "language_info": {
   "codemirror_mode": {
    "name": "ipython",
    "version": 3
   },
   "file_extension": ".py",
   "mimetype": "text/x-python",
   "name": "python",
   "nbconvert_exporter": "python",
   "pygments_lexer": "ipython3",
   "version": "3.8.10"
  }
 },
 "nbformat": 4,
 "nbformat_minor": 4
}