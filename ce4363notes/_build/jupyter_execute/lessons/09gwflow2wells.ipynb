{
 "cells": [
  {
   "cell_type": "markdown",
   "metadata": {},
   "source": [
    "# Groundwater Flow to Wells - II\n",
    "\n",
    "## Unsteady Flow Solutions\n"
   ]
  },
  {
   "cell_type": "code",
   "execution_count": 1,
   "metadata": {},
   "outputs": [],
   "source": [
    "def W(u): # Theis well function using exponential integral\n",
    "    import scipy.special as sc\n",
    "    w = sc.expn(1,u)\n",
    "    return(w)\n",
    "\n",
    "def s(radius,time,storage,transmissivity,discharge): # Drawdown function using exponential integral\n",
    "    import math\n",
    "    u = ((radius**2)*(storage))/(4*transmissivity*time)\n",
    "    s = ((discharge)/(4*math.pi*transmissivity))*W(u)\n",
    "    return(s)\n",
    "    "
   ]
  },
  {
   "cell_type": "code",
   "execution_count": 2,
   "metadata": {},
   "outputs": [
    {
     "data": {
      "text/plain": [
       "1.2819598053120422"
      ]
     },
     "execution_count": 2,
     "metadata": {},
     "output_type": "execute_result"
    }
   ],
   "source": [
    "s(824,8/1440,2.4e-05,1400,42400)"
   ]
  },
  {
   "cell_type": "code",
   "execution_count": 3,
   "metadata": {},
   "outputs": [],
   "source": [
    "def wh(u, rho): # Hantush Leaky aquifer well function\n",
    "    import numpy\n",
    "    \"\"\"Returns Hantush's well function values\n",
    "\n",
    "    Note: works only for scalar values of u and rho\n",
    "\n",
    "    Parameters:\n",
    "    -----------\n",
    "    u : scalar  (u= r^2 * S / (4 * kD * t))\n",
    "    rho : sclaar (rho =r / lambda, lambda = sqrt(kD * c))\n",
    "    Returns:\n",
    "    --------\n",
    "    Wh(u, rho) : Hantush well function value for (u, rho)\n",
    "    \"\"\"\n",
    "    try:\n",
    "        u =float(u)\n",
    "        rho =float(rho)\n",
    "    except:\n",
    "        print(\"u and rho must be scalars.\")\n",
    "        raise ValueError()\n",
    "\n",
    "    LOGINF = 2\n",
    "    y = numpy.logspace(numpy.log10(u), LOGINF, 1000)\n",
    "    ym = 0.5 * (y[:-1]+  y[1:])\n",
    "    dy = numpy.diff(y)\n",
    "    w = numpy.sum(numpy.exp(-ym - (rho / 2)**2 / ym ) * dy / ym)\n",
    "    return w"
   ]
  },
  {
   "cell_type": "code",
   "execution_count": 4,
   "metadata": {},
   "outputs": [
    {
     "data": {
      "text/plain": [
       "0.7015000135841929"
      ]
     },
     "execution_count": 4,
     "metadata": {},
     "output_type": "execute_result"
    }
   ],
   "source": [
    "wh(0.4,0.06)"
   ]
  },
  {
   "cell_type": "markdown",
   "metadata": {},
   "source": [
    "## References\n",
    "1. [Leaky Well Functions](https://transientgroundwaterflow.readthedocs.io/en/latest/WellInLeakyAquifer.html)"
   ]
  },
  {
   "cell_type": "code",
   "execution_count": null,
   "metadata": {},
   "outputs": [],
   "source": []
  }
 ],
 "metadata": {
  "kernelspec": {
   "display_name": "Python 3",
   "language": "python",
   "name": "python3"
  },
  "language_info": {
   "codemirror_mode": {
    "name": "ipython",
    "version": 3
   },
   "file_extension": ".py",
   "mimetype": "text/x-python",
   "name": "python",
   "nbconvert_exporter": "python",
   "pygments_lexer": "ipython3",
   "version": "3.8.10"
  }
 },
 "nbformat": 4,
 "nbformat_minor": 4
}