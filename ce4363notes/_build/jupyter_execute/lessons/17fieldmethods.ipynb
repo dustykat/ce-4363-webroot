{
 "cells": [
  {
   "cell_type": "markdown",
   "metadata": {},
   "source": [
    "# Field Methods\n",
    "\n"
   ]
  },
  {
   "cell_type": "markdown",
   "metadata": {},
   "source": [
    "## References\n",
    "\n",
    "1. [Seismic Refraction Techniques](http://54.243.252.9/ce-4363-webroot/3-Readings/ApplicationofSeismic-RefractionTechniquestoHydrologicStudies.pdf)\n",
    "2. [Logging Techniques](http://54.243.252.9/ce-4363-webroot/3-Readings/Lecture011.PDF)"
   ]
  },
  {
   "cell_type": "code",
   "execution_count": null,
   "metadata": {},
   "outputs": [],
   "source": []
  }
 ],
 "metadata": {
  "kernelspec": {
   "display_name": "Python 3",
   "language": "python",
   "name": "python3"
  },
  "language_info": {
   "codemirror_mode": {
    "name": "ipython",
    "version": 3
   },
   "file_extension": ".py",
   "mimetype": "text/x-python",
   "name": "python",
   "nbconvert_exporter": "python",
   "pygments_lexer": "ipython3",
   "version": "3.8.10"
  }
 },
 "nbformat": 4,
 "nbformat_minor": 4
}