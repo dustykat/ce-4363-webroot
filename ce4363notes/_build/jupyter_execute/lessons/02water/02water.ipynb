{
 "cells": [
  {
   "cell_type": "markdown",
   "metadata": {},
   "source": [
    "# Water (Fetter pp. 1-23)\n",
    "\n",
    "## Hydrology\n",
    "\n",
    "The study of the occurance, distribution, movement, and chemistry of water\n",
    "\n",
    "## Hydrogeology\n",
    "\n",
    "The interrelationships of geologic materials and water (geohydrology is an alternative term)\n"
   ]
  },
  {
   "cell_type": "markdown",
   "metadata": {},
   "source": [
    "## Hydrologic Cycle \n",
    "\n",
    "Usual definition, but here we focus on the subsurface portion.\n",
    "\n",
    "Here is a typical diagram depicting the hydrologic cycle.  \n",
    "\n",
    "![](hydrologic_cycle.png)\n",
    "\n",
    "The driving force for the cycle (not shown) is solar energy that provides the energy to vaporize liquid water that then rises into clouds, moves onshore, and rains (or snow, sleet, $\\dots$.  and other forms of <strong>precipitation</strong>)\n",
    "A portion of the rain becomes runoff, another portion returns to the atmosphere as evaporation, another portion infiltrates into the ground and becomes groundwater.\n",
    "\n",
    "The surface water system would be the part of the diagram that lies above the plane defined by the ocean and infiltration line.\n",
    "The subsurface system is the part that is below this plane.\n",
    "\n",
    "Expressed as a simple system diagram it would be depicted in the figure below\n",
    "\n",
    "![](system_diagram.png)"
   ]
  },
  {
   "cell_type": "markdown",
   "metadata": {},
   "source": [
    "## Hydrologic Equation (Water Budget)\n",
    "\n",
    "The water budget, or <strong>hydrologic balance</strong> is simply the expression of the conservation of mass in hydrologic terms for a hydrologic system.  \n",
    "Generally it is expressed as a rate (or volume) balance.\n",
    "The hydrologic equation is the fundamental tool in hydrology to describe amounts of water in storage in different compartments at different scales.  \n",
    "\n",
    "The equation expressed in “words” is\n",
    "\n",
    "Rate of inflow - Rate of outflow =  Rate of change of storage + Rate of internal mass generation.\n",
    "\n",
    "Symbolically it is exrepssed as:\n",
    "\n",
    "$$ \\frac{dI}{dt} - \\frac{dO}{dt} = \\frac{dS}{dt} + \\frac{dG}{dt}$$\n",
    "\n",
    "where\n",
    "\n",
    "$I$ is inflow volume, $O$ is outflow volume, $S$ is storage volume (i.e. within a watershed), and $G$ is generated volume.\n",
    "$G$ is generally zero, but is included to be consistent with the balance equations you have learned elsewhere (i.e. environmental engineering, chemistry, $\\dots$)\n",
    "\n",
    "### Surface Hydrologic System\n",
    "\n",
    "Here is the surface water system broken into its own sub-system.\n",
    "\n",
    "![](surface_system_diagram.png)\n",
    "\n",
    "Notice the dashed line is the boundary – exactly like a control volume in fluids.\n",
    "\n",
    "### Surface Water Budget\n",
    "\n",
    "From the surface water system diagram, appropriate budget components are:\n",
    "\n",
    "- Inflows:  Rainfall; Surface water from outside boundary, recharge from Groundwater.\n",
    "- Outflows: Evapotranspiration; Surface water leaving boundary; Infiltration to groundwater.\n",
    "- Storage:  Water levels in lakes, rivers, ponds within the boundary; water stored on leaves and other surfaces.\n",
    "\n",
    "### Sub-surface Hydrologic System\n",
    "\n",
    "Here is the sub-surface water system broken into its own sub-system.\n",
    "\n",
    "![](subsurface_system_diagram.png)\n",
    "\n",
    "Notice the dashed line is the boundary – exactly like a control volume in fluids.\n",
    "\n",
    "### Sub-surface Water Budget\n",
    "\n",
    "From the sub-surface water system diagram, appropriate budget components are:\n",
    "\n",
    "- Inflows:  Groundwater flow from outside boundary; Recharge from surface system (via infiltration)\n",
    "- Outflows: Groundwater flow out of the boundary; Discharge (pumping; springs) to surface system\n",
    "- Storage:  Water levels in aquifers within the boundary\n",
    "\n",
    "### Combined Hydrologic System\n",
    "Here are the two systems “combined.”\n",
    "Communication is by the two shaded paths on the figure. \n",
    "\n",
    "![](combined_system_diagram.png)\n",
    "\n",
    "Loss from the surface system becomes gain to the ground system.\n",
    "Loss from the ground system becomes gain to the surface system."
   ]
  },
  {
   "cell_type": "markdown",
   "metadata": {},
   "source": [
    "## Business Aspects\n",
    "\n",
    "- Contracts\n",
    "- Salary\n",
    "- Overhead\n",
    "- Insurance\n",
    "\n",
    "## Ethics\n",
    "\n",
    "- Professional development (continuing education)\n",
    "- Honest reporting\n",
    "- Advice of bad findings\n",
    "- Prevent violation of regulations\n",
    "- Conflict of interest\n"
   ]
  },
  {
   "cell_type": "markdown",
   "metadata": {},
   "source": [
    "## Data Sources"
   ]
  },
  {
   "cell_type": "markdown",
   "metadata": {},
   "source": [
    "## References\n",
    "\n",
    "1. [Heath, R.C., 1983. Basic ground-waterhydrology: U.S. Geological Survey Water-SupplyPaper 2220, **pp. 1-5**](https://3.137.111.182/ce-3354-webbook/3-Readings/USGS-WSP2020-GroundwaterHydrology/usgs-wsp-2020.pdf) \n",
    "\n",
    "2. [Viessman,W., Knapp, J.W., Lewis, G. L., and Harbaugh, T.E. 1977. \"Groundwater Hydrology – Chapter 8\" in *Introduction to Hydrology* 2ed. IEP Publishers, New York, **pp. 291-342**](https://3.137.111.182/ce-3354-webbook/3-Readings/Groundwater-Viessman/GroundwaterHydrology.pdf) \n",
    "\n",
    "3. [Wisler, C.O, and Brater, E.F. 1949. \"Hydrology\" John Wiley and Sons, New York **pp. 198-272**](https://3.137.111.182/ce-3354-webbook/3-Readings/Groundwater-Wisler&Brater/Groundwater-Wisler.pdf) "
   ]
  },
  {
   "cell_type": "code",
   "execution_count": null,
   "metadata": {},
   "outputs": [],
   "source": []
  }
 ],
 "metadata": {
  "kernelspec": {
   "display_name": "Python 3",
   "language": "python",
   "name": "python3"
  },
  "language_info": {
   "codemirror_mode": {
    "name": "ipython",
    "version": 3
   },
   "file_extension": ".py",
   "mimetype": "text/x-python",
   "name": "python",
   "nbconvert_exporter": "python",
   "pygments_lexer": "ipython3",
   "version": "3.8.10"
  }
 },
 "nbformat": 4,
 "nbformat_minor": 4
}