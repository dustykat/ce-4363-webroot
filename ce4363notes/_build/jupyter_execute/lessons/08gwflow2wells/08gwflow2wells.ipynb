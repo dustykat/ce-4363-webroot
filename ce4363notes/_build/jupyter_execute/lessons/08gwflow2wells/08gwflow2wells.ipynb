{
 "cells": [
  {
   "cell_type": "markdown",
   "metadata": {},
   "source": [
    "# Groundwater Flow to Wells - I (pp. 156-162)\n",
    "\n",
    "## Terminology\n",
    "\n",
    "- Drawdown\n",
    "- Cone of Depression\n",
    "- Well interference\n",
    "\n",
    "Have already examined steady flow solutions.\n",
    "\n",
    "## Unsteady Flow Solutions\n",
    "\n",
    "There are two ways to proceede - just apply the groundwater flow equatrions or use a plasuibility argument to infer what solutions might look like.\n",
    "\n",
    "**Infer Structure**\n",
    "\n",
    "![](f2w-001.png)\n",
    "\n",
    "![](f2w-002.png)\n",
    "\n",
    "![](f2w-003.png)\n",
    "\n",
    "![](f2w-004.png)\n",
    "\n",
    "![](f2w-005.png)\n",
    "\n",
    "![](f2w-006.png)\n",
    "\n",
    "![](f2w-007.png)\n",
    "\n",
    "![](f2w-008.png)\n",
    "\n",
    "![](f2w-009.png)\n",
    "\n",
    "![](f2w-010.png)\n",
    "\n",
    "**Apply Groundwater Flow Equations**\n",
    "\n",
    "![](cf2well001.png)\n",
    "\n",
    "![](cf2well002.png)\n",
    "\n",
    "![](cf2well003.png)\n",
    "\n",
    "![](cf2well004.png)\n",
    "\n",
    "![](cf2well005.png)\n",
    "\n",
    "![](cf2well006.png)\n",
    "\n",
    "![](cf2well007.png)\n"
   ]
  },
  {
   "cell_type": "markdown",
   "metadata": {},
   "source": [
    "## Implementing Solutions\n",
    "\n",
    "In the olden days, one would look up well function values in tabulations such as [TWRI BOOK 3 Chapter B3 TYPE CURVES FOR SELECTED PROBLEMS OF FLOW TO WELLS IN CONFINED AQUIFERS](https://pubs.usgs.gov/twri/twri3-b3/pdf/TWRI_3-B3.pdf)\n",
    "\n",
    "Many of the special functions were leter embedded in the analysis packages for spreadsheets.\n",
    "\n",
    "Or one can simply program themselves as shown below:"
   ]
  },
  {
   "cell_type": "code",
   "execution_count": 1,
   "metadata": {},
   "outputs": [],
   "source": [
    "def W(u): # Theis well function using exponential integral\n",
    "    import scipy.special as sc\n",
    "    w = sc.expn(1,u)\n",
    "    return(w)\n",
    "\n",
    "def s(radius,time,storage,transmissivity,discharge): # Drawdown function using exponential integral\n",
    "    import math\n",
    "    u = ((radius**2)*(storage))/(4*transmissivity*time)\n",
    "    s = ((discharge)/(4*math.pi*transmissivity))*W(u)\n",
    "    return(s)"
   ]
  },
  {
   "cell_type": "markdown",
   "metadata": {},
   "source": [
    "Lets choose an the example from the book on pg. 162 to illustrate the homebrew script.  The relevant problem parametrs are:\n",
    "\n",
    "- $K = 14.9 m/d$\n",
    "- $b = 20.1 m$\n",
    "- $T = Kb = 299 m^2/d$\n",
    "- $S = 0.0051$\n",
    "- $Q_w = 2725 m^3/d$\n",
    "- $r = 7.0 m $\n",
    "- $t = 1 d$"
   ]
  },
  {
   "cell_type": "code",
   "execution_count": 2,
   "metadata": {},
   "outputs": [
    {
     "name": "stdout",
     "output_type": "stream",
     "text": [
      "Drawdown is  5.73  meters\n"
     ]
    }
   ],
   "source": [
    "radius=7.0\n",
    "time=1.0\n",
    "storage=0.0051\n",
    "transmissivity=299\n",
    "discharge=2725\n",
    "\n",
    "print(\"Drawdown is \",round(s(radius,time,storage,transmissivity,discharge),2),\" meters\")"
   ]
  },
  {
   "cell_type": "markdown",
   "metadata": {},
   "source": [
    "## References\n",
    "\n",
    "1.  [Cleveland, T.G., (2001) *Groundwater Hydrology - Lecture 009* Lecture Notes to accompany CE 6361 at the University of Houston](http://54.243.252.9/ce-4363-webroot/ce4363notes/lessons/08gwflow2wells/Lecture009.PDF)\n",
    "\n",
    "2. [TWRI BOOK 3 Chapter B3 TYPE CURVES FOR SELECTED PROBLEMS OF FLOW TO WELLS IN CONFINED AQUIFERS](https://pubs.usgs.gov/twri/twri3-b3/pdf/TWRI_3-B3.pdf)"
   ]
  },
  {
   "cell_type": "code",
   "execution_count": null,
   "metadata": {},
   "outputs": [],
   "source": []
  }
 ],
 "metadata": {
  "kernelspec": {
   "display_name": "Python 3",
   "language": "python",
   "name": "python3"
  },
  "language_info": {
   "codemirror_mode": {
    "name": "ipython",
    "version": 3
   },
   "file_extension": ".py",
   "mimetype": "text/x-python",
   "name": "python",
   "nbconvert_exporter": "python",
   "pygments_lexer": "ipython3",
   "version": "3.8.10"
  }
 },
 "nbformat": 4,
 "nbformat_minor": 4
}