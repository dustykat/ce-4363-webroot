{
 "cells": [
  {
   "cell_type": "markdown",
   "metadata": {},
   "source": [
    "# Groundwater Flow to Wells - III\n",
    "\n",
    "## Image Wells\n",
    "\n",
    "## Aquifer Pumping Tests\n",
    "\n",
    "![](aquifertests.png)\n",
    "\n",
    "### Specific Capacity (pp. 211-212)\n",
    "\n",
    "![](specCapacity1.png)\n",
    "\n",
    "![](specCapacity2.png)\n",
    "\n",
    "### Pumping Tests\n",
    "\n",
    "Different interpretation based on suspected aquifer structure.\n",
    "\n",
    "![](aqpump1.png)"
   ]
  },
  {
   "cell_type": "markdown",
   "metadata": {},
   "source": [
    "#### Type Curve Analysis (pp. 172-179)\n",
    "\n",
    "![](typecurve1.png)\n",
    "\n",
    "![](typecurve2.png)\n",
    "\n",
    "![](typecurve3.png)\n",
    "\n",
    "**Example**\n",
    "\n",
    "![](example1-1.png)\n",
    "\n",
    "![](example1-2.png)\n",
    "\n",
    "![](example1-3.png)\n",
    "\n",
    "![](example1-4.png)\n",
    "\n",
    "This example also appears in [Cleveland, T.G., 1996. ”Type-Curve Matching using a Computer Spreadsheet,”\n",
    "Ground Water, Vol. 34, No. 3.](http://54.243.252.9/about-me-webroot/about-me/MyWebPapers/journal_papers/type_curve_jgw_1996/type_curve_jgw_1996.pdf)\n",
    "\n",
    "Here is a blank [Theis Type Curve](http://54.243.252.9/ce-4363-webroot/ce4363notes/lessons/10gwflow2wells/theistypecurve.png)\n",
    "\n"
   ]
  },
  {
   "cell_type": "markdown",
   "metadata": {},
   "source": [
    "#### Cooper-Jacob Approximation (pp. 179-183)\n",
    "\n",
    "![](cooper1.png)\n",
    "\n",
    "![](cooper2.png)\n",
    "\n",
    "![](cooper3.png)"
   ]
  },
  {
   "cell_type": "markdown",
   "metadata": {},
   "source": [
    "#### Hantush Leaky Aquifer Analysis (pp. 185-189)\n",
    "\n",
    "![](walton1.png)\n",
    "\n",
    "![](walton2.png)\n",
    "\n",
    "**Example**\n",
    "\n",
    "![](walton3.png)\n",
    "\n",
    "![](walton4.png)\n",
    "\n",
    "![](walton5.png)\n",
    "\n",
    "![](walton6.png)\n",
    "\n",
    "This example also appears in [Cleveland, T.G., 1996. ”Type-Curve Matching using a Computer Spreadsheet,”\n",
    "Ground Water, Vol. 34, No. 3.](http://54.243.252.9/about-me-webroot/about-me/MyWebPapers/journal_papers/type_curve_jgw_1996/type_curve_jgw_1996.pdf)\n",
    "\n",
    "Here is a blank [Walton's Type Curve](http://54.243.252.9/ce-4363-webroot/ce4363notes/lessons/10gwflow2wells/waltonscurve.png)"
   ]
  },
  {
   "cell_type": "markdown",
   "metadata": {},
   "source": [
    "### Slug Tests (pp. 195-211)\n",
    "\n",
    "[Slug Test wikipedia](https://en.wikipedia.org/wiki/Slug_test)\n",
    "\n",
    "**Hvorslov's Approach**\n",
    "\n",
    "![](slug1.png)\n",
    "\n",
    "![](slug2.png)\n",
    "\n",
    "![](slug3.png)\n",
    "\n",
    "![](slug4.png)\n",
    "\n",
    "![](slug5.png)\n",
    "\n",
    "![](slug6.png)\n",
    "\n",
    "The spreadsheet above is located at [Slugtest_001.xls](http://54.243.252.9/ce-4363-webroot/ce4363notes/lessons/10gwflow2wells/Slugtest_001.xls)\n",
    "\n",
    "**Nugyen and Pinder Approach**\n",
    "\n",
    "![](np1.png)\n",
    "\n",
    "![](np2.png)\n",
    "\n",
    "![](np3.png)\n",
    "\n"
   ]
  },
  {
   "cell_type": "markdown",
   "metadata": {},
   "source": []
  },
  {
   "cell_type": "markdown",
   "metadata": {},
   "source": [
    "## References\n",
    "\n",
    "1. [Cleveland, T.G., 1996. ”Type-Curve Matching using a Computer Spreadsheet,”\n",
    "Ground Water, Vol. 34, No. 3.](http://54.243.252.9/about-me-webroot/about-me/MyWebPapers/journal_papers/type_curve_jgw_1996/type_curve_jgw_1996.pdf)\n",
    "\n",
    "2. [Cleveland, T.G., 1996. ”Type-Curve Matching using a Computer Spreadsheet,”\n",
    "Ground Water, Vol. 34, No. 3. (Spreadsheets in the Document (XLS))](http://54.243.252.9/about-me-webroot/about-me/MyWebPapers/journal_papers/type_curve_jgw_1996/)\n",
    "\n",
    "3. [Hvorslev, 1951. \"Time Lag and Soil Permeability in Ground Water Observations\", Bulletin No. 36, U.S. Army Corps of Engineers p. 50.](https://health.hawaii.gov/heer/files/2021/07/Hvorslev1951.pdf)\n",
    "\n",
    "4. [Cleveland, T.G., (2001) *Groundwater Hydrology - Lecture 010* Lecture Notes to accompany CE 6361 at the University of Houston](http://54.243.252.9/ce-4363-webroot/ce4363notes/lessons/10gwflow2wells/Lecture010.PDF)\n",
    "\n"
   ]
  },
  {
   "cell_type": "code",
   "execution_count": null,
   "metadata": {},
   "outputs": [],
   "source": []
  }
 ],
 "metadata": {
  "kernelspec": {
   "display_name": "Python 3",
   "language": "python",
   "name": "python3"
  },
  "language_info": {
   "codemirror_mode": {
    "name": "ipython",
    "version": 3
   },
   "file_extension": ".py",
   "mimetype": "text/x-python",
   "name": "python",
   "nbconvert_exporter": "python",
   "pygments_lexer": "ipython3",
   "version": "3.8.10"
  }
 },
 "nbformat": 4,
 "nbformat_minor": 4
}