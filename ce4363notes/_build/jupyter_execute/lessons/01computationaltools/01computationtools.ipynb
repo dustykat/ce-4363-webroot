{
 "cells": [
  {
   "cell_type": "markdown",
   "metadata": {},
   "source": [
    "# Computational Tools\n",
    "\n",
    "Most computations related to Groundwater Hydrology can be accomplished using a computer spreadsheet such as Excel or LibreOffice.  Similarly, Jupyter Notebooks running a python kernel work well too, as does the **R** kernel.\n",
    "\n",
    "Complex groundwater modeling is professionally accomplished using accepted software such as **MODFLOW** akthough for pedagogic reasons, a bit of time is spent homebrewing simpler instances of such models.\n",
    "\n",
    "For homeworks Excel is sufficient, but show some sample calculations to explain each row in a spreadsheet.  Readers who are comfortable using Jupyter will find some advantages there.  \n",
    "\n",
    "The section on models presents three (3) alternative methods to build and run MODFLOW models."
   ]
  },
  {
   "cell_type": "code",
   "execution_count": null,
   "metadata": {},
   "outputs": [],
   "source": []
  }
 ],
 "metadata": {
  "kernelspec": {
   "display_name": "Python 3",
   "language": "python",
   "name": "python3"
  },
  "language_info": {
   "codemirror_mode": {
    "name": "ipython",
    "version": 3
   },
   "file_extension": ".py",
   "mimetype": "text/x-python",
   "name": "python",
   "nbconvert_exporter": "python",
   "pygments_lexer": "ipython3",
   "version": "3.8.10"
  }
 },
 "nbformat": 4,
 "nbformat_minor": 4
}