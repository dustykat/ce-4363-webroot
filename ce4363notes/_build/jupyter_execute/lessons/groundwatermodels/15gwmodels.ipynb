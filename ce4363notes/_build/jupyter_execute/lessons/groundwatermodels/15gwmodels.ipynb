{
 "cells": [
  {
   "cell_type": "markdown",
   "metadata": {},
   "source": [
    "# MODFLOW Program"
   ]
  },
  {
   "cell_type": "markdown",
   "metadata": {},
   "source": [
    "## Introduction\n",
    "\n",
    "*Adapted from [https://pubs.usgs.gov/fs/FS-121-97/](https://pubs.usgs.gov/fs/FS-121-97/)*\n",
    "\n",
    "The modular finite-difference groundwater flow model (MODFLOW) developed by the U.S. Geological Survey (USGS) is a computer program for simulating common features in groundwater systems (McDonald and Har- baugh, 1988; Harbaugh and McDonald, 1996). The program was constructed in the ear- ly 1980s and has continually evolved since then with development of many new packages and related programs for groundwater studies. Currently MODFLOW is the most widely used program in the world for simulating ground- water flow. The popularity of the program is attributed to the following factors:\n",
    "- The finite-difference method used by MODFLOW is relatively easy to understand and apply to a wide variety of real-world conditions.\n",
    "- MODDFLOW works on many different computer systems ranging from personal computers to super computers.\n",
    "- MODFLOW can be applied as a one- dimensional, two-dimensional, or quasi- or full three-dimensional model.\n",
    "- Each simulation feature of MODFLOW has been evensively tested.\n",
    "- Data input instructions and theory are well documented.\n",
    "- The modular program design of MODFLOW allows for new simulation features to be added with relative ease.\n",
    "- A wide variety of computer programs written by the USGS, other federal agencies, and private companies are available to analyze field data and con- struct input data sets for MODFLOW.\n",
    "- A wide variety of programs are available to read output from MODFLOW and graphically present model results in ways that are easily understood.\n",
    "- MODFLOW has been accepted in many court cases in the United States as a legitimate approach to analysis of groundwater systems.\n",
    "\n",
    "### Modeling\n",
    "\n",
    "Modeling is a tool used by engineers to make decisions regarding design and operation of an environmental system.  Models can be used to forecast future conditions in response to those decisions, select a best set of decisions based on some desired criterion, or determine the most likely physical values that explain an observed condition.\n",
    "\n",
    "Because most real systems are far too complicated to model as they are, a set of simplifying assumptions is posed to make the modeling problem tractable - this is often called the \"conceptual model\".  \n",
    "\n",
    "On the basis of these simplifying assumptions a \"mathematical model\" (usually balance equations) is created.  The solution of the mathematical model yields the behavior of the system being studied.\n",
    "\n",
    "After the model is created, it is \"calibrated\".  This is the process of adjusting model parameters (transmissivity, storativity, etc.), forcing inputs, and geometry until the model response is identical (within some tolerance) to the observed historical response of the real system.  Multiple calibrations can produce identical responses, so great care must be taken in calibrating and testing a model before using it  - once acceptably calibrated the model can be used for forecasting.\n",
    "\n",
    "**Classification of Environmental Models:**\n",
    "1. Physical models (experimentation) - usually impractical for groundwater 'systems'.\n",
    "2. Analog Models\n",
    "3. Mathematical Models\n",
    "  - Analytical solutions - application of calculus to achieve closed-form equations (some of which can be very difficult to evaluate).\n",
    "  - Numerical solutions - application of numerical methods to achieve accurate approximations to the governing equations."
   ]
  },
  {
   "cell_type": "markdown",
   "metadata": {},
   "source": [
    "## MODFLOW 6 (Using your own computer)\n",
    "\n",
    "This would be the preferred way to use MODFLOW for this class.  The install is not that hard, but alos not point and click.  A video showing an installation is available for viewing at:\n",
    "\n",
    "- [Installing ModelMuse and MODFLOW 6 on a local computer](https://www.youtube.com/watch?v=x_D_rvsQ-tI&feature=youtu.be)\n",
    "\n",
    "The installation process is:\n",
    "\n",
    "1. GOOGLE \"modflow 6\"  and/or select: [https://www.usgs.gov/software/modflow-6-usgs-modular-hydrologic-model](https://www.usgs.gov/software/modflow-6-usgs-modular-hydrologic-model) Download the MODFLOW 6 program (choose windows installer)\n",
    "\n",
    "2. GOOGLE \"ModelMuse\" and/or select: [https://www.usgs.gov/software/modelmuse-a-graphical-user-interface-groundwater-models](https://www.usgs.gov/software/modelmuse-a-graphical-user-interface-groundwater-models)  Download the interface program (installer for 32/64 bit.  Do not commit to 64 bit only (it might not work well).  When you get a real job, have an IT professional do the install and testing)\n",
    "\n",
    "3. Create C:/WRDAPP folder to house modflow binaries - note the folder attaches at C:/  any other path will probably mess things up later on.\n",
    "\n",
    "4. Install ModelMuse using installer (double click, accept defaults)\n",
    "\n",
    "5. Move the modflow package into C:/WRDAPP folder, extract package, put into folder root.\n",
    "\n",
    "6. Start ModelMuse\n",
    "  - create MODFLOW\n",
    "  - next\n",
    "  - next\n",
    "  - Model/MODFLOW Program Locations\n",
    "  - set the directory path (may need to edit names a bit)\n",
    "  \n",
    "7. Restart ModelMuse and run tutorial.\n",
    "  - Pray for smiley faces!\n",
    "  - Yay! Install complete."
   ]
  },
  {
   "cell_type": "markdown",
   "metadata": {},
   "source": [
    "## MODFLOW 6 (Using Shared On-Line Windows Server 2019 on AWS)\n",
    "\n",
    "A fully provisioned implementation of ModelMuse and MODFLOW 6 is available for use at:\n",
    "\n",
    "- **server name** kittyinthewindow.ddns.net\n",
    "- **user name** ce3372-share\n",
    "- **passwort** modflow63\\$hare\n",
    "\n",
    "You must access using a **Remote Desktop Protocol** client application, it is built-in to Windows\n",
    "\n",
    "- Windows Support Pages: [https://support.microsoft.com/en-us/windows/how-to-use-remote-desktop-5fe128d5-8fb1-7a23-3b8a-41e636865e8c](https://support.microsoft.com/en-us/windows/how-to-use-remote-desktop-5fe128d5-8fb1-7a23-3b8a-41e636865e8c)\n",
    "- Windows 10 Client: [https://apps.microsoft.com/store/detail/microsoft-remote-desktop/9WZDNCRFJ3PS?hl=en-au&gl=au&rtc=1&activetab=pivot%3Aoverviewtab](https://apps.microsoft.com/store/detail/microsoft-remote-desktop/9WZDNCRFJ3PS?hl=en-au&gl=au&rtc=1&activetab=pivot%3Aoverviewtab)\n",
    "- Mac OS Users: [https://apps.apple.com/app/microsoft-remote-desktop/id1295203466?mt=12](https://apps.apple.com/app/microsoft-remote-desktop/id1295203466?mt=12)\n",
    "- iOS Users: [https://apps.apple.com/app/microsoft-remote-desktop/id714464092](https://apps.apple.com/app/microsoft-remote-desktop/id714464092) **This would be really stupid to try to operate on a phone** but you could.  I think for iPad access this might make sense.\n",
    "- Other Drug Users (Android/Linux):[https://play.google.com/store/apps/details?id=com.microsoft.rdc.android](https://play.google.com/store/apps/details?id=com.microsoft.rdc.android)\n",
    "\n",
    "### Video Demonstrating Remote Connection\n",
    "\n",
    "A video demonstrating remote connection is available at [Login to shared server running ModelMuse and MODFLOW 6](https://youtu.be/3Rv6e61FBYk)"
   ]
  },
  {
   "cell_type": "markdown",
   "metadata": {},
   "source": [
    "## MODFLOW 1988 (On-Line Structured Input Files)\n",
    "\n",
    "A functioning web-accessible implementation of MODFLOW88 is available at [54.243.252.9](http://54.243.252.9/toolbox/gwhydraulics/modflow/).  This is the hardest to use in terms of file management and error interpretation, but is reasonably easy to employ if using legacy files and the older documentation.\n",
    "\n",
    "- **server name** http://54.243.252.9/toolbox/gwhydraulics/modflow/\n",
    "- **user name** MODFLOW99\n",
    "- **passwort** On-Line\n",
    "\n",
    "A video demonstrating the creation and running of a model using this implementation is available at [YouTube](https://youtu.be/ZxFDEgkOkzU)."
   ]
  },
  {
   "cell_type": "markdown",
   "metadata": {},
   "source": [
    "## References\n",
    "\n",
    "1. [Groundwater Modeling Exercise (used in video)](http://54.243.252.9/ce-4363-webroot/3-Readings/Groundwater_modelling_exercise.pdf)\n",
    "2. [MODFLOW Notes (Cleveland circa 1992)](http://54.243.252.9/ce-4363-webroot/3-Readings/modflowNotes01.pdf)  The Obleo Aquifer simulation in the MODFLOW88 video is described in these notes.\n",
    "3. [MODFLOW Manual (US EPA)](http://54.243.252.9/ce-4363-webroot/3-Readings/modflmn.pdf) An EPA training document on the use of MODFLOW"
   ]
  },
  {
   "cell_type": "code",
   "execution_count": null,
   "metadata": {},
   "outputs": [],
   "source": []
  }
 ],
 "metadata": {
  "kernelspec": {
   "display_name": "Python 3",
   "language": "python",
   "name": "python3"
  },
  "language_info": {
   "codemirror_mode": {
    "name": "ipython",
    "version": 3
   },
   "file_extension": ".py",
   "mimetype": "text/x-python",
   "name": "python",
   "nbconvert_exporter": "python",
   "pygments_lexer": "ipython3",
   "version": "3.8.10"
  }
 },
 "nbformat": 4,
 "nbformat_minor": 4
}