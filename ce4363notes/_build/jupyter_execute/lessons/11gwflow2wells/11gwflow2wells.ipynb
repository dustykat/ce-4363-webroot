{
 "cells": [
  {
   "cell_type": "markdown",
   "metadata": {},
   "source": [
    "# Groundwater Flow to Wells - IV\n",
    "\n",
    "## Well Interference (pp. 212-213)\n",
    "\n",
    "Well interference is the situation where the effect of one well impacts a nearby well, it is a particular kind of superposition.\n",
    "\n",
    "### Superposition (pp. 213-216) \n",
    "\n",
    "A technique of adding solutions (perhaps adjusted in space and time) to mimic response of complex systems as an array of simple systems.\n",
    "\n",
    "![](superp1.png)\n",
    "\n",
    "![](superp2.png)\n",
    "\n",
    "![](superp3.png)\n",
    "\n",
    "![](superp4.png)\n",
    "\n",
    "![](superp5.png)\n",
    "\n",
    "![](superp6.png)"
   ]
  },
  {
   "cell_type": "code",
   "execution_count": 1,
   "metadata": {},
   "outputs": [],
   "source": [
    "# Build a simulator in class."
   ]
  },
  {
   "cell_type": "code",
   "execution_count": 2,
   "metadata": {},
   "outputs": [],
   "source": [
    "def W(u): # Theis well function using exponential integral\n",
    "    import scipy.special as sc\n",
    "    w = sc.expn(1,u)\n",
    "    return(w)\n",
    "\n",
    "def s(radius,time,storage,transmissivity,discharge): # Drawdown function using exponential integral\n",
    "    import math\n",
    "    u = ((radius**2)*(storage))/(4*transmissivity*time)\n",
    "    s = ((discharge)/(4*math.pi*transmissivity))*W(u)\n",
    "    return(s)"
   ]
  },
  {
   "cell_type": "code",
   "execution_count": 3,
   "metadata": {},
   "outputs": [],
   "source": [
    "# wellfield simulator \n",
    "import math\n",
    "# aquifer properties\n",
    "T = 1.0 #m2/d\n",
    "S = 0.0005 #some pretty small value - confined\n",
    "t = 365. # specify simulation time\n",
    "# pumping/injection wells [wellID,xloc,yloc,Q]\n",
    "pmpwells =[[1,-1200,0,100.],\\\n",
    "[2, 1200,0,100.]]\n",
    "# observation wells\n",
    "obswells = [\\\n",
    " [1,-1000,0],\\\n",
    " [2,-900,0],\\\n",
    " [3,-800,0],\\\n",
    " [4,-700,0],\\\n",
    " [5,-600,0],\\\n",
    " [6,-500,0],\\\n",
    " [7,-400,0],\\\n",
    " [8,-300,0],\\\n",
    " [9,-200,0],\\\n",
    " [10,0,0]\\\n",
    "]\n",
    "ddnobs = [0 for i in range(len(obswells))]\n",
    "for iobs in range(len(obswells)):\n",
    "    for jpmp in range(len(pmpwells)):\n",
    "        distance = math.sqrt((obswells[iobs][1]-pmpwells[jpmp][1])**2 + (obswells[iobs][2]-pmpwells[jpmp][2])**2)\n",
    "        pumpage = float(pmpwells[jpmp][3])\n",
    "        ddn = s(distance,t,S,T,pumpage)\n",
    "        ddnobs[iobs]=ddnobs[iobs]+ddn\n",
    "    \n",
    "position = [0 for i in range(len(obswells))]\n",
    "for i in range(len(obswells)):\n",
    "    position[i]=obswells[i][1]\n",
    "    \n",
    "# import the package"
   ]
  },
  {
   "cell_type": "code",
   "execution_count": 4,
   "metadata": {},
   "outputs": [
    {
     "data": {
      "image/png": "[encoded data removed]",
      "text/plain": [
       "<Figure size 432x288 with 1 Axes>"
      ]
     },
     "metadata": {
      "filenames": {
       "image/png": "/home/sensei/ce-4363-webroot/ce4363notes/_build/jupyter_execute/lessons/11gwflow2wells/11gwflow2wells_4_0.png"
      },
      "needs_background": "light"
     },
     "output_type": "display_data"
    }
   ],
   "source": [
    "import matplotlib.pyplot as plt\n",
    "graph, (plot1) = plt.subplots(1, 1) # create a 1X1 plotting frame\n",
    "# Code adapted from: https://www.geeksforgeeks.org/how-to-reverse-axes-in-matplotlib/\n",
    "plot1.plot(position, ddnobs, c='red', marker='x',linewidth=1) # basic line plot\n",
    "#plot1.set_xscale('log') # set x-axis to display a logarithmic scale #################\n",
    "plot1.set_ylim([0,40])\n",
    "plot1.set_xlim([-1200,0])\n",
    "plot1.invert_yaxis()\n",
    "plot1.set_xlabel('Distance (m)') # label the x-axis\n",
    "plot1.set_ylabel('Drawdown (m)') # label the y-axis, notice the LaTex markup\n",
    "plot1.set_title('Drawdown vs Distance along X-axis') # make a plot title\n",
    "plot1.grid() # display a grid\n",
    "plt.show() # display the plot"
   ]
  },
  {
   "cell_type": "markdown",
   "metadata": {},
   "source": [
    "## Recovery Tests (pp. 216-218)"
   ]
  },
  {
   "cell_type": "markdown",
   "metadata": {},
   "source": [
    "A recovery test uses a short term pumping interval then observes the recovery allowing for the use of a single well to infer both transmissivity and storage properties.  It is esentially an application of superposition in time (also called convolution)\n",
    "\n",
    "A simple example using a Theis solution is illustrated below.\n",
    "\n",
    "**Example**\n",
    "\n",
    "An aquifer with $T=50 m^2/d$, $S=6 \\times 10^{-5}$ is pumped at a rate of 1000 $m^3/d$ for 6 hours.  Neglecting any well losses, plot the drawdown vs time for the aquifer, every minute for one day (1440 minutes) at a radius of 15.24 m. "
   ]
  },
  {
   "cell_type": "code",
   "execution_count": 5,
   "metadata": {},
   "outputs": [],
   "source": [
    "def W(u): # Theis well function using exponential integral\n",
    "    import scipy.special as sc\n",
    "    w = sc.expn(1,u)\n",
    "    return(w)\n",
    "\n",
    "def s(radius,time,storage,transmissivity,discharge): # Drawdown function using exponential integral\n",
    "    import math\n",
    "    u = ((radius**2)*(storage))/(4*transmissivity*time)\n",
    "    s = ((discharge)/(4*math.pi*transmissivity))*W(u)\n",
    "    return(s)"
   ]
  },
  {
   "cell_type": "code",
   "execution_count": 6,
   "metadata": {},
   "outputs": [
    {
     "data": {
      "image/png": "[encoded data removed]",
      "text/plain": [
       "<Figure size 432x288 with 1 Axes>"
      ]
     },
     "metadata": {
      "filenames": {
       "image/png": "/home/sensei/ce-4363-webroot/ce4363notes/_build/jupyter_execute/lessons/11gwflow2wells/11gwflow2wells_8_0.png"
      },
      "needs_background": "light"
     },
     "output_type": "display_data"
    }
   ],
   "source": [
    "import math\n",
    "# aquifer properties\n",
    "Q = 500 #m^3/day\n",
    "T = 50.0 #m2/d\n",
    "S = 0.00006 #some pretty small value - confined\n",
    "t = [0 for i in range(1440)]\n",
    "radius =15.24 # radius in meters\n",
    "for i in range(1440):\n",
    "    t[i]=float(i/1440.0) # time in days\n",
    "# now for some trickery to figure out the drawdowns\n",
    "ddn1 = [0 for i in range(1440)] # well starting at time 0\n",
    "ddn2 = [0 for i in range(1440)] # time image well at time 6 hrs (360 minutes)\n",
    "\n",
    "# well starting at time 0\n",
    "for i in range(1,1440):\n",
    "    ddn1[i]=s(radius,t[i],S,T,Q)\n",
    "# well starting at time 6 hrs\n",
    "    if i > 360: \n",
    "        ddn2[i]=s(radius,t[i]-(360/1440),S,T,-Q) #note the sign change, and time shift\n",
    "# now add the drawdowns\n",
    "for i in range(0,1440):\n",
    "    ddn1[i]=ddn1[i]+ddn2[i]\n",
    "# now the plot\n",
    "import matplotlib.pyplot as plt\n",
    "graph, (plot1) = plt.subplots(1, 1) # create a 1X1 plotting frame\n",
    "# Code adapted from: https://www.geeksforgeeks.org/how-to-reverse-axes-in-matplotlib/\n",
    "plot1.plot(t, ddn1, c='red',linewidth=1) # basic line plot\n",
    "#plot1.set_xscale('log') # set x-axis to display a logarithmic scale #################\n",
    "#plot1.set_ylim([0,40])\n",
    "#plot1.set_xlim([-1200,0])\n",
    "plot1.invert_yaxis()\n",
    "plot1.set_xlabel('Time (days)') # label the x-axis\n",
    "plot1.set_ylabel('Drawdown (m)') # label the y-axis, notice the LaTex markup\n",
    "plot1.set_title('Drawdown vs Time at Well Screen') # make a plot title\n",
    "plot1.grid() # display a grid\n",
    "plt.show() # display the plot"
   ]
  },
  {
   "cell_type": "markdown",
   "metadata": {},
   "source": [
    "One can conduct such a test in the well and by fitting observations to the recovery curve, infer the formation constants."
   ]
  },
  {
   "cell_type": "code",
   "execution_count": null,
   "metadata": {},
   "outputs": [],
   "source": []
  }
 ],
 "metadata": {
  "kernelspec": {
   "display_name": "Python 3",
   "language": "python",
   "name": "python3"
  },
  "language_info": {
   "codemirror_mode": {
    "name": "ipython",
    "version": 3
   },
   "file_extension": ".py",
   "mimetype": "text/x-python",
   "name": "python",
   "nbconvert_exporter": "python",
   "pygments_lexer": "ipython3",
   "version": "3.8.10"
  }
 },
 "nbformat": 4,
 "nbformat_minor": 4
}