{
 "cells": [
  {
   "cell_type": "markdown",
   "metadata": {},
   "source": [
    "# Groundwater Flow to Wells - IV\n",
    "\n",
    "## Well Interference (pp. 212-213)\n",
    "\n",
    "Well interference is the situation where the effect of one well impacts a nearby well, it is a particular kind of superposition.\n",
    "\n",
    "### Superposition (pp. 213-216) \n",
    "\n",
    "A technique of adding solutions (perhaps adjusted in space and time) to mimic response of complex systems as an array of simple systems.\n",
    "\n",
    "![](superp1.png)\n",
    "\n",
    "![](superp2.png)\n",
    "\n",
    "![](superp3.png)\n",
    "\n",
    "![](superp4.png)\n",
    "\n",
    "![](superp5.png)\n",
    "\n",
    "![](superp6.png)"
   ]
  },
  {
   "cell_type": "code",
   "execution_count": 1,
   "metadata": {},
   "outputs": [],
   "source": [
    "# Build a simulator in class."
   ]
  },
  {
   "cell_type": "code",
   "execution_count": 2,
   "metadata": {},
   "outputs": [],
   "source": [
    "def W(u): # Theis well function using exponential integral\n",
    "    import scipy.special as sc\n",
    "    w = sc.expn(1,u)\n",
    "    return(w)\n",
    "\n",
    "def s(radius,time,storage,transmissivity,discharge): # Drawdown function using exponential integral\n",
    "    import math\n",
    "    u = ((radius**2)*(storage))/(4*transmissivity*time)\n",
    "    s = ((discharge)/(4*math.pi*transmissivity))*W(u)\n",
    "    return(s)"
   ]
  },
  {
   "cell_type": "code",
   "execution_count": 3,
   "metadata": {},
   "outputs": [
    {
     "name": "stdout",
     "output_type": "stream",
     "text": [
      "Time(days)|Radius(m)|Drawdown(m)|\n"
     ]
    },
    {
     "name": "stdout",
     "output_type": "stream",
     "text": [
      "        30|        50|       31.81|\n",
      "        30|       150|       14.97|\n",
      "        30|       250|        8.06|\n",
      "        30|       500|        1.63|\n",
      "        30|      1000|        0.02|\n",
      "        30|      3000|        0.00|\n",
      "        30|      6000|        0.00|\n",
      "        30|     10000|        0.00|\n"
     ]
    },
    {
     "ename": "AttributeError",
     "evalue": "module 'matplotlib.pyplot' has no attribute 'invert_yaxis'",
     "output_type": "error",
     "traceback": [
      "\u001b[0;31m---------------------------------------------------------------------------\u001b[0m",
      "\u001b[0;31mAttributeError\u001b[0m                            Traceback (most recent call last)",
      "\u001b[0;32m<ipython-input-3-89ee3203d8da>\u001b[0m in \u001b[0;36m<module>\u001b[0;34m\u001b[0m\n\u001b[1;32m     39\u001b[0m \u001b[0mmydata\u001b[0m \u001b[0;34m=\u001b[0m \u001b[0mplt\u001b[0m\u001b[0;34m.\u001b[0m\u001b[0mfigure\u001b[0m\u001b[0;34m(\u001b[0m\u001b[0mfigsize\u001b[0m \u001b[0;34m=\u001b[0m \u001b[0;34m(\u001b[0m\u001b[0;36m8\u001b[0m\u001b[0;34m,\u001b[0m\u001b[0;36m6\u001b[0m\u001b[0;34m)\u001b[0m\u001b[0;34m)\u001b[0m \u001b[0;31m# build a drawing canvass from figure class; aspect ratio 4x3\u001b[0m\u001b[0;34m\u001b[0m\u001b[0;34m\u001b[0m\u001b[0m\n\u001b[1;32m     40\u001b[0m \u001b[0mplt\u001b[0m\u001b[0;34m.\u001b[0m\u001b[0mplot\u001b[0m\u001b[0;34m(\u001b[0m\u001b[0mdistance\u001b[0m\u001b[0;34m,\u001b[0m \u001b[0mddn\u001b[0m\u001b[0;34m,\u001b[0m \u001b[0mc\u001b[0m\u001b[0;34m=\u001b[0m\u001b[0;34m'red'\u001b[0m\u001b[0;34m,\u001b[0m \u001b[0mmarker\u001b[0m\u001b[0;34m=\u001b[0m\u001b[0;34m'o'\u001b[0m\u001b[0;34m,\u001b[0m\u001b[0mlinewidth\u001b[0m\u001b[0;34m=\u001b[0m\u001b[0;36m1\u001b[0m\u001b[0;34m)\u001b[0m \u001b[0;31m# basic line plot\u001b[0m\u001b[0;34m\u001b[0m\u001b[0;34m\u001b[0m\u001b[0m\n\u001b[0;32m---> 41\u001b[0;31m \u001b[0mplt\u001b[0m\u001b[0;34m.\u001b[0m\u001b[0minvert_yaxis\u001b[0m\u001b[0;34m(\u001b[0m\u001b[0;34m)\u001b[0m\u001b[0;34m\u001b[0m\u001b[0;34m\u001b[0m\u001b[0m\n\u001b[0m\u001b[1;32m     42\u001b[0m \u001b[0mplt\u001b[0m\u001b[0;34m.\u001b[0m\u001b[0mxscale\u001b[0m\u001b[0;34m(\u001b[0m\u001b[0;34m'log'\u001b[0m\u001b[0;34m)\u001b[0m \u001b[0;31m# set x-axis to display a logarithmic scale #################\u001b[0m\u001b[0;34m\u001b[0m\u001b[0;34m\u001b[0m\u001b[0m\n\u001b[1;32m     43\u001b[0m \u001b[0mplt\u001b[0m\u001b[0;34m.\u001b[0m\u001b[0mxlabel\u001b[0m\u001b[0;34m(\u001b[0m\u001b[0;34m'Distance (m)'\u001b[0m\u001b[0;34m)\u001b[0m \u001b[0;31m# label the x-axis\u001b[0m\u001b[0;34m\u001b[0m\u001b[0;34m\u001b[0m\u001b[0m\n",
      "\u001b[0;31mAttributeError\u001b[0m: module 'matplotlib.pyplot' has no attribute 'invert_yaxis'"
     ]
    },
    {
     "data": {
      "image/png": "[encoded data removed]",
      "text/plain": [
       "<Figure size 576x432 with 1 Axes>"
      ]
     },
     "metadata": {
      "filenames": {
       "image/png": "/home/sensei/ce-4363-webroot/ce4363notes/_build/jupyter_execute/lessons/11gwflow2wells/11gwflow2wells_3_3.png"
      },
      "needs_background": "light"
     },
     "output_type": "display_data"
    }
   ],
   "source": [
    "def W(u): # Theis well function using exponential integral\n",
    "    import scipy.special as sc\n",
    "    w = sc.expn(1,u)\n",
    "    return(w)\n",
    "\n",
    "def s(radius,time,storage,transmissivity,discharge): # Drawdown function using exponential integral\n",
    "    import math\n",
    "    u = ((radius**2)*(storage))/(4*transmissivity*time)\n",
    "    s = ((discharge)/(4*math.pi*transmissivity))*W(u)\n",
    "    return(s)\n",
    "\n",
    "tt=30.0\n",
    "data = \\\n",
    "[[tt,50],\n",
    "[tt ,150],\n",
    "[tt ,250],\n",
    "[tt ,500],\n",
    "[tt ,1000],\n",
    "[tt ,3000],\n",
    "[tt ,6000],\n",
    "[tt ,10000]]\n",
    "\n",
    "S = 0.0005 # given\n",
    "T = 1.0 #m^2/day given\n",
    "Q = 100 #m^3/d given\n",
    "\n",
    "ddn = [0 for i in range(len(data))]\n",
    "time = [0 for i in range(len(data))]\n",
    "distance = [0 for i in range(len(data))]\n",
    "print(\"Time(days)|Radius(m)|Drawdown(m)|\")\n",
    "for irow in range(len(data)):\n",
    "    time[irow]=data[irow][0]\n",
    "    distance[irow]=data[irow][1]\n",
    "    ddn[irow] = s(distance[irow],time[irow],S,T,Q)\n",
    "    print(\"%10i|%10i|%12.2f|\"%(time[irow],distance[irow],round(ddn[irow],2)))\n",
    "\n",
    "# import the package\n",
    "from matplotlib import pyplot as plt\n",
    "mydata = plt.figure(figsize = (8,6)) # build a drawing canvass from figure class; aspect ratio 4x3\n",
    "plt.plot(distance, ddn, c='red', marker='o',linewidth=1) # basic line plot\n",
    "plt.invert_yaxis()\n",
    "plt.xscale('log') # set x-axis to display a logarithmic scale #################\n",
    "plt.xlabel('Distance (m)') # label the x-axis\n",
    "plt.ylabel('Drawdown (m)') # label the y-axis, notice the LaTex markup\n",
    "#plt.legend(['series1','series2...']) # legend for each series\n",
    "plt.title('Drawdown vs Distance') # make a plot title\n",
    "plt.grid() # display a grid\n",
    "plt.show() # display the plot"
   ]
  },
  {
   "cell_type": "markdown",
   "metadata": {},
   "source": [
    "## Recovery Tests (pp. 216-218)"
   ]
  },
  {
   "cell_type": "markdown",
   "metadata": {},
   "source": []
  },
  {
   "cell_type": "code",
   "execution_count": null,
   "metadata": {},
   "outputs": [],
   "source": []
  }
 ],
 "metadata": {
  "kernelspec": {
   "display_name": "Python 3",
   "language": "python",
   "name": "python3"
  },
  "language_info": {
   "codemirror_mode": {
    "name": "ipython",
    "version": 3
   },
   "file_extension": ".py",
   "mimetype": "text/x-python",
   "name": "python",
   "nbconvert_exporter": "python",
   "pygments_lexer": "ipython3",
   "version": "3.8.10"
  }
 },
 "nbformat": 4,
 "nbformat_minor": 4
}