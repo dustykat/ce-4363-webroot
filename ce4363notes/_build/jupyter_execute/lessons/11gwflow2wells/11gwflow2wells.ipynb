{
 "cells": [
  {
   "cell_type": "markdown",
   "metadata": {},
   "source": [
    "# Groundwater Flow to Wells - IV\n",
    "\n",
    "## Well Interference (pp. 212-213)\n",
    "\n",
    "Well interference is the situation where the effect of one well impacts a nearby well, it is a particular kind of superposition.\n",
    "\n",
    "### Superposition (pp. 213-216) \n",
    "\n",
    "A technique of adding solutions (perhaps adjusted in space and time) to mimic response of complex systems as an array of simple systems.\n",
    "\n",
    "![](superp1.png)\n",
    "\n",
    "![](superp2.png)\n",
    "\n",
    "![](superp3.png)\n",
    "\n",
    "![](superp4.png)\n",
    "\n",
    "![](superp5.png)\n",
    "\n",
    "![](superp6.png)"
   ]
  },
  {
   "cell_type": "code",
   "execution_count": 1,
   "metadata": {},
   "outputs": [],
   "source": [
    "# Build a simulator in class."
   ]
  },
  {
   "cell_type": "code",
   "execution_count": 2,
   "metadata": {},
   "outputs": [],
   "source": [
    "def W(u): # Theis well function using exponential integral\n",
    "    import scipy.special as sc\n",
    "    w = sc.expn(1,u)\n",
    "    return(w)\n",
    "\n",
    "def s(radius,time,storage,transmissivity,discharge): # Drawdown function using exponential integral\n",
    "    import math\n",
    "    u = ((radius**2)*(storage))/(4*transmissivity*time)\n",
    "    s = ((discharge)/(4*math.pi*transmissivity))*W(u)\n",
    "    return(s)"
   ]
  },
  {
   "cell_type": "code",
   "execution_count": 3,
   "metadata": {},
   "outputs": [
    {
     "ename": "SyntaxError",
     "evalue": "invalid syntax (<ipython-input-3-76fe8ce707b9>, line 38)",
     "output_type": "error",
     "traceback": [
      "\u001b[0;36m  File \u001b[0;32m\"<ipython-input-3-76fe8ce707b9>\"\u001b[0;36m, line \u001b[0;32m38\u001b[0m\n\u001b[0;31m    image [0 for i in range(len(data))]\u001b[0m\n\u001b[0m             ^\u001b[0m\n\u001b[0;31mSyntaxError\u001b[0m\u001b[0;31m:\u001b[0m invalid syntax\n"
     ]
    }
   ],
   "source": [
    "def W(u): # Theis well function using exponential integral\n",
    "    import scipy.special as sc\n",
    "    w = sc.expn(1,u)\n",
    "    return(w)\n",
    "\n",
    "def s(radius,time,storage,transmissivity,discharge): # Drawdown function using exponential integral\n",
    "    import math\n",
    "    u = ((radius**2)*(storage))/(4*transmissivity*time)\n",
    "    s = ((discharge)/(4*math.pi*transmissivity))*W(u)\n",
    "    return(s)\n",
    "\n",
    "tt=30.0\n",
    "data = \\\n",
    "[[tt,5],\n",
    "[tt ,50],\n",
    "[tt ,100],\n",
    "[tt ,200],\n",
    "[tt ,300],\n",
    "[tt ,600],\n",
    "[tt ,900],\n",
    "[tt ,1200]]\n",
    "\n",
    "modata = \\\n",
    "[[tt,5],\n",
    "[tt ,50],\n",
    "[tt ,100],\n",
    "[tt ,200],\n",
    "[tt ,300],\n",
    "[tt ,600],\n",
    "[tt ,900],\n",
    "[tt ,1200]]\n",
    "\n",
    "S = 0.0005 # given\n",
    "T = 1.0 #m^2/day given\n",
    "Q = 100 #m^3/d given\n",
    "\n",
    "ddn = [0 for i in range(len(data))]\n",
    "image [0 for i in range(len(data))]\n",
    "time = [0 for i in range(len(data))]\n",
    "distance = [0 for i in range(len(data))]\n",
    "print(\"Time(days)|Radius(m)|Drawdown(m)|\")\n",
    "for irow in range(len(data)):\n",
    "    time[irow]=data[irow][0]\n",
    "    distance[irow]=data[irow][1]\n",
    "    ddn[irow] = s(distance[irow],time[irow],S,T,Q)\n",
    "    print(\"%10i|%10i|%12.2f|\"%(time[irow],distance[irow],round(ddn[irow],2)))\n",
    "\n",
    "# import the package\n",
    "from matplotlib import pyplot as plt\n",
    "mydata = plt.figure(figsize = (8,6)) # build a drawing canvass from figure class; aspect ratio 4x3\n",
    "plt.plot(distance, ddn, c='red', marker='o',linewidth=1) # basic line plot\n",
    "#plt.invert_yaxis()\n",
    "#plt.xscale('log') # set x-axis to display a logarithmic scale #################\n",
    "plt.xlabel('Distance (m)') # label the x-axis\n",
    "plt.ylabel('Drawdown (m)') # label the y-axis, notice the LaTex markup\n",
    "#plt.legend(['series1','series2...']) # legend for each series\n",
    "plt.title('Drawdown vs Distance') # make a plot title\n",
    "plt.grid() # display a grid\n",
    "plt.show() # display the plot"
   ]
  },
  {
   "cell_type": "markdown",
   "metadata": {},
   "source": [
    "## Recovery Tests (pp. 216-218)"
   ]
  },
  {
   "cell_type": "markdown",
   "metadata": {},
   "source": []
  },
  {
   "cell_type": "code",
   "execution_count": null,
   "metadata": {},
   "outputs": [],
   "source": []
  }
 ],
 "metadata": {
  "kernelspec": {
   "display_name": "Python 3",
   "language": "python",
   "name": "python3"
  },
  "language_info": {
   "codemirror_mode": {
    "name": "ipython",
    "version": 3
   },
   "file_extension": ".py",
   "mimetype": "text/x-python",
   "name": "python",
   "nbconvert_exporter": "python",
   "pygments_lexer": "ipython3",
   "version": "3.8.10"
  }
 },
 "nbformat": 4,
 "nbformat_minor": 4
}