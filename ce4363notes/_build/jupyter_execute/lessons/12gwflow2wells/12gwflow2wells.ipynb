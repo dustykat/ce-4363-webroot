{
 "cells": [
  {
   "cell_type": "markdown",
   "metadata": {},
   "source": [
    "# Groundwater Flow to Wells IV\n",
    "\n",
    "## Slug Tests (pp 195-211)\n",
    "\n",
    "Discussed in earlier notes - Future editions put code here.\n",
    "\n",
    "## Partial Penetration (pp. 193-195)\n",
    "\n",
    "Discussion in the book.  Can be examined using methods described in [Recovery Performance for Vertical and Horizontal Wells Using Semi-Analytical Simulation, Ground Water, Vol. 32, No. 1, pp 103-107](http://54.243.252.9/about-me-webroot/about-me/MyWebPapers/journal_papers/horizontal_well_jgw_1994/)\n",
    "\n",
    "## Well Losses (pp. )\n",
    "\n",
    "When you turn your back and the well disappears, thats well loss.  Usually its been stolen by an Artesian.  Actually refers to the head loss across the well screen from the surrounding formation."
   ]
  },
  {
   "cell_type": "code",
   "execution_count": null,
   "metadata": {},
   "outputs": [],
   "source": []
  }
 ],
 "metadata": {
  "kernelspec": {
   "display_name": "Python 3",
   "language": "python",
   "name": "python3"
  },
  "language_info": {
   "codemirror_mode": {
    "name": "ipython",
    "version": 3
   },
   "file_extension": ".py",
   "mimetype": "text/x-python",
   "name": "python",
   "nbconvert_exporter": "python",
   "pygments_lexer": "ipython3",
   "version": "3.8.10"
  }
 },
 "nbformat": 4,
 "nbformat_minor": 4
}