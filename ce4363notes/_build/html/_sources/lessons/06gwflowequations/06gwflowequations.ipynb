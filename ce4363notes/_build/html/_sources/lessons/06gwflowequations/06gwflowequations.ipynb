{
 "cells": [
  {
   "cell_type": "markdown",
   "metadata": {},
   "source": [
    "# Groundwater Flow Equations (pp. 130-135; XX-XX)\n",
    "\n",
    "## Confined Aquifer\n",
    "\n",
    "$$S \\frac{\\partial h}{\\partial t} = \\frac{\\partial}{\\partial x}(T_x\\frac{\\partial h}{\\partial x}) \n",
    "+ \\frac{\\partial}{\\partial y}(T_y\\frac{\\partial h}{\\partial y}) \\pm source/sink $$\n",
    "\n",
    "## Unconfined Aquifer\n",
    "\n",
    "$$S_y \\frac{\\partial h}{\\partial t} = \\frac{\\partial}{\\partial x}(K_x h \\frac{\\partial h}{\\partial x}) \n",
    "+ \\frac{\\partial}{\\partial y}(K_y h \\frac{\\partial h}{\\partial y}) \\pm source/sink $$\n",
    "\n",
    "## Solutions (p. 134)\n",
    "\n",
    "Solved by a model that consists of the governing flow equation (one of the above), boundary conditions, and initial conditions.  Generally the goal is a description of the head at any location and time.  \n",
    "\n",
    "Solution methods:\n",
    "\n",
    "- Analysis.  Some geometries are suitable for analysis (using calculus), other complex geometries are solved using computer programs implementing numerical methods.\n",
    "- Computer Programs\n"
   ]
  },
  {
   "cell_type": "markdown",
   "metadata": {},
   "source": [
    "## References \n",
    "\n",
    "1. [Cleveland, T.G., (2001) *Groundwater Hydrology - Lecture 008* Lecture Notes to accompany CE 6361 at the University of Houston](http://54.243.252.9/ce-4363-webroot/ce4363notes/lessons/06gwflowequations/Lecture_008.PDF)"
   ]
  },
  {
   "cell_type": "code",
   "execution_count": null,
   "metadata": {},
   "outputs": [],
   "source": []
  }
 ],
 "metadata": {
  "kernelspec": {
   "display_name": "Python 3",
   "language": "python",
   "name": "python3"
  },
  "language_info": {
   "codemirror_mode": {
    "name": "ipython",
    "version": 3
   },
   "file_extension": ".py",
   "mimetype": "text/x-python",
   "name": "python",
   "nbconvert_exporter": "python",
   "pygments_lexer": "ipython3",
   "version": "3.8.10"
  }
 },
 "nbformat": 4,
 "nbformat_minor": 4
}
