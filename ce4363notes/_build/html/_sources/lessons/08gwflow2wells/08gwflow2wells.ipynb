{
 "cells": [
  {
   "cell_type": "markdown",
   "metadata": {},
   "source": [
    "# Groundwater Flow to Wells - I\n",
    "\n",
    "## Terminology\n",
    "\n",
    "- Drawdown\n",
    "- Cone of Depression\n",
    "- Well interference\n",
    "\n",
    "Have already examined steady flow solutions.\n",
    "\n",
    "## Unsteady Flow Solutions\n",
    "\n",
    "There are two ways to proceede - just apply the groundwater flow equatrions or use a plasuibility argument to infer what solutions might look like.\n",
    "\n",
    "**Infer Structure**\n",
    "\n",
    "![](f2w-001.png)\n",
    "\n",
    "![](f2w-002.png)\n",
    "\n",
    "![](f2w-003.png)\n",
    "\n",
    "![](f2w-004.png)\n",
    "\n",
    "![](f2w-005.png)\n",
    "\n",
    "![](f2w-006.png)\n",
    "\n",
    "![](f2w-007.png)\n",
    "\n",
    "![](f2w-008.png)\n",
    "\n",
    "![](f2w-009.png)\n",
    "\n",
    "![](f2w-010.png)\n",
    "\n",
    "**Apply Groundwater Flow Equations**\n",
    "\n",
    "![](cf2well001.png)\n",
    "\n",
    "![](cf2well002.png)\n",
    "\n",
    "![](cf2well003.png)\n",
    "\n",
    "![](cf2well004.png)\n",
    "\n",
    "![](cf2well005.png)\n",
    "\n",
    "![](cf2well006.png)\n",
    "\n",
    "![](cf2well007.png)\n"
   ]
  },
  {
   "cell_type": "markdown",
   "metadata": {},
   "source": [
    "## References\n",
    "\n",
    "1.  [Cleveland, T.G., (2001) *Groundwater Hydrology - Lecture 009* Lecture Notes to accompany CE 6361 at the University of Houston](http://54.243.252.9/ce-4363-webroot/ce4363notes/lessons/08gwflow2wells/Lecture009.PDF)"
   ]
  },
  {
   "cell_type": "code",
   "execution_count": null,
   "metadata": {},
   "outputs": [],
   "source": []
  },
  {
   "cell_type": "code",
   "execution_count": null,
   "metadata": {},
   "outputs": [],
   "source": []
  }
 ],
 "metadata": {
  "kernelspec": {
   "display_name": "Python 3",
   "language": "python",
   "name": "python3"
  },
  "language_info": {
   "codemirror_mode": {
    "name": "ipython",
    "version": 3
   },
   "file_extension": ".py",
   "mimetype": "text/x-python",
   "name": "python",
   "nbconvert_exporter": "python",
   "pygments_lexer": "ipython3",
   "version": "3.8.10"
  }
 },
 "nbformat": 4,
 "nbformat_minor": 4
}
