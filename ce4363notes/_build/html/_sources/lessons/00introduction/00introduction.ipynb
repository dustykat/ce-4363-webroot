{
 "cells": [
  {
   "cell_type": "markdown",
   "metadata": {},
   "source": [
    "# Introduction"
   ]
  },
  {
   "cell_type": "markdown",
   "metadata": {},
   "source": [
    "Usual introduction showing the syllabus, Blackboard and server access."
   ]
  },
  {
   "cell_type": "markdown",
   "metadata": {},
   "source": [
    "## Homework\n",
    "\n",
    "The homework assignments are accessed via BB which links to HTML pages on this server.  The assignments are intended to reinforce material in the lectures and book.\n",
    "\n",
    "Each problem can be cut-and-paste (as an image most) into a Word document (or LibreOffice).  Then for each problem provide\n",
    "\n",
    "- Given: (usually just the problem statement is sufficient, but you should get in the habit of listing given values) Text & symbols & vaules to describe scope\n",
    "- Find: unknowns and units\n",
    "- Scoring rubric (kind of):\n",
    " - (1/2 credit): identify the appropriate symbolic equations\n",
    " - (1/4 credit): connect problem statement to those equations (known/unknown)\n",
    " - (1/4 credit): complete solution - algebra, calculations, scripts.  Present answer with units and **highlight the answer**.\n",
    " \n",
    "If you choose to wirte on engineering paper, and scan into PDF, be sure your work is legible and organized (**not brain vomit**) and the scanned file is readable.  If I can't read it, it won't get assessed!\n",
    "\n",
    "- Start each problem on a new page (its a electronic document)\n",
    "- Work in order down page\n",
    "- Number pages\n",
    "- Put your name on document (cover page or header is fine), put initials into the filename\n",
    "- Save/print as PDF\n",
    "- Upload to blackboard"
   ]
  },
  {
   "cell_type": "code",
   "execution_count": null,
   "metadata": {},
   "outputs": [],
   "source": []
  }
 ],
 "metadata": {
  "kernelspec": {
   "display_name": "Python 3",
   "language": "python",
   "name": "python3"
  },
  "language_info": {
   "codemirror_mode": {
    "name": "ipython",
    "version": 3
   },
   "file_extension": ".py",
   "mimetype": "text/x-python",
   "name": "python",
   "nbconvert_exporter": "python",
   "pygments_lexer": "ipython3",
   "version": "3.8.10"
  }
 },
 "nbformat": 4,
 "nbformat_minor": 4
}
