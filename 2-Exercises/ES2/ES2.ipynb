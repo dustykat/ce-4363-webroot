{
 "cells": [
  {
   "cell_type": "markdown",
   "metadata": {},
   "source": [
    "# <font color=darkblue>CE 4363/5363 Groundwater Hydrology <br> Spring 2023 Exercise Set 2</font>\n",
    "\n",
    "**LAST NAME, FIRST NAME**\n",
    "\n",
    "**R00000000**\n",
    "\n",
    "<hr>\n",
    "\n",
    "### Purpose : \n",
    "Reinforce principles of groundwater flow; apply to quantitative cases\n",
    " \n",
    "### Assessment Criteria : \n",
    "Completion, results plausible, format correct, example calculations shown.  \n",
    "<hr>"
   ]
  },
  {
   "cell_type": "markdown",
   "metadata": {},
   "source": [
    "# Exercise 2-1 (*Problem 4.6 pp. 148*)\n",
    "The liquid pressure in the screen of a piezometer in a saline aquifer is $7.688 \\times 10^{5} N/m^2$.  The liquid density is 1055 kg/m$^3$ and the temperature is 14$^o$C.  The elevation of the piezometer is 45.9 m above MSL.\n",
    "\n",
    "Determine:\n",
    "1. The point-water pressure head.\n",
    "2. The fresh-water pressure head.\n",
    "3. The total fresh-water head.\n",
    "<hr>"
   ]
  },
  {
   "cell_type": "markdown",
   "metadata": {},
   "source": [
    "# Exercise 2-2 (*Problem 4.8 pp. 148*)\n",
    "An aquifer has a hydraulic conductivity of 12 ft/day and an effective porosity of 0.17 and is under a hydraulic gradient of 0.0055.  The water temperature is 14$^o$C and the mean pore diameter is 0.33 mm.\n",
    "\n",
    "Determine:\n",
    "1. The specific discharge.\n",
    "2. The average linear velocity.\n",
    "3. If Darcy's law is applicable under these conditions; justify your answer.\n",
    "\n",
    "<hr>"
   ]
  },
  {
   "cell_type": "markdown",
   "metadata": {},
   "source": [
    "# Exercise 2-3 (*Problem 4.10 pp. 148*)\n",
    "\n",
    "A confined aquifer is 18 m thick. The potentiometric surface drops 1.99 m between two wells that are 823 m apart. The hydraulic conductivity of the aquifer is 4.35 m/day \n",
    "\n",
    "Determine:\n",
    "1. Discharge per unit width in the aquifer in cubic meters per day\n",
    "\n",
    "<hr>"
   ]
  },
  {
   "cell_type": "markdown",
   "metadata": {},
   "source": [
    "# Exercise 2-4 (*Problem 4.13 pp. 149*)\n",
    "\n",
    "In the figure below (Fig. 4.19) the hydraulic conductivity of the aquifer is 14.5 m/day. The value of $h_1$ is 17.6 m, and the value of $h_2$ is 15.3 m.  The distance from $h_1$ to $h_2$ is 525 m. There is an average recharge rate of 0.007 m/day.\n",
    "\n",
    "![](http://54.243.252.9/ce-4363-webroot/2-Exercises/ES2/unconfined2ditch.png)\n",
    "\n",
    "Determine:\n",
    "1. The average discharge per unit width at $x=0$.\n",
    "2. The average discharge per unit width at $x=525$.\n",
    "3. The location of the water-table divide (*if it exists*)\n",
    "4. The maximum height of the water table.\n",
    "<hr>"
   ]
  },
  {
   "cell_type": "markdown",
   "metadata": {},
   "source": [
    "# Exercise 2-5 \n",
    "\n",
    "Three monitoring wells exist in an aquifer as shown below. North is upward (toward the top\n",
    "of the page). The land surface elevations and depths to water are shown below. \n",
    "\n",
    "![](http://54.243.252.9/ce-4363-webroot/2-Exercises/ES2/3wellmap.png)\n",
    "\n",
    "Determine:\n",
    "1. The magnitude and direction of the head gradient.\n",
    "<hr>"
   ]
  },
  {
   "cell_type": "markdown",
   "metadata": {},
   "source": [
    "<a href=\"http://54.243.252.9/ce-4363-webroot/2-Exercises/ES2/src-sol/ES2-WS.html\"> <img src=\"http://54.243.252.9/ce-4363-webroot/2-Exercises/ES2/easy-button.png\" alt=\"EZ Button Link to ES-2 solution sketch\" style=\"width:42px;height:42px;align:left\"> </a> "
   ]
  },
  {
   "cell_type": "code",
   "execution_count": null,
   "metadata": {},
   "outputs": [],
   "source": []
  }
 ],
 "metadata": {
  "kernelspec": {
   "display_name": "Python 3",
   "language": "python",
   "name": "python3"
  },
  "language_info": {
   "codemirror_mode": {
    "name": "ipython",
    "version": 3
   },
   "file_extension": ".py",
   "mimetype": "text/x-python",
   "name": "python",
   "nbconvert_exporter": "python",
   "pygments_lexer": "ipython3",
   "version": "3.8.10"
  }
 },
 "nbformat": 4,
 "nbformat_minor": 4
}
