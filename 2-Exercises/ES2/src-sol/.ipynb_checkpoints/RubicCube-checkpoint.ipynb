{
 "cells": [
  {
   "cell_type": "markdown",
   "metadata": {},
   "source": [
    "# Scoring Rubric$^3$"
   ]
  },
  {
   "cell_type": "markdown",
   "metadata": {},
   "source": [
    "## ES-1-1\n",
    "- problem statement + equations(citations) = 3.5\n",
    "- arithmetic  = 3.5\n",
    "- answer + units = 21 (7 each X 3)\n",
    "- soil type = 3.5\n",
    "\n",
    "Total 32 points (rounding up)\n",
    "\n",
    "## ES-1-2\n",
    "- problem statement + equations(citations) = 3.5\n",
    "- arithmetic  = 7 \n",
    "- answer + units = 7 (3.5 each X 2)\n",
    "\n",
    "Total 18 points (rounding up)\n",
    "\n",
    "## ES-1-3\n",
    "- problem statement + equations(citations) = 3.5\n",
    "- arithmetic  = 7 \n",
    "- answer + units = 7 (3.5 each X 2)\n",
    "\n",
    "Total 18 points (rounding up)\n",
    "\n",
    "## ES-1-4\n",
    "- problem statement + equations(citations) = 7 (3.5 each X 2)\n",
    "- arithmetic  = 7 \n",
    "- answer + units = 7 (3.5 each X 2)\n",
    "\n",
    "Total 21 points (rounding up)\n",
    "\n",
    "## Es-1-5\n",
    "\n",
    "- map (by any method, and looks close to reasonable for data) = 3.5\n",
    "- contour interval as specified and range ok = 3.5\n",
    "- answer question = 3.5\n",
    "\n",
    "Total 11 points (rounding up)\n",
    "\n"
   ]
  },
  {
   "cell_type": "code",
   "execution_count": null,
   "metadata": {},
   "outputs": [],
   "source": []
  }
 ],
 "metadata": {
  "kernelspec": {
   "display_name": "Python 3",
   "language": "python",
   "name": "python3"
  },
  "language_info": {
   "codemirror_mode": {
    "name": "ipython",
    "version": 3
   },
   "file_extension": ".py",
   "mimetype": "text/x-python",
   "name": "python",
   "nbconvert_exporter": "python",
   "pygments_lexer": "ipython3",
   "version": "3.8.10"
  }
 },
 "nbformat": 4,
 "nbformat_minor": 4
}
