{
 "cells": [
  {
   "cell_type": "markdown",
   "metadata": {},
   "source": [
    "# <font color=darkblue>CE 4363/5363 Groundwater Hydrology <br> Spring 2023 Exercise Set 2</font>\n",
    "\n",
    "**LAST NAME, FIRST NAME**\n",
    "\n",
    "**R00000000**\n",
    "\n",
    "<hr>\n",
    "\n",
    "### Purpose : \n",
    "Reinforce principles of groundwater flow; apply to quantitative cases\n",
    " \n",
    "### Assessment Criteria : \n",
    "Completion, results plausible, format correct, example calculations shown.  \n",
    "<hr>"
   ]
  },
  {
   "cell_type": "markdown",
   "metadata": {},
   "source": [
    "# Exercise 2-1 (*Problem 4.6 pp. 148*)\n",
    "The liquid pressure in the screen of a piezometer in a saline aquifer is $7.688 \\times 10^{5} N/m^2$.  The liquid density is 1055 kg/m$^3$ and the temperature is 14$^o$C.  The elevation of the piezometer is 45.9 m above MSL.\n",
    "\n",
    "Determine:\n",
    "1. The point-water pressure head.\n",
    "2. The fresh-water pressure head.\n",
    "3. The total fresh-water head.\n",
    "<hr>\n",
    "\n",
    "Solution:\n",
    "\n",
    "![](freshwaterhead.png)\n"
   ]
  },
  {
   "cell_type": "code",
   "execution_count": 97,
   "metadata": {},
   "outputs": [
    {
     "name": "stdout",
     "output_type": "stream",
     "text": [
      "Point pressure head:  74.283  meters\n"
     ]
    }
   ],
   "source": [
    "# Point water pressure head\n",
    "p = 7.688e05 #Pa given\n",
    "rho = 1055 #kg/m^3 given\n",
    "g = 9.81 #m/s/s\n",
    "def headp(pressure,rho,gee):\n",
    "    headp=pressure/(rho*gee)\n",
    "    return(headp)\n",
    "hp=headp(p,rho,g)\n",
    "print(\"Point pressure head: \",round(hp,3),\" meters\")"
   ]
  },
  {
   "cell_type": "code",
   "execution_count": 98,
   "metadata": {},
   "outputs": [
    {
     "name": "stdout",
     "output_type": "stream",
     "text": [
      "Equivalent fresh water pressure head:  78.447  meters\n"
     ]
    }
   ],
   "source": [
    "# Fresh water pressure head\n",
    "rho_f = 999 # see table lookup next problem, should be at 14C\n",
    "hpf = hp*rho/rho_f\n",
    "print(\"Equivalent fresh water pressure head: \",round(hpf,3),\" meters\")"
   ]
  },
  {
   "cell_type": "code",
   "execution_count": 99,
   "metadata": {},
   "outputs": [
    {
     "name": "stdout",
     "output_type": "stream",
     "text": [
      "Total fresh water pressure head:  124.347  meters\n"
     ]
    }
   ],
   "source": [
    "# Total fresh water pressure head\n",
    "zwell = 45.9\n",
    "hp_total = hpf+zwell\n",
    "print(\"Total fresh water pressure head: \",round(hp_total,3),\" meters\")"
   ]
  },
  {
   "cell_type": "markdown",
   "metadata": {},
   "source": [
    "# Exercise 2-2 (*Problem 4.8 pp. 148*)\n",
    "An aquifer has a hydraulic conductivity of 12 ft/day and an effective porosity of 0.17 and is under a hydraulic gradient of 0.0055.  The water temperature is 14$^o$C and the mean pore diameter is 0.33 mm.\n",
    "\n",
    "Determine:\n",
    "1. The specific discharge.\n",
    "2. The average linear velocity.\n",
    "3. If Darcy's law is applicable under these conditions; justify your answer.\n",
    "\n",
    "<hr>"
   ]
  },
  {
   "cell_type": "markdown",
   "metadata": {},
   "source": [
    "Solution:\n",
    "\n",
    "2-2(1)<br>\n",
    "\n",
    "$q = K \\frac{dh}{dl}$"
   ]
  },
  {
   "cell_type": "code",
   "execution_count": 7,
   "metadata": {},
   "outputs": [
    {
     "name": "stdout",
     "output_type": "stream",
     "text": [
      "Specific discharge:  0.066  ft/day\n"
     ]
    }
   ],
   "source": [
    "K = 12 #ft/day\n",
    "dhdl = 0.0055 #given\n",
    "q = K*dhdl\n",
    "print(\"Specific discharge: \",q,\" ft/day\")"
   ]
  },
  {
   "cell_type": "markdown",
   "metadata": {},
   "source": [
    "2-2(2)\n",
    "\n",
    "$v = \\frac{q}{n}$"
   ]
  },
  {
   "cell_type": "code",
   "execution_count": 8,
   "metadata": {},
   "outputs": [
    {
     "name": "stdout",
     "output_type": "stream",
     "text": [
      "Average linear velocity:  0.388  ft/day\n"
     ]
    }
   ],
   "source": [
    "n_e = 0.17 #given\n",
    "v = q/n_e\n",
    "print(\"Average linear velocity: \",round(v,3),\" ft/day\")"
   ]
  },
  {
   "cell_type": "markdown",
   "metadata": {},
   "source": [
    "2-2(3)\n",
    "\n",
    "Is Darcy's law applicable? <br>\n",
    "\n",
    "Evaluate value of Reynolds' number, Re > 10 is usual rule for invalidity (our book suggests Re > 1 is the magic value) either way we have to evaluate Re.\n",
    "\n",
    "$Re_d = \\frac{\\rho q d_{10}}{\\mu}$ (Eq 4.20 in the book)\n",
    "\n",
    "Both $\\rho$ and $\\mu$ are temperature dependent so need to look up values\n",
    "\n",
    "![](fluidproperties2-2.png)"
   ]
  },
  {
   "cell_type": "code",
   "execution_count": 12,
   "metadata": {},
   "outputs": [
    {
     "name": "stdout",
     "output_type": "stream",
     "text": [
      "Reynolds Number:  6.7e-05  \n"
     ]
    }
   ],
   "source": [
    "rho = 999 #kg/m^3\n",
    "mu = 0.00114 #N-s/m^s\n",
    "D_10 = 0.33e-03 # 0.33mm into meters\n",
    "q_si = q*(1/3.28)*(1/86400)  #ft/day * (1m/3.28ft)*(1day/86400sec)\n",
    "Re_d = (rho * q_si * D_10)/(mu)\n",
    "print(\"Reynolds Number: \",round(Re_d,6),\" \")"
   ]
  },
  {
   "cell_type": "markdown",
   "metadata": {},
   "source": [
    "$Re_d$ is less than 10 or 1, so Darcy's law valid."
   ]
  },
  {
   "cell_type": "markdown",
   "metadata": {},
   "source": [
    "# Exercise 2-3 (*Problem 4.10 pp. 148*)\n",
    "\n",
    "A confined aquifer is 18 m thick. The potentiometric surface drops 1.99 m between two wells that are 823 m apart. The hydraulic conductivity of the aquifer is 4.35 m/day \n",
    "\n",
    "Determine:\n",
    "1. Discharge per unit width in the aquifer in cubic meters per day\n",
    "\n",
    "<hr>\n",
    "\n",
    "Solution:\n",
    "\n",
    "![](flowbetweenwells.png)\n",
    "\n",
    "$\\frac{Q}{w} = \\frac{1}{w} K b w \\frac{dh}{dl}$"
   ]
  },
  {
   "cell_type": "code",
   "execution_count": 13,
   "metadata": {},
   "outputs": [
    {
     "name": "stdout",
     "output_type": "stream",
     "text": [
      "Discharge per unit width:  0.189  m^2/day\n"
     ]
    }
   ],
   "source": [
    "K = 4.35 #m/day given\n",
    "b = 18 #m given\n",
    "w = 1 #m given \"unit width\"\n",
    "dh = 1.99 #m given\n",
    "dl = 823 #m given\n",
    "Q = K*b*w*(dh/dl)\n",
    "print(\"Discharge per unit width: \",round(Q/w,3),\" m^2/day\")"
   ]
  },
  {
   "cell_type": "markdown",
   "metadata": {},
   "source": [
    "# Exercise 2-4 (*Problem 4.13 pp. 149*)\n",
    "\n",
    "In the figure below (Fig. 4.19) the hydraulic conductivity of the aquifer is 14.5 m/day. The value of $h_1$ is 17.6 m, and the value of $h_2$ is 15.3 m.  The distance from $h_1$ to $h_2$ is 525 m. There is an average recharge rate of 0.007 m/day.\n",
    "\n",
    "![](http://54.243.252.9/ce-4363-webroot/2-Exercises/ES2/unconfined2ditch.png)\n",
    "\n",
    "Determine:\n",
    "1. The average discharge per unit width at $x=0$.\n",
    "2. The average discharge per unit width at $x=525$.\n",
    "3. The location of the water-table divide (*if it exists*)\n",
    "4. The maximum height of the water table.\n",
    "<hr>\n",
    "\n",
    "Solution\n",
    "\n",
    "Need the equation of the water surface for all 4 parts.\n",
    "\n",
    "![](unconfinedDitchsoln.png)"
   ]
  },
  {
   "cell_type": "code",
   "execution_count": 69,
   "metadata": {},
   "outputs": [],
   "source": [
    "hL = 17.6 #m given\n",
    "hR = 15.3 #m given\n",
    "N = 0.007 #m/day\n",
    "K = 14.5 #m/day\n",
    "xL = 0 #m given\n",
    "xR = 525 #m given\n",
    "def h(x,hL,hR,N,K,xL,xR):\n",
    "    L = xR-xL\n",
    "    hsq = hL**2 + ((hR**2 - hL**2)*x)/L + (N*L*x)/K - (N*x**2)/K\n",
    "    h=hsq**(0.5)\n",
    "    return(h)"
   ]
  },
  {
   "cell_type": "markdown",
   "metadata": {},
   "source": [
    "1. The average discharge per unit width at $x=0$.<br>\n",
    "\n",
    "Need gradient at x=0 from the right.  Approximate using finite-difference as"
   ]
  },
  {
   "cell_type": "code",
   "execution_count": 73,
   "metadata": {},
   "outputs": [
    {
     "name": "stdout",
     "output_type": "stream",
     "text": [
      "gradient at x=0:  -0.003\n",
      "discharge at x=0:  -0.789  m^3/day/m\n"
     ]
    }
   ],
   "source": [
    "h0 = h(0,hL,hR,N,K,xL,xR)\n",
    "h1 = h(1.0,hL,hR,N,K,xL,xR)\n",
    "dh = h0 - h1\n",
    "dl = 1.0\n",
    "print(\"gradient at x=0: \",round(dh/dl,3))\n",
    "discharge = h0*K*dh/dl\n",
    "print(\"discharge at x=0: \",round(discharge,3),' m^3/day/m')"
   ]
  },
  {
   "cell_type": "markdown",
   "metadata": {},
   "source": [
    "The negaitve result implies flow is to the left! \n",
    "<hr>\n",
    "\n",
    "2. The average discharge per unit width at $x=525$.\n",
    "\n",
    "Need gradient at x=L from the left.  Approximate using finite-difference as"
   ]
  },
  {
   "cell_type": "code",
   "execution_count": 76,
   "metadata": {},
   "outputs": [
    {
     "name": "stdout",
     "output_type": "stream",
     "text": [
      "gradient at x=0:  0.003\n",
      "discharge at x=0:  0.796  m^3/day/m\n"
     ]
    }
   ],
   "source": [
    "h0 = h(xL-1.0,hL,hR,N,K,xL,xR)\n",
    "hL = h(xL,hL,hR,N,K,xL,xR)\n",
    "dh = hL - h0\n",
    "dl = 1.0\n",
    "print(\"gradient at x=0: \",round(dh/dl,3))\n",
    "discharge = h0*K*dh/dl\n",
    "print(\"discharge at x=0: \",round(discharge,3),' m^3/day/m')"
   ]
  },
  {
   "cell_type": "markdown",
   "metadata": {},
   "source": [
    "The positve result implies flow is to the right! \n",
    "<hr>\n",
    "\n",
    "3. The location of the water-table divide (*if it exists*)\n",
    "\n",
    "The formula is in the graphic above, here we can just plot the function and get close by looking at the plot."
   ]
  },
  {
   "cell_type": "code",
   "execution_count": 91,
   "metadata": {},
   "outputs": [
    {
     "data": {
      "image/png": "[encoded data removed]",
      "text/plain": [
       "<Figure size 432x288 with 1 Axes>"
      ]
     },
     "metadata": {
      "needs_background": "light"
     },
     "output_type": "display_data"
    }
   ],
   "source": [
    "# lists of zeros to store results\n",
    "xloc = [0 for i in range(100)]\n",
    "zloc = [hL for i in range(100)]\n",
    "increment = (xR-xL)/99\n",
    "for i in range(1,100):\n",
    "    xloc[i]=xloc[i-1]+increment\n",
    "    zloc[i]=h(xloc[i],hL,hR,N,K,xL,xR)\n",
    "stry='Piezometric Surface Elevation (meters)'\n",
    "strx='Distance (meters)'\n",
    "strtitle='Plot of Groundwater Surface in Unconfined Aquifer Between two ditches with Recharge' \n",
    "from matplotlib import pyplot as plt # import the plotting library from matplotlibplt.show()\n",
    "plt.plot(xloc, zloc, color ='blue', marker ='o', linestyle ='none')\n",
    "plt.title(strtitle)# add a title\n",
    "plt.ylabel(stry)# add a label to the x and y-axes\n",
    "plt.xlabel(strx)\n",
    "plt.ylim([15,20])\n",
    "plt.grid()\n",
    "plt.show() # display the plot"
   ]
  },
  {
   "cell_type": "markdown",
   "metadata": {},
   "source": [
    "So the peak is at about x=120.  Now apply the formula to confirm:"
   ]
  },
  {
   "cell_type": "code",
   "execution_count": 87,
   "metadata": {},
   "outputs": [
    {
     "name": "stdout",
     "output_type": "stream",
     "text": [
      "Water Table Divide Location:  113.2  meters from left drain\n"
     ]
    }
   ],
   "source": [
    "L = xR-xL\n",
    "xstar = (K)/(2*N*L)*(hR**2 - hL**2)+L/2\n",
    "print(\"Water Table Divide Location: \",round(xstar,1),\" meters from left drain\")"
   ]
  },
  {
   "cell_type": "markdown",
   "metadata": {},
   "source": [
    "4. The maximum height of the water table.\n",
    "\n",
    "This is simply the head at xstar"
   ]
  },
  {
   "cell_type": "code",
   "execution_count": 89,
   "metadata": {},
   "outputs": [
    {
     "name": "stdout",
     "output_type": "stream",
     "text": [
      "Maximum height of water table:  17.775  meters\n"
     ]
    }
   ],
   "source": [
    "print(\"Maximum height of water table: \",round(h(xstar,hL,hR,N,K,xL,xR),3),\" meters\")"
   ]
  },
  {
   "cell_type": "markdown",
   "metadata": {},
   "source": [
    "# Exercise 2-5 \n",
    "\n",
    "Three monitoring wells exist in an aquifer as shown below. North is upward (toward the top\n",
    "of the page). The land surface elevations and depths to water are shown below. \n",
    "\n",
    "![](http://54.243.252.9/ce-4363-webroot/2-Exercises/ES2/3wellmap.png)\n",
    "\n",
    "Determine:\n",
    "1. The magnitude and direction of the head gradient.\n",
    "<hr>\n",
    "\n",
    "Solution:\n",
    "\n",
    "- Use the graphical method in notes\n",
    "- Use a spreadsheet (Works in LibreOffice if you supress the Macro and don't use the save and exit button) [Model1_Gradient.xls](http://54.243.252.9/ce-4363-webroot/2-Exercises/ES2/src-sol/Model1_Gradient.XLS)\n",
    "![](GradientLibreOffice.png)\n",
    "- Solve the equation of the plane through the three wells (Same as the spreadsheet, but using ENGR 1330 methods as shown below)\n"
   ]
  },
  {
   "cell_type": "code",
   "execution_count": 67,
   "metadata": {},
   "outputs": [
    {
     "name": "stdout",
     "output_type": "stream",
     "text": [
      "x-component hydraulic gradient:  0.002\n",
      "y-component hydraulic gradient:  -0.005\n",
      "magnitude hydraulic gradient:  0.006\n",
      "direction cosine x-component hydraulic gradient:  0.29\n",
      "direction cosine y-component hydraulic gradient:  -0.957\n"
     ]
    },
    {
     "data": {
      "image/png": "[encoded data removed]",
      "text/plain": [
       "<Figure size 432x288 with 1 Axes>"
      ]
     },
     "metadata": {
      "needs_background": "light"
     },
     "output_type": "display_data"
    }
   ],
   "source": [
    "import numpy\n",
    "import math\n",
    "# well A is origin\n",
    "wellID =['Well A','Well B','Well C']\n",
    "well_X =[0.0,300.0,180.0]\n",
    "well_Y =[0.0,0.0,-200.0]\n",
    "well_Z =[3138.5-42.1,3139.2-43.3,3140.0-45.0]\n",
    "amatrix = [[0 for j in range(3)]for i in range(3)]\n",
    "b = [0 for j in range(3)]\n",
    "# A-matrix\n",
    "for i in range(3):\n",
    "    amatrix[i][0]=well_X[i]\n",
    "    amatrix[i][1]=well_Y[i]\n",
    "    amatrix[i][2]=1.0\n",
    "    b[i]= well_Z[i] \n",
    "amatrix = numpy.array(amatrix) #typecast as numpy array\n",
    "b = numpy.array(b)\n",
    "x = numpy.linalg.solve(amatrix,b) # solve equation of plane\n",
    "# recover and report results\n",
    "print(\"x-component hydraulic gradient: \",round(-x[0],3))\n",
    "print(\"y-component hydraulic gradient: \",round(-x[1],3))\n",
    "grad = math.sqrt(x[0]**2+x[1]**2)\n",
    "print(\"magnitude hydraulic gradient: \",round(grad,3))\n",
    "print(\"direction cosine x-component hydraulic gradient: \",round(-x[0]/grad,3))\n",
    "print(\"direction cosine y-component hydraulic gradient: \",round(-x[1]/grad,3))\n",
    "# use this if want to plot\n",
    "list1 = [0,-100*x[0]/grad] \n",
    "list2 = [0,-100*x[1]/grad] \n",
    "stry='Distance Northing'\n",
    "strx='Distance Easting'\n",
    "strtitle='Hydraulic Gradient and 3-Well Locations\\n'+'Gradient Magnitude: '+ str(round(grad,3)) +'\\n Red segment is 100X direction cosines' \n",
    "\n",
    "plotlabel=['Wells','Gradient']\n",
    "from matplotlib import pyplot as plt # import the plotting library from matplotlibplt.show()\n",
    "plt.plot(well_X, well_Y, color ='green', marker ='o', linestyle ='none') # create a line chart, years on x-axis, gdp on y-axis\n",
    "plt.plot(list1, list2, color ='red', marker ='x', linestyle ='solid')\n",
    "plt.title(strtitle)# add a title\n",
    "plt.ylabel(stry)# add a label to the x and y-axes\n",
    "plt.xlabel(strx)\n",
    "plt.legend(plotlabel)\n",
    "plt.grid()\n",
    "plt.show() # display the plot"
   ]
  }
 ],
 "metadata": {
  "kernelspec": {
   "display_name": "Python 3",
   "language": "python",
   "name": "python3"
  },
  "language_info": {
   "codemirror_mode": {
    "name": "ipython",
    "version": 3
   },
   "file_extension": ".py",
   "mimetype": "text/x-python",
   "name": "python",
   "nbconvert_exporter": "python",
   "pygments_lexer": "ipython3",
   "version": "3.8.10"
  }
 },
 "nbformat": 4,
 "nbformat_minor": 4
}
