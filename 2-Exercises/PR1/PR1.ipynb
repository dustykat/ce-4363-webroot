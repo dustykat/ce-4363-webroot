{
 "cells": [
  {
   "cell_type": "markdown",
   "metadata": {},
   "source": [
    "# <font color=darkblue>CE 4363/5363 Groundwater Hydrology <br> Spring 2023 MODFLOW Project</font>\n",
    "\n",
    "**LAST NAME, FIRST NAME**\n",
    "\n",
    "**R00000000**\n",
    "\n",
    "<hr>\n",
    "\n",
    "### Purpose : \n",
    "Build and operate a MODFLOW management model; interpret results and prepare exhibits for professional presentation\n",
    " \n",
    "### Assessment Criteria : \n",
    "Completion, results plausible, format correct, example calculations as needed, contour plots with explainations.  \n",
    "<hr>"
   ]
  },
  {
   "cell_type": "markdown",
   "metadata": {},
   "source": [
    "The figure below is a map and cross section of an aquifer system.  \n",
    "\n",
    "![](drawing_P-12.png)\n",
    "\n",
    "Two well fields operate in the area; well field A pumping $10 \\times 10^{6} \\frac{m^3}{yr}$ and a well field B pumping $16 \\times 10^{6} \\frac{m^3}{yr}$ All the intake screens in well field B are below the semipervious layer.  A new wellfield, C< is planned, with an annual withdrawl of $15 \\times 10^{6} \\frac{m^3}{yr}$ and, if possible, up to $25 \\times 10^{6} \\frac{m^3}{yr}$.\n",
    "\n",
    "Use MODFLOW to evaluate the feasibility of the proposed pumping rates for well field C.  The river itself cannot serve as a water source because the water rights are already apportioned (i.e. someone else owns the water).\n",
    "\n",
    "\n"
   ]
  },
  {
   "cell_type": "markdown",
   "metadata": {},
   "source": [
    "## Task 1\n",
    "<hr>\n",
    "\n",
    "The original management model was lost, but an intermediate development version was preserved at [http://54.243.252.9/toolbox/gwhydraulics/modflow/working_files/ce4363-s2023-pr1/](http://54.243.252.9/toolbox/gwhydraulics/modflow/working_files/ce4363-s2023-pr1/), the plan view layout and the 5-layer conceptualization remain are shown.  The original management model was created on a 1 X 1 kilometer grid.\n",
    "\n",
    "![](planview.png)\n",
    "\n",
    "The original management model used a 5-layer conceptualization to mimic the aquifer system.\n",
    "\n",
    "![](elevationview.png)\n",
    "\n",
    "The upper aquifer layer is unconfined and the river was represented using constant head boundaries. The next layer is a confined/unconfined layer and is where the well field A wells are screened (80-125 meters).  The aquitard is a thin layer from (75-80 meters) with spatially varying hydraulic conductivity. The lower aquifers are represented as confined in MODFLOW, with well screens as shown.  Use MODFLOW to produce a steady-state head distribution for all 5 aquifer layers in this system, with zero pumping in well field C. \n",
    "\n",
    "\n",
    "The intermediate management model does not have the thin layer permeability correctly supplied in the portion of aquifer around wellfield A.  \n",
    "\n",
    "1. Correct the intermediate management model to reflect the proper conductivity/transmissivity in this region.\n",
    "2. Modify the original model to use the river package where the river is a 100-meter wide, 10-meter deep rectangular channel\n",
    "3. Incorporate the recharge package to account for the annual precipitation.\n",
    "4. Using a storativity of 0.02 in the lower aquifer layers and 0.20 in the upper unconfined layer, prepare an equilibrium transient solution and compare it to the steady solution of the corrected model.\n",
    "5. Produce a contour map of heads in the upper layer, and the lower layer.  Is there evidence of vertical flow in the predevelopment conditions?"
   ]
  },
  {
   "cell_type": "markdown",
   "metadata": {},
   "source": [
    "## Task 2\n",
    "<hr>\n",
    "\n",
    "Using the model determine the pumping maximum pumping rate from well field C, that does not change the direction of the gradient in the river.  That is if the river is gaining from the aquifer it continues to do so."
   ]
  },
  {
   "cell_type": "markdown",
   "metadata": {},
   "source": [
    "## Task 3\n",
    "<hr>\n",
    "\n",
    "The annual pumpage rate is an average of seasonal rates that follow the schedule in the table below.  Modify the model to account for seasonally variable pumping rates as shown in the table below: \n",
    "\n",
    "|Period|Well Field A ($\\frac{m^3}{yr}$)|Well Field B ($\\frac{m^3}{yr}$)|Well Field C ($\\frac{m^3}{yr}$)|\n",
    "|---|---|---|---|\n",
    "|June-August|$13.8 \\times 10^{6}$|$22.08 \\times 10^{6}$|$20.7 \\times 10^{6}$|\n",
    "|September-November|$9.68 \\times 10^{6}$|$15.44 \\times 10^{6}$|$14.52 \\times 10^{6}$|\n",
    "|December-February|$6.20 \\times 10^{6}$|$9.92 \\times 10^{6}$|$9.30 \\times 10^{6}$|\n",
    "|March-May|$10.328 \\times 10^{6}$|$16.51 \\times 10^{6}$|$15.49 \\times 10^{6}$|\n",
    "\n",
    "Determine how much pumpage in wellfield C can be increased and still preserve the surface water rights.  Run the simulation for a ten-year planning horizon."
   ]
  },
  {
   "cell_type": "markdown",
   "metadata": {},
   "source": [
    "## Task 4 Project Report \n",
    "<hr>\n",
    "\n",
    "1. Problem Statement (in your own words, including summarized given information).\n",
    "2. Modeling Efforts.\n",
    "- Task 1. You must show that you put the proper input values in the right places, and you can use screen captures, tables, and text to do so.\n",
    "- Task 2. Describe the steps you took in your study. The results should be summarized in tabular form with some verbal discussion, supported with appropriate output graphs.\n",
    "- Task 3. Describe the steps you took in your study. The results should be summarized in tabular form with some verbal discussion, supported with appropriate output graphs.\n",
    "3. Conclusions. Include any appropriate disclaimers that may limit your recommendation.\n",
    "4. Appendix with sample hand calculations or spreadsheets for RIVER input determination, and variable pumping inputs.\n",
    "\n",
    "## Grading Summary\n",
    ">**Problem Statement**\n",
    "- Paraphrased but complete description of provided inputs (10)\n",
    ">**Task 1 Steady State**<br>\n",
    "- Setup and Inputs as supplied for GWV/MODFLOW Model Grids and Layers (5) \n",
    "- Aquifer Properties (5) \n",
    "- River and Well Inputs (10)\n",
    "- Outputs (5)\n",
    "- Contour Maps for Layers (5)\n",
    ">**Task 2 Transient Simulations**<br>\n",
    "- Physical Descriptions (15) \n",
    "- Proof Drawdown Criteria Were Met (5) \n",
    "- Contour Maps for Layers (15) \n",
    "- Comparison of Results (10)\n",
    "- Conclusions and Limitations (15)"
   ]
  },
  {
   "cell_type": "code",
   "execution_count": null,
   "metadata": {},
   "outputs": [],
   "source": []
  }
 ],
 "metadata": {
  "kernelspec": {
   "display_name": "Python 3",
   "language": "python",
   "name": "python3"
  },
  "language_info": {
   "codemirror_mode": {
    "name": "ipython",
    "version": 3
   },
   "file_extension": ".py",
   "mimetype": "text/x-python",
   "name": "python",
   "nbconvert_exporter": "python",
   "pygments_lexer": "ipython3",
   "version": "3.8.10"
  }
 },
 "nbformat": 4,
 "nbformat_minor": 4
}
