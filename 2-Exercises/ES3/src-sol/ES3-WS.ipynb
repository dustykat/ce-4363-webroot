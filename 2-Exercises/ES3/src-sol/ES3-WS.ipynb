{
 "cells": [
  {
   "cell_type": "markdown",
   "metadata": {},
   "source": [
    "# <font color=darkblue>CE 4363/5363 Groundwater Hydrology <br> Spring 2023 Exercise Set 3</font>\n",
    "\n",
    "**LAST NAME, FIRST NAME**\n",
    "\n",
    "**R00000000**\n",
    "\n",
    "<hr>\n",
    "\n",
    "### Purpose : \n",
    "Reinforce principles of groundwater flow to wells; apply to various quantitative cases to predict drawdown or infer hydraulic properties\n",
    " \n",
    "### Assessment Criteria : \n",
    "Completion, results plausible, format correct, example calculations shown.  \n",
    "<hr>"
   ]
  },
  {
   "cell_type": "markdown",
   "metadata": {},
   "source": [
    "# Exercise 3-1 (*Problem 5.1 pp. 215*)\n",
    "A community is installing a new well in a regionally confined aquifer with a transmissivity of 1589 ft$^2$/day, and a storativity of 0.0005. The planned pumping rate is 325 gal/min.  There are several nearby wells tapping the same aquifer, and the project manager needs to know if the new well will cause significant interference with these existing wells.  Estimate the drawdown caused by the new well after 30 days of continuous pumping at the distances in the table below:\n",
    "\n",
    "|Time(days)|Distance (ft)|Drawdown (ft)|\n",
    "|---:|---:|---:|\n",
    "|30|50||\n",
    "|30|150||\n",
    "|30|250||\n",
    "|30|500||\n",
    "|30|1000||\n",
    "|30|3000||\n",
    "|30|6000||\n",
    "|30|10,000||\n",
    "\n",
    "\n",
    "<hr>"
   ]
  },
  {
   "cell_type": "code",
   "execution_count": 2,
   "metadata": {},
   "outputs": [
    {
     "name": "stdout",
     "output_type": "stream",
     "text": [
      "Time(days)|Radius(ft)|Drawdown(ft)|\n",
      "        30|        50|       35.59|\n",
      "        30|       150|       28.70|\n",
      "        30|       250|       25.50|\n",
      "        30|       500|       21.16|\n",
      "        30|      1000|       16.82|\n",
      "        30|      3000|       10.00|\n",
      "        30|      6000|        5.88|\n",
      "        30|     10000|        3.16|\n"
     ]
    },
    {
     "data": {
      "image/png": "[encoded data removed]",
      "text/plain": [
       "<Figure size 576x432 with 1 Axes>"
      ]
     },
     "metadata": {
      "needs_background": "light"
     },
     "output_type": "display_data"
    }
   ],
   "source": [
    "def W(u): # Theis well function using exponential integral\n",
    "    import scipy.special as sc\n",
    "    w = sc.expn(1,u)\n",
    "    return(w)\n",
    "\n",
    "def s(radius,time,storage,transmissivity,discharge): # Drawdown function using exponential integral\n",
    "    import math\n",
    "    u = ((radius**2)*(storage))/(4*transmissivity*time)\n",
    "    s = ((discharge)/(4*math.pi*transmissivity))*W(u)\n",
    "    return(s)\n",
    "\n",
    "data = [[30,50],\n",
    "[30 ,150],\n",
    "[30 ,250],\n",
    "[30 ,500],\n",
    "[30 ,1000],\n",
    "[30 ,3000],\n",
    "[30 ,6000],\n",
    "[30 ,10000]]\n",
    "S = 0.0005 # given\n",
    "T = 1589 #ft^2/day given\n",
    "QGPM = 325 # given\n",
    "Q = QGPM*(1/7.48)*(1440/1) # convert to ft^3/day\n",
    "ddn = [0 for i in range(len(data))]\n",
    "time = [0 for i in range(len(data))]\n",
    "distance = [0 for i in range(len(data))]\n",
    "print(\"Time(days)|Radius(ft)|Drawdown(ft)|\")\n",
    "for irow in range(len(data)):\n",
    "    time[irow]=data[irow][0]\n",
    "    distance[irow]=data[irow][1]\n",
    "    ddn[irow] = s(distance[irow],time[irow],S,T,Q)\n",
    "    print(\"%10i|%10i|%12.2f|\"%(time[irow],distance[irow],round(ddn[irow],2)))\n",
    "\n",
    "# import the package\n",
    "from matplotlib import pyplot as plt\n",
    "mydata = plt.figure(figsize = (8,6)) # build a drawing canvass from figure class; aspect ratio 4x3\n",
    "plt.plot(distance, ddn, c='red', marker='o',linewidth=1) # basic line plot\n",
    "#plt.xscale('log') # set x-axis to display a logarithmic scale #################\n",
    "plt.xlabel('Distance (ft)') # label the x-axis\n",
    "plt.ylabel('Drawdown (ft)') # label the y-axis, notice the LaTex markup\n",
    "#plt.legend(['series1','series2...']) # legend for each series\n",
    "plt.title('Drawdown vs Distance') # make a plot title\n",
    "plt.grid() # display a grid\n",
    "plt.show() # display the plot"
   ]
  },
  {
   "cell_type": "markdown",
   "metadata": {},
   "source": [
    "# Exercise 3-2 (*Problem 5.4 pp. 216*)\n",
    "The pumping well above has a radius of 1 foot.  The observed drawdown in the well is 87 feet.\n",
    "\n",
    "Determine:\n",
    "1. The efficiency of the well\n",
    "\n",
    "<hr>"
   ]
  },
  {
   "cell_type": "code",
   "execution_count": 38,
   "metadata": {},
   "outputs": [
    {
     "name": "stdout",
     "output_type": "stream",
     "text": [
      "Well Efficiency =  69.09  percent\n"
     ]
    }
   ],
   "source": [
    "# %Efficiency = 100*(Computed/Observed)\n",
    "computed = s(1.0,30,S,T,Q)\n",
    "observed = 87.0 # Given\n",
    "efficiency = 100*(computed/observed)\n",
    "print(\"Well Efficiency = \",round(efficiency,2),\" percent\")"
   ]
  },
  {
   "cell_type": "markdown",
   "metadata": {},
   "source": [
    "# Exercise 3-3 (*Problem 5.7 pp. 216*)\n",
    "\n",
    "If the aquifer in the problem(s) above is not fully confined, but is overlain by a 13.7 foot thick leakage layer with vertical hydraulic conductivity of 0.13 ft/day and negligible storativity, what would be the drawdown values after 30 days of pumping at 325 gal/min at the indicated distances\n",
    "\n",
    "|Time(days)|Distance (ft)|Drawdown (ft)|\n",
    "|---:|---:|---:|\n",
    "|30|50||\n",
    "|30|150||\n",
    "|30|250||\n",
    "|30|500||\n",
    "|30|1000||\n",
    "|30|3000||\n",
    "|30|6000||\n",
    "|30|10,000||\n",
    "\n",
    "<hr>"
   ]
  },
  {
   "cell_type": "code",
   "execution_count": 46,
   "metadata": {},
   "outputs": [
    {
     "name": "stdout",
     "output_type": "stream",
     "text": [
      "Time(days)|Radius(ft)|Drawdown(ft)|\n",
      "        30|        50|       13.98|\n",
      "        30|       150|        7.47|\n",
      "        30|       250|        4.78|\n",
      "        30|       500|        1.94|\n",
      "        30|      1000|        0.42|\n",
      "        30|      3000|        0.00|\n",
      "        30|      6000|        0.00|\n",
      "        30|     10000|        0.00|\n"
     ]
    },
    {
     "data": {
      "image/png": "[encoded data removed]",
      "text/plain": [
       "<Figure size 576x432 with 1 Axes>"
      ]
     },
     "metadata": {
      "needs_background": "light"
     },
     "output_type": "display_data"
    }
   ],
   "source": [
    "def wh(u, rho): # Hantush Leaky aquifer well function\n",
    "    import numpy\n",
    "    try:\n",
    "        u =float(u)\n",
    "        rho =float(rho)\n",
    "    except:\n",
    "        print(\"u and rho must be scalars.\")\n",
    "        raise ValueError()\n",
    "\n",
    "    LOGINF = 2\n",
    "    y = numpy.logspace(numpy.log10(u), LOGINF, 1000)\n",
    "    ym = 0.5 * (y[:-1]+  y[1:])\n",
    "    dy = numpy.diff(y)\n",
    "    w = numpy.sum(numpy.exp(-ym - (rho / 2)**2 / ym ) * dy / ym)\n",
    "    return w\n",
    "\n",
    "def W(u): # Theis well function using exponential integral\n",
    "    import scipy.special as sc\n",
    "    w = sc.expn(1,u)\n",
    "    return(w)\n",
    "\n",
    "def s(radius,time,storage,transmissivity,discharge): # Drawdown function using exponential integral\n",
    "    import math\n",
    "    u = ((radius**2)*(storage))/(4*transmissivity*time)\n",
    "    s = ((discharge)/(4*math.pi*transmissivity))*W(u)\n",
    "    return(s)\n",
    "\n",
    "def sleaky(radius,time,storage,transmissivity,discharge,leakance): # Drawdown function using exponential integral\n",
    "    import math\n",
    "    rho = radius/leakance\n",
    "    u = ((radius**2)*(storage))/(4*transmissivity*time)\n",
    "    s = ((discharge)/(4*math.pi*transmissivity))*wh(u,rho)\n",
    "    return(s)\n",
    "\n",
    "import math\n",
    "data = [[30,50],\n",
    "[30 ,150],\n",
    "[30 ,250],\n",
    "[30 ,500],\n",
    "[30 ,1000],\n",
    "[30 ,3000],\n",
    "[30 ,6000],\n",
    "[30 ,10000]]\n",
    "S = 0.0005 # given\n",
    "T = 1589 #ft^2/day given\n",
    "QGPM = 325 # given\n",
    "Q = QGPM*(1/7.48)*(1440/1) # convert to ft^3/day\n",
    "bv = 13.7 # ft\n",
    "kv = 0.13 # ft/day\n",
    "B = math.sqrt((T*bv)/kv)\n",
    "ddn = [0 for i in range(len(data))]\n",
    "time = [0 for i in range(len(data))]\n",
    "distance = [0 for i in range(len(data))]\n",
    "print(\"Time(days)|Radius(ft)|Drawdown(ft)|\")\n",
    "for irow in range(len(data)):\n",
    "    time[irow]=data[irow][0]\n",
    "    distance[irow]=data[irow][1]\n",
    "    ddn[irow] = sleaky(distance[irow],time[irow],S,T,Q,B)\n",
    "    print(\"%10i|%10i|%12.2f|\"%(time[irow],distance[irow],round(ddn[irow],2)))\n",
    "\n",
    "# import the package\n",
    "from matplotlib import pyplot as plt\n",
    "mydata = plt.figure(figsize = (8,6)) # build a drawing canvass from figure class; aspect ratio 4x3\n",
    "plt.plot(distance, ddn, c='red', marker='o',linewidth=1) # basic line plot\n",
    "plt.xscale('log') # set x-axis to display a logarithmic scale #################\n",
    "plt.xlabel('Distance (ft)') # label the x-axis\n",
    "plt.ylabel('Drawdown (ft)') # label the y-axis, notice the LaTex markup\n",
    "#plt.legend(['series1','series2...']) # legend for each series\n",
    "plt.title('Drawdown vs Distance') # make a plot title\n",
    "plt.grid() # display a grid\n",
    "plt.show() # display the plot"
   ]
  },
  {
   "cell_type": "markdown",
   "metadata": {},
   "source": [
    "# Exercise 3-4 (*Problem 5.9 pp. 216*)\n",
    "\n",
    "Refering to the well and aquifer system in Exercise 3-1 above, estimate the drawdown at a distance of 250 feet for the times in the table below:\n",
    "\n",
    "|Time(days)|Distance (ft)|Drawdown (ft)|\n",
    "|---:|---:|---:|\n",
    "|1/1440|250||\n",
    "|2/1440|250||\n",
    "|5/1440|250||\n",
    "|10/1440|250||\n",
    "|15/1440|250||\n",
    "|30/1440|250||\n",
    "|60/1440|250||\n",
    "|2/24|250||\n",
    "|5/24|250||\n",
    "|12/24|250||\n",
    "|1|250||\n",
    "|5|250||\n",
    "|10|250||\n",
    "|20|250||\n",
    "|30|250||\n",
    "\n",
    "<hr>"
   ]
  },
  {
   "cell_type": "code",
   "execution_count": 50,
   "metadata": {},
   "outputs": [
    {
     "name": "stdout",
     "output_type": "stream",
     "text": [
      "Time(days)|Radius(ft)|Drawdown(ft)|\n",
      "         0|       250|        0.00|\n",
      "         0|       250|        0.02|\n",
      "         0|       250|        0.36|\n",
      "         0|       250|        1.15|\n",
      "         0|       250|        1.87|\n",
      "         0|       250|        3.41|\n",
      "         0|       250|        5.25|\n",
      "         0|       250|        7.24|\n",
      "         0|       250|       10.00|\n",
      "         0|       250|       12.70|\n",
      "         1|       250|       14.86|\n",
      "         5|       250|       19.89|\n",
      "        10|       250|       22.06|\n",
      "        20|       250|       24.23|\n",
      "        30|       250|       25.50|\n"
     ]
    },
    {
     "data": {
      "image/png": "[encoded data removed]",
      "text/plain": [
       "<Figure size 576x432 with 1 Axes>"
      ]
     },
     "metadata": {
      "needs_background": "light"
     },
     "output_type": "display_data"
    }
   ],
   "source": [
    "def W(u): # Theis well function using exponential integral\n",
    "    import scipy.special as sc\n",
    "    w = sc.expn(1,u)\n",
    "    return(w)\n",
    "\n",
    "def s(radius,time,storage,transmissivity,discharge): # Drawdown function using exponential integral\n",
    "    import math\n",
    "    u = ((radius**2)*(storage))/(4*transmissivity*time)\n",
    "    s = ((discharge)/(4*math.pi*transmissivity))*W(u)\n",
    "    return(s)\n",
    "\n",
    "data = [[1/1440 ,250], \n",
    "[2/1440,250],\n",
    "[5/1440,250],\n",
    "[10/1440,250],\n",
    "[15/1440,250],\n",
    "[30/1440,250],\n",
    "[60/1440,250],\n",
    "[2/24,250],\n",
    "[5/24,250],\n",
    "[12/24,250],\n",
    "[1,250],\n",
    "[5,250],\n",
    "[10,250],\n",
    "[20,250],\n",
    "[30,250]]\n",
    "\n",
    "S = 0.0005 # given\n",
    "T = 1589 #ft^2/day given\n",
    "QGPM = 325 # given\n",
    "Q = QGPM*(1/7.48)*(1440/1) # convert to ft^3/day\n",
    "ddn = [0 for i in range(len(data))]\n",
    "time = [0 for i in range(len(data))]\n",
    "distance = [0 for i in range(len(data))]\n",
    "print(\"Time(days)|Radius(ft)|Drawdown(ft)|\")\n",
    "for irow in range(len(data)):\n",
    "    time[irow]=data[irow][0]\n",
    "    distance[irow]=data[irow][1]\n",
    "    ddn[irow] = s(distance[irow],time[irow],S,T,Q)\n",
    "    print(\"%10i|%10i|%12.2f|\"%(time[irow],distance[irow],round(ddn[irow],2)))\n",
    "\n",
    "# import the package\n",
    "from matplotlib import pyplot as plt\n",
    "mydata = plt.figure(figsize = (8,6)) # build a drawing canvass from figure class; aspect ratio 4x3\n",
    "plt.plot(time, ddn, c='red', marker='o',linewidth=1) # basic line plot\n",
    "plt.xscale('log') # set x-axis to display a logarithmic scale #################\n",
    "plt.xlabel('Time (days)') # label the x-axis\n",
    "plt.ylabel('Drawdown (ft)') # label the y-axis, notice the LaTex markup\n",
    "#plt.legend(['series1','series2...']) # legend for each series\n",
    "plt.title('Drawdown vs Time') # make a plot title\n",
    "plt.grid() # display a grid\n",
    "plt.show() # display the plot"
   ]
  },
  {
   "cell_type": "markdown",
   "metadata": {},
   "source": [
    "# Exercise 3-5 (*Problem 5.13 pp. 216*)\n",
    "\n",
    "A well that pumps at a constsnt rate of 78,000 ft$^3$/day has achieved equilibrium so that there is no change in drawdown with time. (The cone of depression has expanded to include a recharge zone equal to the amount of water being pumped.)  The well taps a confined aquifer that is 18 ft. thick. An observation well 125 ft. away has a head of 277 ft above MSL; another observation well 385 ft. away has a head of 291 ft.\n",
    "\n",
    "Determine:\n",
    "1. The aquifer transmissivity using the Theim equation\n",
    "<hr>"
   ]
  },
  {
   "cell_type": "code",
   "execution_count": 7,
   "metadata": {},
   "outputs": [
    {
     "name": "stdout",
     "output_type": "stream",
     "text": [
      "Transmissivity =  997.0  ft^2/day \n"
     ]
    }
   ],
   "source": [
    "## Theim equation\n",
    "h1 = 277 #given\n",
    "h2 = 291 #given\n",
    "r1 = 125 #given\n",
    "r2 = 385 #given\n",
    "Qw = 78000 #given\n",
    "T = (Qw/(2*math.pi*(h2-h1)))*math.log(r2/r1)\n",
    "print(\"Transmissivity = \",round(T,0),\" ft^2/day \")"
   ]
  },
  {
   "cell_type": "markdown",
   "metadata": {},
   "source": [
    "# Exercise 3-6 (*Problem 5.14 pp. 216*)\n",
    "\n",
    "A well that pumps at a constsnt rate of 78,000 ft$^3$/day has achieved equilibrium so that there is no change in drawdown with time. (The cone of depression has expanded to include a recharge zone equal to the amount of water being pumped.)  The well taps an unconfined aquifer that consists of sand overlying impermeable bedrock at an elevation of 260 ft. above MSL. An observation well 125 ft. away has a head of 277 ft. above MSL; another observation well 385 ft. away has a head of 291 ft.\n",
    "\n",
    "Determine:\n",
    "1. The hydraulic conductivity using the Theim equation"
   ]
  },
  {
   "cell_type": "markdown",
   "metadata": {},
   "source": [
    "![](sketch.png)"
   ]
  },
  {
   "cell_type": "code",
   "execution_count": 9,
   "metadata": {},
   "outputs": [
    {
     "name": "stdout",
     "output_type": "stream",
     "text": [
      "Transmissivity =  42.0  ft^2/day \n"
     ]
    }
   ],
   "source": [
    "# Theim equation unconfined\n",
    "h1   = 277 #given\n",
    "h2   = 291 #given\n",
    "href = 260 #given\n",
    "h1 = h1 - href\n",
    "h2 = h2 - href\n",
    "r1 = 125 #given\n",
    "r2 = 385 #given\n",
    "Qw = 78000 #given\n",
    "T = (Qw/(math.pi*(h2**2-h1**2)))*math.log(r2/r1)\n",
    "print(\"Transmissivity = \",round(T,0),\" ft^2/day \")"
   ]
  },
  {
   "cell_type": "code",
   "execution_count": null,
   "metadata": {},
   "outputs": [],
   "source": []
  }
 ],
 "metadata": {
  "kernelspec": {
   "display_name": "Python 3",
   "language": "python",
   "name": "python3"
  },
  "language_info": {
   "codemirror_mode": {
    "name": "ipython",
    "version": 3
   },
   "file_extension": ".py",
   "mimetype": "text/x-python",
   "name": "python",
   "nbconvert_exporter": "python",
   "pygments_lexer": "ipython3",
   "version": "3.8.10"
  }
 },
 "nbformat": 4,
 "nbformat_minor": 4
}
