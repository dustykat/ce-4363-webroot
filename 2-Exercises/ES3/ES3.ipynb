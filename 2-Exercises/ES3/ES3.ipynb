{
 "cells": [
  {
   "cell_type": "markdown",
   "metadata": {},
   "source": [
    "# <font color=darkblue>CE 4363/5363 Groundwater Hydrology <br> Spring 2023 Exercise Set 3</font>\n",
    "\n",
    "**LAST NAME, FIRST NAME**\n",
    "\n",
    "**R00000000**\n",
    "\n",
    "<hr>\n",
    "\n",
    "### Purpose : \n",
    "Reinforce principles of groundwater flow to wells; apply to various quantitative cases to predict drawdown or infer hydraulic properties\n",
    " \n",
    "### Assessment Criteria : \n",
    "Completion, results plausible, format correct, example calculations shown.  \n",
    "<hr>"
   ]
  },
  {
   "cell_type": "markdown",
   "metadata": {},
   "source": [
    "# Exercise 3-1 (*Problem 5.1 pp. 215*)\n",
    "A community is installing a new well in a regionally confined aquifer with a transmissivity of 1589 ft$^2$/day, and a storativity of 0.0005. The planned pumping rate is 325 gal/min.  There are several nearby wells tapping the same aquifer, and the project manager needs to know if the new well will cause significant interference with these existing wells.  Estimate the drawdown caused by the new well after 30 days of continuous pumping at the distances in the table below:\n",
    "\n",
    "|Time(days)|Distance (ft)|Drawdown (ft)|\n",
    "|---:|---:|---:|\n",
    "|30|50||\n",
    "|30|150||\n",
    "|30|250||\n",
    "|30|500||\n",
    "|30|1000||\n",
    "|30|3000||\n",
    "|30|6000||\n",
    "|30|10,000||\n",
    "\n",
    "\n",
    "<hr>"
   ]
  },
  {
   "cell_type": "markdown",
   "metadata": {},
   "source": [
    "# Exercise 3-2 (*Problem 5.4 pp. 216*)\n",
    "The pumping well above has a radius of 1 foot.  The observed drawdown in the well is 87 feet.\n",
    "\n",
    "Determine:\n",
    "1. The efficiency of the well\n",
    "\n",
    "<hr>"
   ]
  },
  {
   "cell_type": "markdown",
   "metadata": {},
   "source": [
    "# Exercise 3-3 (*Problem 5.7 pp. 216*)\n",
    "\n",
    "If the aquifer in the problem(s) above is not fully confined, but is overlain by a 13.7 foot thick leakage layer with vertical hydraulic conductivity of 0.13 ft/day and negligible storativity, what would be the drawdown values after 30 days of pumping at 325 gal/min at the indicated distances\n",
    "\n",
    "|Time(days)|Distance (ft)|Drawdown (ft)|\n",
    "|---:|---:|---:|\n",
    "|30|50||\n",
    "|30|150||\n",
    "|30|250||\n",
    "|30|500||\n",
    "|30|1000||\n",
    "|30|3000||\n",
    "|30|6000||\n",
    "|30|10,000||\n",
    "\n",
    "<hr>"
   ]
  },
  {
   "cell_type": "markdown",
   "metadata": {},
   "source": [
    "# Exercise 3-4 (*Problem 5.9 pp. 216*)\n",
    "\n",
    "Refering to the well and aquifer system in Exercise 3-1 above, estimate the drawdown at a distance of 250 feet for the times in the table below:\n",
    "\n",
    "|Time(days)|Distance (ft)|Drawdown (ft)|\n",
    "|---:|---:|---:|\n",
    "|1/1440|250||\n",
    "|2/1440|250||\n",
    "|5/1440|250||\n",
    "|10/1440|250||\n",
    "|15/1440|250||\n",
    "|30/1440|250||\n",
    "|60/1440|250||\n",
    "|2/24|250||\n",
    "|5/24|250||\n",
    "|12/24|250||\n",
    "|1|250||\n",
    "|5|250||\n",
    "|10|250||\n",
    "|20|250||\n",
    "|30|250||\n",
    "\n",
    "<hr>"
   ]
  },
  {
   "cell_type": "markdown",
   "metadata": {},
   "source": [
    "# Exercise 3-5 (*Problem 5.13 pp. 216*)\n",
    "\n",
    "A well that pumps at a constsnt rate of 78,000 ft$^3$/day has achieved equilibrium so that there is no change in drawdown with time. (The cone of depression has expanded to include a recharge zone equal to the amount of water being pumped.)  The well taps a confined aquifer that is 18 ft. thick. An observation well 125 ft. away has a head of 227 ft above MSL; another observation well 385 ft. away has a head of 291 ft.\n",
    "\n",
    "Determine:\n",
    "1. The aquifer transmissivity using the Theim equation\n",
    "<hr>"
   ]
  },
  {
   "cell_type": "markdown",
   "metadata": {},
   "source": [
    "# Exercise 3-6 (*Problem 5.14 pp. 216*)\n",
    "\n",
    "A well that pumps at a constsnt rate of 78,000 ft$^3$/day has achieved equilibrium so that there is no change in drawdown with time. (The cone of depression has expanded to include a recharge zone equal to the amount of water being pumped.)  The well taps an unconfined aquifer that consists of sand overlying impermeable bedrock at an elevation of 260 ft. above MSL. An observation well 125 ft. away has a head of 227 ft. above MSL; another observation well 385 ft. away has a head of 291 ft.\n",
    "\n",
    "Determine:\n",
    "1. The hydraulic conductivity using the Theim equation"
   ]
  },
  {
   "cell_type": "code",
   "execution_count": null,
   "metadata": {},
   "outputs": [],
   "source": []
  }
 ],
 "metadata": {
  "kernelspec": {
   "display_name": "Python 3",
   "language": "python",
   "name": "python3"
  },
  "language_info": {
   "codemirror_mode": {
    "name": "ipython",
    "version": 3
   },
   "file_extension": ".py",
   "mimetype": "text/x-python",
   "name": "python",
   "nbconvert_exporter": "python",
   "pygments_lexer": "ipython3",
   "version": "3.8.10"
  }
 },
 "nbformat": 4,
 "nbformat_minor": 4
}
