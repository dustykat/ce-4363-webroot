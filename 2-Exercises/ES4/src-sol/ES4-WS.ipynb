{
 "cells": [
  {
   "cell_type": "markdown",
   "metadata": {},
   "source": [
    "# <font color=darkblue>CE 4363/5363 Groundwater Hydrology <br> Spring 2023 Exercise Set 4</font>\n",
    "\n",
    "**LAST NAME, FIRST NAME**\n",
    "\n",
    "**R00000000**\n",
    "\n",
    "<hr>\n",
    "\n",
    "### Purpose : \n",
    "Reinforce principles of groundwater flow to wells; apply method of images to represent boundaries\n",
    " \n",
    "### Assessment Criteria : \n",
    "Completion, results plausible, format correct, example calculations shown.  \n",
    "<hr>"
   ]
  },
  {
   "cell_type": "markdown",
   "metadata": {},
   "source": [
    "# Exercise 4-1 (*Problem ?? pp. ??*)\n",
    "The Theis (Eqn. 5.12, p. 162) and Cooper-Jacob (Eqn. 5.54 p. 180) equations can both be used to estimate drawdown for confined aquifer transient problems. A fully penetrating pumping well flows at 300 gpm in a confined aquifer with\n",
    "transmissivity of 11,500 gpd/ft and storage coefficient of 0.00043.\n",
    "\n",
    "The two models are:\n",
    "1. Theis: $s(r,t) = \\frac{Q_w}{4 \\pi T}W(u)$\n",
    "2. Cooper-Jacob: $s(r,t) = \\frac{Q_w}{4 \\pi T}[-0.5772-ln(u)]$\n",
    "\n",
    "where $u=\\frac{r^2 S}{4 T t}$\n",
    "\n",
    "Determine:\n",
    "1. The drawdown at an observation well 125 ft from the pumping well at 3 hr after pumping started using the Theis solution.\n",
    "2. The drawdown at an observation well 125 ft from the pumping well at 3 hr after pumping started using the Cooper-Jacob simplification.\n",
    "3. For this distance of 125 ft, at what time value in hours does u=0.01?\n",
    "\n",
    "<hr>"
   ]
  },
  {
   "cell_type": "code",
   "execution_count": 75,
   "metadata": {},
   "outputs": [],
   "source": [
    "# Build Computation Tools:\n",
    "\n",
    "def W(u): # Theis well function using exponential integral\n",
    "    import scipy.special as sc\n",
    "    w = sc.expn(1,u)\n",
    "    return(w)\n",
    "\n",
    "def ddn_theis(radius,time,storage,transmissivity,discharge): # Drawdown function using exponential integral\n",
    "    import math\n",
    "    u = ((radius**2)*(storage))/(4*transmissivity*time)\n",
    "    s = ((discharge)/(4*math.pi*transmissivity))*W(u)\n",
    "    return(s)\n",
    "\n",
    "def ddn_jacob(radius,time,storage,transmissivity,discharge): # Drawdown function using jacob approximation\n",
    "    import math\n",
    "    u = ((radius**2)*(storage))/(4*transmissivity*time)\n",
    "    s = ((discharge)/(4*math.pi*transmissivity))*(-0.5772 - math.log(u))\n",
    "    return(s)\n"
   ]
  },
  {
   "cell_type": "code",
   "execution_count": 4,
   "metadata": {},
   "outputs": [
    {
     "name": "stdout",
     "output_type": "stream",
     "text": [
      "Drawdown by Theis Solution\n",
      "Distance to Pumping Well: 125  feet\n",
      "Pumping Duration: 0.12  days\n",
      "Transmissivity: 1536.41  sq.ft./day\n",
      "Storativity: 0.00043\n",
      "Pump Rate 57715.43  cu.ft./day\n",
      "Drawdown at Observation Well: 12.47  feet\n"
     ]
    }
   ],
   "source": [
    "# Part 1\n",
    "radius = 125\n",
    "transmissivity = 11500 # gpd/ft (need to convert to ft^2/day)\n",
    "transmissivity = transmissivity*(1/7.485) # gpd/7.48g/ft3/ft ->ft^3/day/ft -> ft^2/day! yay! \n",
    "storage = 0.00043\n",
    "discharge = 300 #gpm, convert to ft^3/day\n",
    "discharge = discharge*(1/7.485)*(1440) # gpm/7.48g/ft3 -> ft3/min*1440min/day -> ft3/day\n",
    "time = 3/24\n",
    "# all units should be consistent so use the functions\n",
    "theis = ddn_theis(radius,time,storage,transmissivity,discharge)\n",
    "print(\"Drawdown by Theis Solution\")\n",
    "print(\"Distance to Pumping Well:\",round(radius,2),\" feet\")\n",
    "print(\"Pumping Duration:\",round(time,2),\" days\")\n",
    "print(\"Transmissivity:\",round(transmissivity,2),\" sq.ft./day\")\n",
    "print(\"Storativity:\",round(storage,6))\n",
    "print(\"Pump Rate\",round(discharge,2),\" cu.ft./day\")\n",
    "print(\"Drawdown at Observation Well:\",round(theis,2),\" feet\")"
   ]
  },
  {
   "cell_type": "code",
   "execution_count": 5,
   "metadata": {},
   "outputs": [
    {
     "name": "stdout",
     "output_type": "stream",
     "text": [
      "Drawdown by Jacob Approximation\n",
      "Distance to Pumping Well: 125  feet\n",
      "Pumping Duration: 0.12  days\n",
      "Transmissivity: 1536.41  sq.ft./day\n",
      "Storativity: 0.00043\n",
      "Pump Rate 57715.43  cu.ft./day\n",
      "Drawdown at Observation Well: 12.44  feet\n"
     ]
    }
   ],
   "source": [
    "# Part 2\n",
    "radius = 125\n",
    "transmissivity = 11500 # gpd/ft (need to convert to ft^2/day)\n",
    "transmissivity = transmissivity*(1/7.485) # gpd/7.48g/ft3/ft ->ft^3/day/ft -> ft^2/day! yay! \n",
    "storage = 0.00043\n",
    "discharge = 300 #gpm, convert to ft^3/day\n",
    "discharge = discharge*(1/7.485)*(1440) # gpm/7.48g/ft3 -> ft3/min*1440min/day -> ft3/day\n",
    "time = 3/24\n",
    "# all units should be consistent so use the functions\n",
    "jacob = ddn_jacob(radius,time,storage,transmissivity,discharge)\n",
    "print(\"Drawdown by Jacob Approximation\")\n",
    "print(\"Distance to Pumping Well:\",round(radius,2),\" feet\")\n",
    "print(\"Pumping Duration:\",round(time,2),\" days\")\n",
    "print(\"Transmissivity:\",round(transmissivity,2),\" sq.ft./day\")\n",
    "print(\"Storativity:\",round(storage,6))\n",
    "print(\"Pump Rate\",round(discharge,2),\" cu.ft./day\")\n",
    "print(\"Drawdown at Observation Well:\",round(jacob,2),\" feet\")"
   ]
  },
  {
   "cell_type": "code",
   "execution_count": 29,
   "metadata": {},
   "outputs": [
    {
     "name": "stdout",
     "output_type": "stream",
     "text": [
      "For time: 0.109326  value of u is: 0.01\n"
     ]
    }
   ],
   "source": [
    "# Part 3\n",
    "# Code up the formula then trial-error to fund time that makes u = 0.01\n",
    "# Or use bisection, quasi-newton, secant ... search methods.  Trial-error probably fastest in terms of human time\n",
    "# Or use algebra\n",
    "\n",
    "# By dumbassedry trial-error\n",
    "time = 0.109326  #guess this value\n",
    "u = ((radius**2)*(storage))/(4*transmissivity*time)\n",
    "print(\"For time:\",round(time,6),\" value of u is:\",round(u,3))"
   ]
  },
  {
   "cell_type": "code",
   "execution_count": 30,
   "metadata": {},
   "outputs": [
    {
     "name": "stdout",
     "output_type": "stream",
     "text": [
      "For time: 0.109326  value of u is: 0.01\n"
     ]
    }
   ],
   "source": [
    "# using algerbra\n",
    "target = 0.01\n",
    "time = ((radius**2)*(storage))/(target*4*transmissivity)\n",
    "print(\"For time:\",round(time,6),\" value of u is:\",round(target,3))"
   ]
  },
  {
   "cell_type": "markdown",
   "metadata": {},
   "source": [
    "# Exercise 4-2 (*Problem ?? pp. ??*)\n",
    "Show how variations in $T$ and $S$ affect transient drawdown curves in an ideal confined aquifer at r = 1, 5, 10, 15, 30, 60, 90, and 120 m when Q = 10 $\\frac{L}{sec}$ and t = 400 min. \n",
    "\n",
    "Determine:\n",
    "1. For $S=5 \\times 10^{-4}$ , plot drawdown vs. r for $T=1.0 \\times 10^{-1}$ , $1.0 \\times 10^{-2}$ , and $1.0 \\times 10^{-3}$ $\\frac{m^2}{sec}$ on one graph.\n",
    "2. For $T=1.0 \\times 10^{-2}$ $\\frac{m^2}{sec}$, plot drawdown vs. r for $S=5 \\times 10^{-3}$ , $5 \\times 10^{-4}$ , and $5 \\times 10^{-5}$ on one graph.\n",
    "3. Summarize your findings into a narrative form (e.g. use words)\n",
    "\n",
    "<hr>"
   ]
  },
  {
   "cell_type": "code",
   "execution_count": 175,
   "metadata": {},
   "outputs": [
    {
     "data": {
      "image/png": "[encoded data removed]",
      "text/plain": [
       "<Figure size 432x288 with 1 Axes>"
      ]
     },
     "metadata": {
      "needs_background": "light"
     },
     "output_type": "display_data"
    }
   ],
   "source": [
    "# Use scripts above, but add some graphics\n",
    "ttime = 400 # minutes \n",
    "ttime = 400*60 # convert to seconds\n",
    "\n",
    "data = \\\n",
    "[[ttime,1],\n",
    "[ttime ,5],\n",
    "[ttime ,10],\n",
    "[ttime ,15],\n",
    "[ttime ,30],\n",
    "[ttime ,60],\n",
    "[ttime ,90],\n",
    "[ttime ,120]]\n",
    "S1 = 0.005 # given\n",
    "S2 = 0.0005\n",
    "S3 = 0.00005\n",
    "T1 = 0.1 # given\n",
    "T2 = 0.01\n",
    "T3 = 0.001\n",
    "QLPS = 10 # given\n",
    "QCMS = QLPS/1000 # convert to LPS to CMS\n",
    "ddn1 = [0 for i in range(len(data))]\n",
    "ddn2 = [0 for i in range(len(data))]\n",
    "ddn3 = [0 for i in range(len(data))]\n",
    "time = [0 for i in range(len(data))]\n",
    "distance = [0 for i in range(len(data))]\n",
    "#print(\"Time(days)|Radius(ft)|Drawdown(ft)|\")\n",
    "for irow in range(len(data)):\n",
    "    time[irow]=data[irow][0]\n",
    "    distance[irow]=data[irow][1]\n",
    "    ddn1[irow] = ddn_theis(distance[irow],time[irow],S2,T1,QCMS)\n",
    "    ddn2[irow] = ddn_theis(distance[irow],time[irow],S2,T2,QCMS)\n",
    "    ddn3[irow] = ddn_theis(distance[irow],time[irow],S2,T3,QCMS)\n",
    "#    print(\"%10i|%10i|%12.2f|\"%(time[irow],distance[irow],round(ddn3[irow],2)))\n",
    "\n",
    "# import the package\n",
    "import matplotlib.pyplot as plt\n",
    "graph, (plot1) = plt.subplots(1, 1) # create a 1X1 plotting frame\n",
    "# Code adapted from: https://www.geeksforgeeks.org/how-to-reverse-axes-in-matplotlib/\n",
    "plot1.plot(distance, ddn1, c='red', marker='x',linewidth=1) # basic line plot\n",
    "plot1.plot(distance, ddn2, c='green', marker='x',linewidth=1) # basic line plot\n",
    "plot1.plot(distance, ddn3, c='blue', marker='x',linewidth=1) # basic line plot\n",
    "#plot1.set_xscale('log') # set x-axis to display a logarithmic scale #################\n",
    "plot1.set_ylim([0,10])\n",
    "plot1.invert_yaxis()\n",
    "plot1.set_xlabel('Distance (m)') # label the x-axis\n",
    "plot1.set_ylabel('Drawdown (m)') # label the y-axis, notice the LaTex markup\n",
    "plot1.legend(['T = 0.1','T = 0.01','T = 0.001']) # legend for each series\n",
    "plot1.set_title('Drawdown vs Distance for S =' + str(round(S2,5))+ '\\n') # make a plot title\n",
    "plot1.grid() # display a grid\n",
    "plt.show() # display the plot"
   ]
  },
  {
   "cell_type": "code",
   "execution_count": 84,
   "metadata": {},
   "outputs": [
    {
     "data": {
      "image/png": "[encoded data removed]",
      "text/plain": [
       "<Figure size 432x288 with 1 Axes>"
      ]
     },
     "metadata": {
      "needs_background": "light"
     },
     "output_type": "display_data"
    }
   ],
   "source": [
    "# Use scripts above, but add some graphics\n",
    "ttime = 400 # minutes \n",
    "ttime = 400*60 # convert to seconds\n",
    "\n",
    "data = \\\n",
    "[[ttime,1],\n",
    "[ttime ,5],\n",
    "[ttime ,10],\n",
    "[ttime ,15],\n",
    "[ttime ,30],\n",
    "[ttime ,60],\n",
    "[ttime ,90],\n",
    "[ttime ,120]]\n",
    "S1 = 0.005 # given\n",
    "S2 = 0.0005\n",
    "S3 = 0.00005\n",
    "T1 = 0.1 # given\n",
    "T2 = 0.01\n",
    "T3 = 0.001\n",
    "QLPS = 10 # given\n",
    "QCMS = QLPS/1000 # convert to LPS to CMS\n",
    "ddn1 = [0 for i in range(len(data))]\n",
    "ddn2 = [0 for i in range(len(data))]\n",
    "ddn3 = [0 for i in range(len(data))]\n",
    "time = [0 for i in range(len(data))]\n",
    "distance = [0 for i in range(len(data))]\n",
    "#print(\"Time(days)|Radius(ft)|Drawdown(ft)|\")\n",
    "for irow in range(len(data)):\n",
    "    time[irow]=data[irow][0]\n",
    "    distance[irow]=data[irow][1]\n",
    "    ddn1[irow] = ddn_theis(distance[irow],time[irow],S1,T2,QCMS)\n",
    "    ddn2[irow] = ddn_theis(distance[irow],time[irow],S2,T2,QCMS)\n",
    "    ddn3[irow] = ddn_theis(distance[irow],time[irow],S3,T2,QCMS)\n",
    "#    print(\"%10i|%10i|%12.2f|\"%(time[irow],distance[irow],round(ddn3[irow],2)))\n",
    "\n",
    "# import the package\n",
    "import matplotlib.pyplot as plt\n",
    "graph, (plot1) = plt.subplots(1, 1) # create a 1X1 plotting frame\n",
    "# Code adapted from: https://www.geeksforgeeks.org/how-to-reverse-axes-in-matplotlib/\n",
    "plot1.plot(distance, ddn1, c='red', marker='x',linewidth=1) # basic line plot\n",
    "plot1.plot(distance, ddn2, c='green', marker='x',linewidth=1) # basic line plot\n",
    "plot1.plot(distance, ddn3, c='blue', marker='x',linewidth=1) # basic line plot\n",
    "#plot1.set_xscale('log') # set x-axis to display a logarithmic scale #################\n",
    "plot1.set_ylim([0,10])\n",
    "plot1.invert_yaxis()\n",
    "plot1.set_xlabel('Distance (m)') # label the x-axis\n",
    "plot1.set_ylabel('Drawdown (m)') # label the y-axis, notice the LaTex markup\n",
    "plot1.legend(['S = 0.005','S = 0.0005','S = 0.00005']) # legend for each series\n",
    "plot1.set_title('Drawdown vs Distance for T =' + str(round(T2,5))+ '\\n') # make a plot title\n",
    "plot1.grid() # display a grid\n",
    "plt.show() # display the plot"
   ]
  },
  {
   "cell_type": "markdown",
   "metadata": {},
   "source": [
    "Observe plots far less sensitive to changes in S than changes in T, thus estimates for S need only be sort of close, but estimates of T need to be very close to \"truth\" to design pumping systems that are effective."
   ]
  },
  {
   "cell_type": "markdown",
   "metadata": {},
   "source": [
    "# Exercise 4-3 (*Problem ?? pp. ??*)\n",
    "\n",
    "A single ideal pumping well, with radius of 1.0 ft and flow rate of 155 gpm, exists in an ideal confined\n",
    "aquifer. The aquifer has a saturated thickness of 82 ft. The pump continues running until equilibrium\n",
    "conditions are reached. The drawdown at the pumping well is 42 ft, and the drawdown at an observation\n",
    "well 138 ft away is 7.5 ft.\n",
    "\n",
    "Determine: \n",
    "1. Find the transmissivity in $\\frac{ft^2}{d}$ and hydraulic conductivity in $\\frac{ft^2}{d}$.\n",
    "2. Find the radius of influence in feet.\n",
    "\n",
    "<hr>"
   ]
  },
  {
   "cell_type": "code",
   "execution_count": 132,
   "metadata": {},
   "outputs": [
    {
     "name": "stdout",
     "output_type": "stream",
     "text": [
      "T_guess:  500 Target:  34.5  Model:  46.76893019769393  Error:  -12.268930197693933\n",
      "T_guess:  600 Target:  34.5  Model:  38.97410849807827  Error:  -4.474108498078273\n",
      "T_guess:  700 Target:  34.5  Model:  33.40637871263852  Error:  1.0936212873614792\n",
      "T_guess:  800 Target:  34.5  Model:  29.230581373558703  Error:  5.269418626441297\n",
      "T_guess:  900 Target:  34.5  Model:  25.98273899871885  Error:  8.517261001281149\n",
      "T_guess:  1000 Target:  34.5  Model:  23.384465098846967  Error:  11.115534901153033\n"
     ]
    }
   ],
   "source": [
    "# Use Theim Solution\n",
    "# h2-h1 = Q/(2piT)ln(r2/r1)\n",
    "import math\n",
    "QGPM = 155 # given\n",
    "QCFS = QGPM*(1/7.485)*(1440) # convert GPM to CFS \n",
    "ddn2 = 7.5\n",
    "ddn1 = 42.0\n",
    "r2 = 138\n",
    "r1 = 1\n",
    "target = ddn1-ddn2 #why -> h1 = ho-ddn1, h2 = ho-ddn2 \n",
    "Tguess = [500,600,700,800,900,1000]\n",
    "for i in range(len(Tguess)):\n",
    "    model = (QCFS/(2.0*math.pi*Tguess[i]))*math.log(r2/r1)\n",
    "    print(\"T_guess: \",Tguess[i],\"Target: \",target,\" Model: \",model,\" Error: \",target-model)\n"
   ]
  },
  {
   "cell_type": "markdown",
   "metadata": {},
   "source": [
    "So T is somewhere between 600 and 700, refine the search:"
   ]
  },
  {
   "cell_type": "code",
   "execution_count": 133,
   "metadata": {},
   "outputs": [
    {
     "name": "stdout",
     "output_type": "stream",
     "text": [
      "T_guess:  600 Target:  34.5  Model:  38.97410849807827  Error:  -4.474108498078273\n",
      "T_guess:  620 Target:  34.5  Model:  37.71687919168865  Error:  -3.2168791916886477\n",
      "T_guess:  640 Target:  34.5  Model:  36.53822671694838  Error:  -2.0382267169483796\n",
      "T_guess:  660 Target:  34.5  Model:  35.43100772552571  Error:  -0.9310077255257099\n",
      "T_guess:  680 Target:  34.5  Model:  34.38891926301024  Error:  0.11108073698976284\n",
      "T_guess:  700 Target:  34.5  Model:  33.40637871263852  Error:  1.0936212873614792\n"
     ]
    }
   ],
   "source": [
    "# Use Theim Solution\n",
    "# h2-h1 = Q/(2piT)ln(r2/r1)\n",
    "import math\n",
    "QGPM = 155 # given\n",
    "QCFS = QGPM*(1/7.485)*(1440) # convert GPM to CFS \n",
    "ddn2 = 7.5\n",
    "ddn1 = 42.0\n",
    "r2 = 138\n",
    "r1 = 1\n",
    "target = ddn1-ddn2 #why -> h1 = ho-ddn1, h2 = ho-ddn2 \n",
    "Tguess = [600,620,640,660,680,700]\n",
    "for i in range(len(Tguess)):\n",
    "    model = (QCFS/(2.0*math.pi*Tguess[i]))*math.log(r2/r1)\n",
    "    print(\"T_guess: \",Tguess[i],\"Target: \",target,\" Model: \",model,\" Error: \",target-model)\n"
   ]
  },
  {
   "cell_type": "markdown",
   "metadata": {},
   "source": [
    "Refine again!"
   ]
  },
  {
   "cell_type": "code",
   "execution_count": 137,
   "metadata": {},
   "outputs": [
    {
     "name": "stdout",
     "output_type": "stream",
     "text": [
      "T_guess:  677 Target:  34.5  Model:  34.54130738382122  Error:  -0.0413073838212199\n",
      "T_guess:  677.2 Target:  34.5  Model:  34.53110617077224  Error:  -0.031106170772240205\n",
      "T_guess:  677.4 Target:  34.5  Model:  34.5209109814688  Error:  -0.020910981468801992\n",
      "T_guess:  677.6 Target:  34.5  Model:  34.51072181057698  Error:  -0.010721810576981738\n",
      "T_guess:  677.8 Target:  34.5  Model:  34.5005386527692  Error:  -0.0005386527692010645\n",
      "T_guess:  678 Target:  34.5  Model:  34.49036150272414  Error:  0.009638497275858526\n",
      "8.265853658536585\n"
     ]
    }
   ],
   "source": [
    "# Use Theim Solution\n",
    "# h2-h1 = Q/(2piT)ln(r2/r1)\n",
    "import math\n",
    "QGPM = 155 # given\n",
    "QCFS = QGPM*(1/7.485)*(1440) # convert GPM to CFS \n",
    "ddn2 = 7.5\n",
    "ddn1 = 42.0\n",
    "r2 = 138\n",
    "r1 = 1\n",
    "target = ddn1-ddn2 #why -> h1 = ho-ddn1, h2 = ho-ddn2 \n",
    "Tguess = [677,677.2,677.4,677.6,677.8,678]\n",
    "for i in range(len(Tguess)):\n",
    "    model = (QCFS/(2.0*math.pi*Tguess[i]))*math.log(r2/r1)\n",
    "    print(\"T_guess: \",Tguess[i],\"Target: \",target,\" Model: \",model,\" Error: \",target-model)\n",
    "\n"
   ]
  },
  {
   "cell_type": "markdown",
   "metadata": {},
   "source": [
    "Klose enough, declare $T = 677.8 \\frac{ft^2}{day}$,$K = 677.8/82 = 8.26 \\frac{ft}{day}$\n",
    "\n",
    "The next part is to find r2 so that ddn2 = 0"
   ]
  },
  {
   "cell_type": "code",
   "execution_count": 147,
   "metadata": {},
   "outputs": [
    {
     "name": "stdout",
     "output_type": "stream",
     "text": [
      "R_guess:  340 Target:  42.0  Model:  40.814168791642885  Error:  1.185831208357115\n",
      "R_guess:  350 Target:  42.0  Model:  41.01713898563895  Error:  0.982861014361049\n",
      "R_guess:  360 Target:  42.0  Model:  41.214390942159824  Error:  0.7856090578401762\n",
      "R_guess:  370 Target:  42.0  Model:  41.40623804978304  Error:  0.5937619502169582\n",
      "R_guess:  380 Target:  42.0  Model:  41.59296861980247  Error:  0.40703138019753027\n",
      "R_guess:  390 Target:  42.0  Model:  41.77484849243411  Error:  0.22515150756589009\n",
      "R_guess:  400 Target:  42.0  Model:  41.95212331300944  Error:  0.04787668699056269\n",
      "R_guess:  410 Target:  42.0  Model:  42.12502052706567  Error:  -0.12502052706567213\n"
     ]
    }
   ],
   "source": [
    "# Use Theim Solution\n",
    "# h2-h1 = Q/(2piT)ln(r2/r1)\n",
    "import math\n",
    "QGPM = 155 # given\n",
    "QCFS = QGPM*(1/7.485)*(1440) # convert GPM to CFS \n",
    "ddn2 = 0 #looking for r2 tro make this happen\n",
    "ddn1 = 42.0\n",
    "#r2 = 138\n",
    "r1 = 1\n",
    "target = ddn1-ddn2 #why -> h1 = ho-ddn1, h2 = ho-ddn2 \n",
    "Tguess = 677.8\n",
    "r2 = [340,350,360,370,380,390,400,410]\n",
    "for i in range(len(r2)):\n",
    "    model = (QCFS/(2.0*math.pi*Tguess))*math.log(r2[i]/r1)\n",
    "    print(\"R_guess: \",r2[i],\"Target: \",target,\" Model: \",model,\" Error: \",target-model)\n"
   ]
  },
  {
   "cell_type": "markdown",
   "metadata": {},
   "source": [
    "So between 400 and 410; refine:"
   ]
  },
  {
   "cell_type": "code",
   "execution_count": 148,
   "metadata": {},
   "outputs": [
    {
     "name": "stdout",
     "output_type": "stream",
     "text": [
      "R_guess:  400 Target:  42.0  Model:  41.95212331300944  Error:  0.04787668699056269\n",
      "R_guess:  401 Target:  42.0  Model:  41.96960642171606  Error:  0.030393578283941736\n",
      "R_guess:  402 Target:  42.0  Model:  41.98704598589763  Error:  0.012954014102369626\n",
      "R_guess:  403 Target:  42.0  Model:  42.004442221924805  Error:  -0.004442221924804812\n",
      "R_guess:  404 Target:  42.0  Model:  42.02179534455953  Error:  -0.021795344559528473\n",
      "R_guess:  405 Target:  42.0  Model:  42.039105566970925  Error:  -0.0391055669709246\n",
      "R_guess:  406 Target:  42.0  Model:  42.05637310075105  Error:  -0.05637310075105262\n",
      "R_guess:  407 Target:  42.0  Model:  42.073598155930405  Error:  -0.07359815593040508\n",
      "R_guess:  408 Target:  42.0  Model:  42.09078094099321  Error:  -0.09078094099321277\n",
      "R_guess:  409 Target:  42.0  Model:  42.107921662892636  Error:  -0.10792166289263605\n",
      "R_guess:  410 Target:  42.0  Model:  42.12502052706567  Error:  -0.12502052706567213\n"
     ]
    }
   ],
   "source": [
    "# Use Theim Solution\n",
    "# h2-h1 = Q/(2piT)ln(r2/r1)\n",
    "import math\n",
    "QGPM = 155 # given\n",
    "QCFS = QGPM*(1/7.485)*(1440) # convert GPM to CFS \n",
    "ddn2 = 0 #looking for r2 tro make this happen\n",
    "ddn1 = 42.0\n",
    "#r2 = 138\n",
    "r1 = 1\n",
    "target = ddn1-ddn2 #why -> h1 = ho-ddn1, h2 = ho-ddn2 \n",
    "Tguess = 677.8\n",
    "r2 = [400,401,402,403,404,405,406,407,408,409,410]\n",
    "for i in range(len(r2)):\n",
    "    model = (QCFS/(2.0*math.pi*Tguess))*math.log(r2[i]/r1)\n",
    "    print(\"R_guess: \",r2[i],\"Target: \",target,\" Model: \",model,\" Error: \",target-model)\n"
   ]
  },
  {
   "cell_type": "code",
   "execution_count": 149,
   "metadata": {},
   "outputs": [
    {
     "name": "stdout",
     "output_type": "stream",
     "text": [
      "R_guess:  402 Target:  42.0  Model:  41.98704598589763  Error:  0.012954014102369626\n",
      "R_guess:  402.1 Target:  42.0  Model:  41.98878755571117  Error:  0.01121244428883017\n",
      "R_guess:  402.2 Target:  42.0  Model:  41.990528692459975  Error:  0.009471307540025009\n",
      "R_guess:  402.3 Target:  42.0  Model:  41.99226939635936  Error:  0.007730603640638378\n",
      "R_guess:  402.4 Target:  42.0  Model:  41.994009667624496  Error:  0.005990332375503726\n",
      "R_guess:  402.5 Target:  42.0  Model:  41.99574950647038  Error:  0.004250493529617927\n",
      "R_guess:  402.6 Target:  42.0  Model:  41.99748891311186  Error:  0.0025110868881412785\n",
      "R_guess:  402.7 Target:  42.0  Model:  41.99922788776359  Error:  0.000772112236411715\n",
      "R_guess:  402.8 Target:  42.0  Model:  42.00096643064012  Error:  -0.0009664306401191425\n",
      "R_guess:  402.9 Target:  42.0  Model:  42.00270454195579  Error:  -0.0027045419557865102\n",
      "R_guess:  403 Target:  42.0  Model:  42.004442221924805  Error:  -0.004442221924804812\n"
     ]
    }
   ],
   "source": [
    "# Use Theim Solution\n",
    "# h2-h1 = Q/(2piT)ln(r2/r1)\n",
    "import math\n",
    "QGPM = 155 # given\n",
    "QCFS = QGPM*(1/7.485)*(1440) # convert GPM to CFS \n",
    "ddn2 = 0 #looking for r2 tro make this happen\n",
    "ddn1 = 42.0\n",
    "#r2 = 138\n",
    "r1 = 1\n",
    "target = ddn1-ddn2 #why -> h1 = ho-ddn1, h2 = ho-ddn2 \n",
    "Tguess = 677.8\n",
    "r2 = [402,402.1,402.2,402.3,402.4,402.5,402.6,402.7,402.8,402.9,403]\n",
    "for i in range(len(r2)):\n",
    "    model = (QCFS/(2.0*math.pi*Tguess))*math.log(r2[i]/r1)\n",
    "    print(\"R_guess: \",r2[i],\"Target: \",target,\" Model: \",model,\" Error: \",target-model)\n"
   ]
  },
  {
   "cell_type": "markdown",
   "metadata": {},
   "source": [
    "So $r=402.7$ is close enough, thus the anticipaed radius of influence is $R_e = 402.7 ~m$"
   ]
  },
  {
   "cell_type": "markdown",
   "metadata": {},
   "source": [
    "### Useful References for Problems below:\n",
    "1. [Fetter and Kreamer (2022) Applied Hydrology 5ed. pp. 212-215](https://arjzaidi.files.wordpress.com/2015/09/unimasr-com_e7ce669a880a8c4c70b4214641f93a02.pdf)\n",
    "1. [Kelvin's Method of Images for potential flow (MIT fluid flow lecture)](http://web.mit.edu/fluids-modules/www/potential_flows/LecturesHTML/lec1011/node37.html)\n",
    "3. [Method of Images (Wikipedia)](https://en.wikipedia.org/wiki/Method_of_images)\n",
    "2. [Carslaw and Jaeger (1959), *Conduction of Heat in Solids, 2ed.* Oxford University Press in particular Chapter 10 pp. 274](http://54.243.252.9/ce-4363-webroot/3-Readings/carslaw-and-jaeger-conduction-of-heat-in-solids-1959isbn-0198533683.pdf)\n",
    "\n",
    "\n",
    "# Exercise 4-4 (*Problem ?? pp. ??*)\n",
    "\n",
    "An unconfined aquifer exists where a buried river channel cut into underlying impermeable bedrock.\n",
    "The figure below shows the orientation and pertinent dimensions. The flow rate at the pumping well is 250\n",
    "gpm, and its radius of influence is 1000 ft. The hydraulic conductivity of the aquifer is 15 ft/d, and the initial\n",
    "saturated thickness is 120 ft. Find the drawdown at the observation well under equilibrium conditions.\n",
    "\n",
    "![](planview-unconfined.png)\n",
    "\n",
    "<hr>\n",
    "\n",
    "**Solution**\n",
    "\n",
    "For any single well:\n",
    "\n",
    "$s(r,R_{eff})=H_{ref} - \\sqrt{[H_{ref}^2 - \\frac{Q}{\\pi*K}ln(\\frac{R_{eff}}{r})]}$\n",
    "\n",
    "Supoertposition of image wells to complete estimate and reflect boundaries as below:\n",
    "\n",
    "![](imagewells.png)\n",
    "\n",
    "A script for the gonculations:\n"
   ]
  },
  {
   "cell_type": "code",
   "execution_count": 173,
   "metadata": {},
   "outputs": [
    {
     "name": "stdout",
     "output_type": "stream",
     "text": [
      "Drawdown at observation well from pumping and boundaries:  12.18  feets\n"
     ]
    }
   ],
   "source": [
    "# model\n",
    "def head_unconf(radius,discharge,conductivity,href,Reff):\n",
    "    import math\n",
    "    if radius >= Reff:\n",
    "        head_unconf = math.sqrt(href**2 - 0)\n",
    "    else:\n",
    "        head_unconf = math.sqrt(href**2 - (discharge/(math.pi*conductivity))*math.log(Reff/radius))\n",
    "    return(head_unconf)\n",
    "# parameters\n",
    "K=15 #ft/day\n",
    "QGPM = 250 # given\n",
    "QCFS = QGPM*(1/7.485)*(1440) # convert GPM to CFS \n",
    "REFF = 1000 #given\n",
    "HREFF = 120 #given\n",
    "\n",
    "# ddn from real well\n",
    "ddn1 = HREFF - head_unconf(160,QCFS,K,HREFF,REFF)\n",
    "# ddn 1st image \n",
    "ddn2 = HREFF - head_unconf(3*160,QCFS,K,HREFF,REFF)\n",
    "# ddn 2nd image\n",
    "ddn3 = HREFF - ddn_unconf(5*160,QCFS,K,HREFF,REFF)\n",
    "# ddn 3rd image\n",
    "ddn4 = HREFF - ddn_unconf(7*160,QCFS,K,HREFF,REFF)\n",
    "# ddn 4th image\n",
    "ddn5 = HREFF - ddn_unconf(9*160,QCFS,K,HREFF,REFF)\n",
    "\n",
    "ddn_obs=ddn1+ddn2+ddn3+ddn4+ddn5\n",
    "\n",
    "print(\"Drawdown at observation well from pumping and boundaries: \",round(ddn_obs,3),\" feets\")"
   ]
  },
  {
   "cell_type": "markdown",
   "metadata": {},
   "source": [
    "# Exercise 4-5 (*Problem ?? pp. 216*)\n",
    "\n",
    "Consider the figure below. Wells 1, 2, and 3 are pumping wells, and Obs 1 and 2 are just observation\n",
    "wells (no pumping at all). Provide a sketch to scale, drawn with a straightedge, that shows all the proper\n",
    "image wells (pp. 212-215) necessary to represent the impacts of the two boundaries on the pumping and observation well\n",
    "drawdowns.\n",
    "\n",
    "![](image-wells.png)\n",
    "\n",
    "<hr>\n",
    "\n",
    "**Solution**\n",
    "\n",
    "Create the wellfield array:\n",
    "\n",
    "![](wellfield.png)\n",
    "\n",
    "**Code the Solution (future exercise)**"
   ]
  },
  {
   "cell_type": "code",
   "execution_count": 174,
   "metadata": {},
   "outputs": [],
   "source": [
    "def W(u): # Theis well function using exponential integral\n",
    "    import scipy.special as sc\n",
    "    w = sc.expn(1,u)\n",
    "    return(w)\n",
    "\n",
    "def ddn_theis(radius,time,storage,transmissivity,discharge): # Drawdown function using exponential integral\n",
    "    import math\n",
    "    u = ((radius**2)*(storage))/(4*transmissivity*time)\n",
    "    s = ((discharge)/(4*math.pi*transmissivity))*W(u)\n",
    "    return(s)\n",
    "\n",
    "# array for observations\n",
    "\n",
    "# array for pumps\n",
    "\n",
    "# compute distance \n",
    "# radius = sqrt(x1-xo**2 +y1-yo**2) ...."
   ]
  },
  {
   "cell_type": "markdown",
   "metadata": {},
   "source": [
    "# Exercise 4-6 (CE 5363 students)(*Problem ?? pp. ??*)\n",
    "\n",
    "A single pumping well, with a flow rate of 250 gpm, fully penetrates a confined aquifer. The aquifer has\n",
    "a saturated thickness of 110 ft, hydraulic conductivity of 20 ft/d, and storage coefficient of 0.00050. Due to\n",
    "outcropping of the aquifer, a no-flow zone exists 200 ft east of the pumping well and extends as a straight\n",
    "line to both north and south. An observation well is located 100 ft south and 120 ft east of the pumping\n",
    "well. \n",
    "\n",
    "Determine:\n",
    "1. Drawdown in feet at the observation well at time t=1, 5, 10, 20, 30, 40, 60, 80, 100, 120, 240, 480, 600, 720, 840, 960, 1200, and 1440 min after the well is turned on. \n",
    "2. Plot the drawdown vs. log time. \n",
    "3. Change the boundary type to a constant head boundary and plot the drawdown vs. log time.\n",
    "4. Combine the two plots into a single graph (both boundary types - same graphic)\n",
    "3. Summarize your findings in a narrative (e.g. use words)."
   ]
  },
  {
   "cell_type": "markdown",
   "metadata": {},
   "source": [
    "**Solution**\n",
    "\n",
    "Use tools above, need geometry\n",
    "\n",
    "![](imagewelltheory.png)"
   ]
  },
  {
   "cell_type": "code",
   "execution_count": 15,
   "metadata": {},
   "outputs": [
    {
     "data": {
      "image/png": "[encoded data removed]",
      "text/plain": [
       "<Figure size 432x288 with 1 Axes>"
      ]
     },
     "metadata": {
      "needs_background": "light"
     },
     "output_type": "display_data"
    }
   ],
   "source": [
    "# Build Computation Tools:\n",
    "\n",
    "def W(u): # Theis well function using exponential integral\n",
    "    import scipy.special as sc\n",
    "    w = sc.expn(1,u)\n",
    "    return(w)\n",
    "\n",
    "def ddn_theis(radius,time,storage,transmissivity,discharge): # Drawdown function using exponential integral\n",
    "    import math\n",
    "    u = ((radius**2)*(storage))/(4*transmissivity*time)\n",
    "    s = ((discharge)/(4*math.pi*transmissivity))*W(u)\n",
    "    return(s)\n",
    "\n",
    "import math\n",
    "QGPM = 250 #given\n",
    "QCFD = (QGPM/7.48)*1440 #convert gpm to ft^3/day\n",
    "dpw2obs = math.sqrt(100^2 + 120^2) # pump well to obs\n",
    "diw2obs = math.sqrt(100^2 + 280^2) # image well to obs\n",
    "time =[1,5,10,20,30,40,60,80,100,120,240,480,600,720,840,960,1200,1440] # list of times in minuten\n",
    "for i in range(len(time)):\n",
    "    time[i]=time[i]/1440.  # convert time into days\n",
    "K = 20 # hydraulic conductivity in ft/day\n",
    "b = 110 # aquifer thickness in ft\n",
    "T = K*b # transmissivity in ft^2/day\n",
    "S = 0.00050 #given\n",
    "ddn1 = [0 for i in range(len(time))]\n",
    "ddnpw = [0 for i in range(len(time))]\n",
    "ddniw = [0 for i in range(len(time))] # empty vectors to store results\n",
    "for i in range(len(time)):\n",
    "    ddnpw[i]=ddn_theis(dpw2obs,time[i],S,T,QCFD)\n",
    "    ddniw[i]=ddn_theis(diw2obs,time[i],S,T,QCFD)\n",
    "    ddn1[i]=ddnpw[i]+ddniw[i]\n",
    "    \n",
    "#convert time back to minutes\n",
    "for i in range(len(time)):\n",
    "    time[i]=time[i]*1440.  # convert time into minutes \n",
    "# plot results\n",
    "\n",
    "# import the package\n",
    "import matplotlib.pyplot as plt\n",
    "graph, (plot1) = plt.subplots(1, 1) # create a 1X1 plotting frame\n",
    "# Code adapted from: https://www.geeksforgeeks.org/how-to-reverse-axes-in-matplotlib/\n",
    "plot1.plot(time, ddn1, c='red', marker='x',linewidth=1) # basic line plot\n",
    "#plot1.plot(time, ddnpw, c='green', marker='x',linewidth=1) # basic line plot\n",
    "#plot1.plot(time, ddniw, c='blue', marker='x',linewidth=1) # basic line plot\n",
    "plot1.set_xscale('log') # set x-axis to display a logarithmic scale #################\n",
    "plot1.set_ylim([0,50])\n",
    "plot1.invert_yaxis()\n",
    "plot1.set_xlabel('Time (minutes)') # label the x-axis\n",
    "plot1.set_ylabel('Drawdown (ft)') # label the y-axis, notice the LaTex markup\n",
    "plot1.legend(['Observed Drawdown','Drawdown from Pumping Well','Drawdown from Image Well']) # legend for each series\n",
    "plot1.set_title('Drawdown vs Time\\n') # make a plot title\n",
    "plot1.grid() # display a grid\n",
    "plt.show() # display the plot"
   ]
  },
  {
   "cell_type": "code",
   "execution_count": 16,
   "metadata": {},
   "outputs": [
    {
     "data": {
      "image/png": "[encoded data removed]",
      "text/plain": [
       "<Figure size 432x288 with 1 Axes>"
      ]
     },
     "metadata": {
      "needs_background": "light"
     },
     "output_type": "display_data"
    }
   ],
   "source": [
    "# Build Computation Tools:\n",
    "\n",
    "def W(u): # Theis well function using exponential integral\n",
    "    import scipy.special as sc\n",
    "    w = sc.expn(1,u)\n",
    "    return(w)\n",
    "\n",
    "def ddn_theis(radius,time,storage,transmissivity,discharge): # Drawdown function using exponential integral\n",
    "    import math\n",
    "    u = ((radius**2)*(storage))/(4*transmissivity*time)\n",
    "    s = ((discharge)/(4*math.pi*transmissivity))*W(u)\n",
    "    return(s)\n",
    "\n",
    "import math\n",
    "# To change boundary type change sense of pumping on image well\n",
    "time =[1,5,10,20,30,40,60,80,100,120,240,480,600,720,840,960,1200,1440] # list of times in minuten\n",
    "for i in range(len(time)):\n",
    "    time[i]=time[i]/1440.  # convert time into days\n",
    "K = 20 # hydraulic conductivity in ft/day\n",
    "b = 110 # aquifer thickness in ft\n",
    "T = K*b # transmissivity in ft^2/day\n",
    "S = 0.00050 #given\n",
    "ddn2 = [0 for i in range(len(time))]\n",
    "ddnpw = [0 for i in range(len(time))]\n",
    "ddniw = [0 for i in range(len(time))] # empty vectors to store results\n",
    "for i in range(len(time)):\n",
    "    ddnpw[i]=ddn_theis(dpw2obs,time[i],S,T,QCFD)\n",
    "    ddniw[i]=ddn_theis(diw2obs,time[i],S,T,-QCFD)###########change is here!\n",
    "    ddn2[i]=ddnpw[i]+ddniw[i]\n",
    "    \n",
    "#convert time back to minutes\n",
    "for i in range(len(time)):\n",
    "    time[i]=time[i]*1440.  # convert time into minutes \n",
    "# plot results\n",
    "\n",
    "# import the package\n",
    "import matplotlib.pyplot as plt\n",
    "graph, (plot1) = plt.subplots(1, 1) # create a 1X1 plotting frame\n",
    "# Code adapted from: https://www.geeksforgeeks.org/how-to-reverse-axes-in-matplotlib/\n",
    "plot1.plot(time, ddn2, c='red', marker='x',linewidth=1) # basic line plot\n",
    "#plot1.plot(time, ddnpw, c='green', marker='x',linewidth=1) # basic line plot\n",
    "#plot1.plot(time, ddniw, c='blue', marker='x',linewidth=1) # basic line plot\n",
    "plot1.set_xscale('log') # set x-axis to display a logarithmic scale #################\n",
    "plot1.set_ylim([0,50])\n",
    "plot1.invert_yaxis()\n",
    "plot1.set_xlabel('Time (minutes)') # label the x-axis\n",
    "plot1.set_ylabel('Drawdown (ft)') # label the y-axis, notice the LaTex markup\n",
    "plot1.legend(['Observed Drawdown','Drawdown from Pumping Well','Drawdown from Image Well']) # legend for each series\n",
    "plot1.set_title('Drawdown vs Time\\n') # make a plot title\n",
    "plot1.grid() # display a grid\n",
    "plt.show() # display the plot"
   ]
  },
  {
   "cell_type": "code",
   "execution_count": 17,
   "metadata": {},
   "outputs": [
    {
     "data": {
      "image/png": "[encoded data removed]",
      "text/plain": [
       "<Figure size 432x288 with 1 Axes>"
      ]
     },
     "metadata": {
      "needs_background": "light"
     },
     "output_type": "display_data"
    }
   ],
   "source": [
    "# Now both plots single graph\n",
    "# import the package\n",
    "import matplotlib.pyplot as plt\n",
    "graph, (plot1) = plt.subplots(1, 1) # create a 1X1 plotting frame\n",
    "# Code adapted from: https://www.geeksforgeeks.org/how-to-reverse-axes-in-matplotlib/\n",
    "plot1.plot(time, ddn1, c='red', marker='x',linewidth=1) # basic line plot\n",
    "plot1.plot(time, ddn2, c='green', marker='x',linewidth=1) # basic line plot\n",
    "#plot1.plot(time, ddniw, c='blue', marker='x',linewidth=1) # basic line plot\n",
    "plot1.set_xscale('log') # set x-axis to display a logarithmic scale #################\n",
    "plot1.set_ylim([0,50])\n",
    "plot1.invert_yaxis()\n",
    "plot1.set_xlabel('Time (minutes)') # label the x-axis\n",
    "plot1.set_ylabel('Drawdown (ft)') # label the y-axis, notice the LaTex markup\n",
    "plot1.legend(['Drawdown - No Flow Boundary','Drawdown - Constant Head Boundary','Drawdown from Image Well']) # legend for each series\n",
    "plot1.set_title('Drawdown vs Time\\n') # make a plot title\n",
    "plot1.grid() # display a grid\n",
    "plt.show() # display the plot"
   ]
  },
  {
   "cell_type": "code",
   "execution_count": null,
   "metadata": {},
   "outputs": [],
   "source": []
  }
 ],
 "metadata": {
  "kernelspec": {
   "display_name": "Python 3",
   "language": "python",
   "name": "python3"
  },
  "language_info": {
   "codemirror_mode": {
    "name": "ipython",
    "version": 3
   },
   "file_extension": ".py",
   "mimetype": "text/x-python",
   "name": "python",
   "nbconvert_exporter": "python",
   "pygments_lexer": "ipython3",
   "version": "3.8.10"
  }
 },
 "nbformat": 4,
 "nbformat_minor": 4
}
