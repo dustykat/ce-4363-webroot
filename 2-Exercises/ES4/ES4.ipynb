{
 "cells": [
  {
   "cell_type": "markdown",
   "metadata": {},
   "source": [
    "# <font color=darkblue>CE 4363/5363 Groundwater Hydrology <br> Spring 2023 Exercise Set 4</font>\n",
    "\n",
    "**LAST NAME, FIRST NAME**\n",
    "\n",
    "**R00000000**\n",
    "\n",
    "<hr>\n",
    "\n",
    "### Purpose : \n",
    "Reinforce principles of groundwater flow to wells; apply method of images to represent boundaries\n",
    " \n",
    "### Assessment Criteria : \n",
    "Completion, results plausible, format correct, example calculations shown.  \n",
    "<hr>"
   ]
  },
  {
   "cell_type": "markdown",
   "metadata": {},
   "source": [
    "# Exercise 4-1 (*Problem ?? pp. ??*)\n",
    "The Theis (Eqn. 5.12, p. 162) and Cooper-Jacob (Eqn. 5.54 p. 180) equations can both be used to estimate drawdown for confined aquifer transient problems. A fully penetrating pumping well flows at 300 gpm in a confined aquifer with\n",
    "transmissivity of 11,500 gpd/ft and storage coefficient of 0.00043.\n",
    "\n",
    "The two models are:\n",
    "1. Theis: $s(r,t) = \\frac{Q_w}{4 \\pi T}W(u)$\n",
    "2. Cooper-Jacob: $s(r,t) = \\frac{Q_w}{4 \\pi T}[-0.5772-ln(u)]$\n",
    "\n",
    "where $u=\\frac{r^2 S}{4 T t}$\n",
    "\n",
    "Determine:\n",
    "1. The drawdown at an observation well 125 ft from the pumping well at 3 hr after pumping started using the Theis solution.\n",
    "2. The drawdown at an observation well 125 ft from the pumping well at 3 hr after pumping started using the Cooper-Jacob simplification.\n",
    "3. For this distance of 125 ft, at what time value in hours does u=0.01?\n",
    "\n",
    "<hr>"
   ]
  },
  {
   "cell_type": "markdown",
   "metadata": {},
   "source": [
    "# Exercise 4-2 (*Problem ?? pp. ??*)\n",
    "Show how variations in $T$ and $S$ affect transient drawdown curves in an ideal confined aquifer at r = 1, 5, 10, 15, 30, 60, 90, and 120 m when Q = 10 $\\frac{L}{sec}$ and t = 400 min. \n",
    "\n",
    "Determine:\n",
    "1. For $S=5 \\times 10^{-4}$ , plot drawdown vs. r for $T=1.0 \\times 10^{-1}$ , $1.0 \\times 10^{-2}$ , and $1.0 \\times 10^{-3}$ $\\frac{m^2}{sec}$ on one graph.\n",
    "2. For $T=1.0 \\times 10^{-2}$ $\\frac{m^2}{sec}$, plot drawdown vs. r for $S=5 \\times 10^{-3}$ , $5 \\times 10^{-4}$ , and $5 \\times 10^{-5}$ on one graph.\n",
    "3. Summarize your findings into a narrative form (e.g. use words)\n",
    "\n",
    "<hr>"
   ]
  },
  {
   "cell_type": "markdown",
   "metadata": {},
   "source": [
    "# Exercise 4-3 (*Problem ?? pp. ??*)\n",
    "\n",
    "A single ideal pumping well, with radius of 1.0 ft and flow rate of 155 gpm, exists in an ideal confined\n",
    "aquifer. The aquifer has a saturated thickness of 82 ft. The pump continues running until equilibrium\n",
    "conditions are reached. The drawdown at the pumping well is 42 ft, and the drawdown at an observation\n",
    "well 138 ft away is 7.5 ft.\n",
    "\n",
    "Determine: \n",
    "1. Find the transmissivity in $\\frac{ft^2}{d}$ and hydraulic conductivity in $\\frac{ft^2}{d}$.\n",
    "2. Find the radius of influence in feet.\n",
    "\n",
    "<hr>"
   ]
  },
  {
   "cell_type": "markdown",
   "metadata": {},
   "source": [
    "### Useful References for Problems below:\n",
    "1. [Fetter and Kreamer (2022) Applied Hydrology 5ed. pp. 212-215](https://arjzaidi.files.wordpress.com/2015/09/unimasr-com_e7ce669a880a8c4c70b4214641f93a02.pdf)\n",
    "1. [Kelvin's Method of Images for potential flow (MIT fluid flow lecture)](http://web.mit.edu/fluids-modules/www/potential_flows/LecturesHTML/lec1011/node37.html)\n",
    "3. [Method of Images (Wikipedia)](https://en.wikipedia.org/wiki/Method_of_images)\n",
    "2. [Carslaw and Jaeger (1959), *Conduction of Heat in Solids, 2ed.* Oxford University Press in particular Chapter 10 pp. 274](http://54.243.252.9/ce-4363-webroot/3-Readings/carslaw-and-jaeger-conduction-of-heat-in-solids-1959isbn-0198533683.pdf)\n",
    "\n",
    "\n",
    "# Exercise 4-4 (*Problem ?? pp. ??*)\n",
    "\n",
    "An unconfined aquifer exists where a buried river channel cut into underlying impermeable bedrock.\n",
    "The figure below shows the orientation and pertinent dimensions. The flow rate at the pumping well is 250\n",
    "gpm, and its radius of influence is 1000 ft. The hydraulic conductivity of the aquifer is 15 ft/d, and the initial\n",
    "saturated thickness is 120 ft. Find the drawdown at the observation well under equilibrium conditions.\n",
    "\n",
    "![](planview-unconfined.png)\n",
    "\n",
    "<hr>"
   ]
  },
  {
   "cell_type": "markdown",
   "metadata": {},
   "source": [
    "# Exercise 4-5 (*Problem ?? pp. 216*)\n",
    "\n",
    "Consider the figure below. Wells 1, 2, and 3 are pumping wells, and Obs 1 and 2 are just observation\n",
    "wells (no pumping at all). Provide a sketch to scale, drawn with a straightedge, that shows all the proper\n",
    "image wells (pp. 212-215) necessary to represent the impacts of the two boundaries on the pumping and observation well\n",
    "drawdowns.\n",
    "\n",
    "![](image-wells.png)\n",
    "\n",
    "<hr>"
   ]
  },
  {
   "cell_type": "markdown",
   "metadata": {},
   "source": [
    "# Exercise 4-6 (CE 5363 students)(*Problem ?? pp. ??*)\n",
    "\n",
    "A single pumping well, with a flow rate of 250 gpm, fully penetrates a confined aquifer. The aquifer has\n",
    "a saturated thickness of 110 ft, hydraulic conductivity of 20 ft/d, and storage coefficient of 0.00050. Due to\n",
    "outcropping of the aquifer, a no-flow zone exists 200 ft east of the pumping well and extends as a straight\n",
    "line to both north and south. An observation well is located 100 ft south and 120 ft east of the pumping\n",
    "well. \n",
    "\n",
    "Determine:\n",
    "1. Drawdown in feet at the observation well at time t=1, 5, 10, 20, 30, 40, 60, 80, 100, 120, 240, 480, 600, 720, 840, 960, 1200, and 1440 min after the well is turned on. \n",
    "2. Plot the drawdown vs. log time. \n",
    "3. Change the boundary type to a constant head boundary and plot the drawdown vs. log time.\n",
    "4. Combine the two plots into a single graph (both boundary types - same graphic)\n",
    "3. Summarize your findings in a narrative (e.g. use words)."
   ]
  },
  {
   "cell_type": "code",
   "execution_count": null,
   "metadata": {},
   "outputs": [],
   "source": []
  }
 ],
 "metadata": {
  "kernelspec": {
   "display_name": "Python 3",
   "language": "python",
   "name": "python3"
  },
  "language_info": {
   "codemirror_mode": {
    "name": "ipython",
    "version": 3
   },
   "file_extension": ".py",
   "mimetype": "text/x-python",
   "name": "python",
   "nbconvert_exporter": "python",
   "pygments_lexer": "ipython3",
   "version": "3.8.10"
  }
 },
 "nbformat": 4,
 "nbformat_minor": 4
}
