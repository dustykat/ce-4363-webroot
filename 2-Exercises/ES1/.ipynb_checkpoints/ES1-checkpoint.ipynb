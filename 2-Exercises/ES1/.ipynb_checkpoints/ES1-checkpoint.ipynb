{
 "cells": [
  {
   "cell_type": "markdown",
   "metadata": {},
   "source": [
    "# Exercise 1-1 (*Problem 3.7 pp. 110*)\n",
    "A constant-head permeameter has a cross-sectional area of 78.5 cm$^2$. A sample is 23 cm long.  At an applied head differential of 3.4 cm, the permeameter discharges 50 cm$^3$ in 38 seconds.\n",
    "\n",
    "Determine:\n",
    "1. The hydraulic conductivity in centimeters per second.\n",
    "2. The hydraulic conductivity in feet per day.\n",
    "3. The intrinsic permeability if the measurement is conducted at 15$^o$C.\n",
    "4. What type of soil is suggested by the hydraulic conductivity value."
   ]
  },
  {
   "cell_type": "code",
   "execution_count": null,
   "metadata": {},
   "outputs": [],
   "source": []
  }
 ],
 "metadata": {
  "kernelspec": {
   "display_name": "Python 3",
   "language": "python",
   "name": "python3"
  },
  "language_info": {
   "codemirror_mode": {
    "name": "ipython",
    "version": 3
   },
   "file_extension": ".py",
   "mimetype": "text/x-python",
   "name": "python",
   "nbconvert_exporter": "python",
   "pygments_lexer": "ipython3",
   "version": "3.8.10"
  }
 },
 "nbformat": 4,
 "nbformat_minor": 4
}
