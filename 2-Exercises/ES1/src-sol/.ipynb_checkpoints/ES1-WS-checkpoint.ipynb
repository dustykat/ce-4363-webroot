{
 "cells": [
  {
   "cell_type": "markdown",
   "metadata": {},
   "source": [
    "# <font color=darkblue>CE 4363/5363 Groundwater Hydrology <br> Spring 2023 Exercise Set 1</font>\n",
    "\n",
    "**LAST NAME, FIRST NAME**\n",
    "\n",
    "**R00000000**\n",
    "\n",
    "<hr>\n",
    "\n",
    "### Purpose : \n",
    "Reinforce definitions of aquifer properties; apply propertities to quantitative cases\n",
    " \n",
    "### Assessment Criteria : \n",
    "Completion, results plausible, format correct, example calculations shown.  \n",
    "<hr>"
   ]
  },
  {
   "cell_type": "markdown",
   "metadata": {},
   "source": [
    "# Exercise 1-1 (*Problem 3.7 pp. 110*)\n",
    "A constant-head permeameter has a cross-sectional area of 78.5 cm$^2$. A sample is 23 cm long.  At an applied head differential of 3.4 cm, the permeameter discharges 50 cm$^3$ in 38 seconds.\n",
    "\n",
    "Determine:\n",
    "1. The hydraulic conductivity in centimeters per second.\n",
    "2. The hydraulic conductivity in feet per day.\n",
    "3. The intrinsic permeability if the measurement is conducted at 15$^o$C.\n",
    "4. What type of soil is suggested by the hydraulic conductivity value.\n",
    "<hr>"
   ]
  },
  {
   "cell_type": "markdown",
   "metadata": {},
   "source": [
    "Solution:\n",
    "\n",
    "Instrinsic permeability is temperature dependent, need water propereties at 15C.\n",
    "\n",
    "![](waterproperties.png)\n",
    "\n",
    "Now the rest of the problem\n",
    "\n",
    "1. Using spreadsheet:\n",
    "\n",
    "![](constantheadperm.png)\n",
    "\n",
    "2. Using script:\n",
    "Use formula:\n",
    "\n",
    "$$ K=\\frac{Q}{A} \\frac{L}{h_1−h_2}$$"
   ]
  },
  {
   "cell_type": "code",
   "execution_count": 13,
   "metadata": {},
   "outputs": [
    {
     "name": "stdout",
     "output_type": "stream",
     "text": [
      "Input Values\n",
      " ------------------ \n",
      "Head loss (cm) 3.4\n",
      "Sample Length (cm) 23.0\n",
      "Sample cross section (cm^2) 78.5\n",
      "Discharge volume (cc) 50.0\n",
      "Discharge time (sec) 38.0\n",
      "Density (g/cc) 0.999\n",
      "Viscosity (g/(s-cm)) 0.011\n",
      "\n",
      "Computed Values\n",
      " ------------------ \n",
      "Hydraulic Conductivity K =  0.113  cm/sec \n",
      "Intrinsic Permeability k = 1.3203192564108909e-06  cm^2\n"
     ]
    }
   ],
   "source": [
    "# script to compute K from constant head permeameter\n",
    "dh = 3.4 #cm head loss\n",
    "dl = 23.0 #cm sample length\n",
    "dv = 50.0 #cc volume\n",
    "dt = 38.0 #seconds\n",
    "A  = 78.5 #cm^2 cross sectional area\n",
    "density = 0.999\n",
    "viscosity = 0.0114\n",
    "# \n",
    "Q = dv/dt\n",
    "K = (Q/A)*dl/dh\n",
    "print(\"Input Values\\n ------------------ \")\n",
    "print(\"Head loss (cm)\",round(dh,3))\n",
    "print(\"Sample Length (cm)\",round(dl,3))\n",
    "print(\"Sample cross section (cm^2)\",round(A,3))\n",
    "print(\"Discharge volume (cc)\",round(dv,3))\n",
    "print(\"Discharge time (sec)\",round(dt,3))\n",
    "print(\"Density (g/cc)\",round(density,3))\n",
    "print(\"Viscosity (g/(s-cm))\",round(viscosity,3))\n",
    "print(\"\\nComputed Values\\n ------------------ \")\n",
    "print(\"Hydraulic Conductivity K = \",round(K,3),\" cm/sec \")\n",
    "k = K*viscosity/(density*980)\n",
    "print(\"Intrinsic Permeability k =\",k,\" cm^2\")\n"
   ]
  },
  {
   "cell_type": "markdown",
   "metadata": {},
   "source": []
  },
  {
   "cell_type": "markdown",
   "metadata": {},
   "source": [
    "# Exercise 1-2 (*Problem 3.10 pp. 111*)\n",
    "An aquifer has $S_y$ of 0.24. During a drought period, the following average water table declines were recorded:\n",
    "\n",
    "|Area|Size(mi$^2$)|Decline(ft)|\n",
    "|---:|---:|---:|\n",
    "|A|12.5|1.33|\n",
    "|B|19.8|0.88|\n",
    "|C|23.8|3.98|\n",
    "|D|9.56|2.34|\n",
    "|E|12.3|4.44|\n",
    "|F|7.22|0.34|\n",
    "\n",
    "Determine:\n",
    "1. The total volume of water represented by the decline in the water table.\n",
    "\n",
    "<hr>\n",
    "\n",
    "Solution - simple script:"
   ]
  },
  {
   "cell_type": "code",
   "execution_count": 18,
   "metadata": {},
   "outputs": [
    {
     "name": "stdout",
     "output_type": "stream",
     "text": [
      "Total withdrawl 1393096137.523 cubic feet\n",
      "Total withdrawl 31981.087 acre feet\n"
     ]
    }
   ],
   "source": [
    "identity = [\"A\",\"B\",\"C\",\"D\",\"E\",\"F\"] #given\n",
    "size = [12.5,19.8,23.8,9.56,12.3,7.22] #given\n",
    "deltah = [1.33,0.88,3.98,2.34,4.44,0.34] #given\n",
    "Sy = 0.24 #given\n",
    "volume = [0 for i in range(len(identity))]\n",
    "for i in range(len(identity)):\n",
    "    volume[i]=Sy*deltah[i]*size[i]*5280*5280 #convert mi^2 to ft^2\n",
    "total = sum(volume)\n",
    "print(\"Total withdrawl\",round(total,3),\"cubic feet\")\n",
    "print(\"Total withdrawl\",round(total/43560,3),\"acre feet\")"
   ]
  },
  {
   "cell_type": "markdown",
   "metadata": {},
   "source": [
    "# Exercise 1-3 (*Problem 3.13 pp. 111*)\n",
    "\n",
    "A confined aquifer has a specific storage of $4.033 \\times 10^{-3} m^{-1}$ and a porosity of 0.274.  The compressibility of water is $4.6 \\times 10^{-10} m^2/N$.\n",
    "\n",
    "Determine:\n",
    "1. The compressibility of the aquifer skeleton.\n",
    "\n",
    "<hr>\n",
    "\n",
    "Use formula for specific storage:\n",
    "\n",
    "$$S_s = \\rho_w g (\\alpha + n \\beta)$$\n",
    "\n",
    "Solve for $\\alpha$\n",
    "\n",
    "$$\\frac{S_s}{\\rho_w g} -  n \\beta=  \\alpha $$\n",
    "A simple script:"
   ]
  },
  {
   "cell_type": "code",
   "execution_count": 33,
   "metadata": {},
   "outputs": [
    {
     "name": "stdout",
     "output_type": "stream",
     "text": [
      "Matrix compressibility 4.12e-07 m^2/N\n"
     ]
    }
   ],
   "source": [
    "sp_storage = 4.033E-3 #m^-1 given\n",
    "n = 0.274 #given\n",
    "beta = 4.6E-10 #m^2/N given, water compressibility\n",
    "rho_w = 998.2 #kg/m^3 lookup\n",
    "g     = 9.8 #m/s^2 lookup\n",
    "alpha = sp_storage/(rho_w*g) - n*beta\n",
    "print(\"Matrix compressibility\",round(alpha,9),\"m^2/N\")"
   ]
  },
  {
   "cell_type": "markdown",
   "metadata": {},
   "source": [
    "# Exercise 1-4 (*Problem 3.16 pp. 111*)\n",
    "\n",
    "An aquifer has three different formations.  The uppermost formation A has a thickness of 8.4 m and a hydraulic conductivity of 22.3 m/day.  The middle formation B has a thickness of 2.8 m and a hydraulic conductivity of 144 m/day.  The lower formation C has a thickness of 33 m and a hydraulic conductivity of 35 m/day.  Each formation is homogeneous and isotropic.\n",
    "\n",
    "Determine:\n",
    "1. The overall horizontal hydraulic conductivity.\n",
    "2. The overall horizontal vertical conductivity.\n",
    "<hr>\n",
    "\n",
    "Use induction to find pattern for horizontal and vertical flows based on:\n",
    "\n",
    "Formation in series in direction of flow:\n",
    "\n",
    "![](seriesformations.png)\n",
    "\n",
    "Formations in parallel in direction of flow:\n",
    "\n",
    "![](parallelformations.png)"
   ]
  },
  {
   "cell_type": "code",
   "execution_count": 38,
   "metadata": {},
   "outputs": [
    {
     "name": "stdout",
     "output_type": "stream",
     "text": [
      "Composite K - horizontal 39.491  meters/day\n",
      "Composite K - vertical 33.01  meters/day\n"
     ]
    }
   ],
   "source": [
    "# Script for our formations\n",
    "K = [22.3,144.0,35.0] #K for each formation in m/day - given\n",
    "b = [8.4,2.8,33.0] #b for each formation in m - given\n",
    "# horizontal (parallel flow) composite K\n",
    "numerator = 0.0\n",
    "denominator = 0.0\n",
    "for i in range(len(K)):\n",
    "    numerator = numerator + K[i]*b[i]\n",
    "    denominator = denominator + b[i]\n",
    "K_horizontal = numerator/denominator\n",
    "# vertical (series flow) composite K\n",
    "numerator = 0.0\n",
    "denominator = 0.0\n",
    "for i in range(len(K)):\n",
    "    numerator = numerator + b[i]\n",
    "    denominator = denominator + b[i]/K[i]    \n",
    "K_vertical = numerator/denominator\n",
    "\n",
    "print(\"Composite K - horizontal\",round(K_horizontal,3),\" meters/day\")\n",
    "print(\"Composite K - vertical\",round(K_vertical,3),\" meters/day\")"
   ]
  },
  {
   "cell_type": "markdown",
   "metadata": {},
   "source": [
    "# Exercise 1-5 (*Analysis B pp. 109*)\n",
    "\n",
    "The figure below (*Fig. 3.32 pp. 110*) is a map showing the ground-water elevations in wells screened in an unconfined aquifer in Milwaukee, Wisconsin.  The aquifer is hydraulically connected to Lake Michigan, which has a surface elevation of 580 ft above MSL.  Lakes and streams are also depicted on the map.\n",
    "\n",
    "![](http://54.243.252.9/ce-4363-webroot/2-Exercises/ES1/gwmap.png)\n",
    "\n",
    "Determine:\n",
    "1. Make a water-table contour map with a contour interval of 50 ft starting at 550 ft.\n",
    "2. How groundwater levels are below the Lake Michigan surface elevation in part of the area.\n",
    "<hr>"
   ]
  },
  {
   "cell_type": "code",
   "execution_count": null,
   "metadata": {},
   "outputs": [],
   "source": []
  }
 ],
 "metadata": {
  "kernelspec": {
   "display_name": "Python 3",
   "language": "python",
   "name": "python3"
  },
  "language_info": {
   "codemirror_mode": {
    "name": "ipython",
    "version": 3
   },
   "file_extension": ".py",
   "mimetype": "text/x-python",
   "name": "python",
   "nbconvert_exporter": "python",
   "pygments_lexer": "ipython3",
   "version": "3.8.10"
  }
 },
 "nbformat": 4,
 "nbformat_minor": 4
}
