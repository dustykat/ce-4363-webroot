{
 "cells": [
  {
   "cell_type": "markdown",
   "metadata": {},
   "source": [
    "# <font color=darkblue>CE 4363/5363 Groundwater Hydrology <br> Spring 2023 Exercise Set 1</font>\n",
    "\n",
    "**LAST NAME, FIRST NAME**\n",
    "\n",
    "**R00000000**\n",
    "\n",
    "<hr>\n",
    "\n",
    "### Purpose : \n",
    "Reinforce definitions of aquifer properties; apply propertities to quantitative cases\n",
    " \n",
    "### Assessment Criteria : \n",
    "Completion, results plausible, format correct, example calculations shown.  \n",
    "<hr>"
   ]
  },
  {
   "cell_type": "markdown",
   "metadata": {},
   "source": [
    "# Exercise 1-1 (*Problem 3.7 pp. 110*)\n",
    "A constant-head permeameter has a cross-sectional area of 78.5 cm$^2$. A sample is 23 cm long.  At an applied head differential of 3.4 cm, the permeameter discharges 50 cm$^3$ in 38 seconds.\n",
    "\n",
    "Determine:\n",
    "1. The hydraulic conductivity in centimeters per second.\n",
    "2. The hydraulic conductivity in feet per day.\n",
    "3. The intrinsic permeability if the measurement is conducted at 15$^o$C.\n",
    "4. What type of soil is suggested by the hydraulic conductivity value.\n",
    "<hr>"
   ]
  },
  {
   "cell_type": "markdown",
   "metadata": {},
   "source": [
    "# Exercise 1-2 (*Problem 3.10 pp. 111*)\n",
    "An aquifer has $S_y$ of 0.24. During a drought period, the following average water table declines were recorded:\n",
    "\n",
    "|Area|Size(mi$^2$)|Decline(ft)|\n",
    "|---:|---:|---:|\n",
    "|A|12.5|1.33|\n",
    "|B|19.8|0.88|\n",
    "|C|23.8|3.98|\n",
    "|D|9.56|2.34|\n",
    "|E|12.3|4.44|\n",
    "|F|7.22|0.34|\n",
    "\n",
    "Determine:\n",
    "1. The total volume of water represented by the decline in the water table.\n",
    "\n",
    "<hr>"
   ]
  },
  {
   "cell_type": "markdown",
   "metadata": {},
   "source": [
    "# Exercise 1-3 (*Problem 3.13 pp. 111*)\n",
    "\n",
    "A confined aquifer has a specific storage of $4.033 \\times 10^{-3} m^{-1}$ and a porosity of 0.274.  The compressibility of water is $4.6 \\times 10^{-10} m^2/N$.\n",
    "\n",
    "Determine:\n",
    "1. The compressibility of the aquifer skeleton.\n",
    "\n",
    "<hr>"
   ]
  },
  {
   "cell_type": "markdown",
   "metadata": {},
   "source": [
    "# Exercise 1-4 (*Problem 3.16 pp. 111*)\n",
    "\n",
    "An aquifer has three different formations.  The uppermost formation A has a thickness of 8.4 m and a hydraulic conductivity of 22.3 m/day.  The middle formation B has a thickness of 2.8 m and a hydraulic conductivity of 144 m/day.  The lower formation C has a thickness of 33 m and a hydraulic conductivity of 35 m/day.  Each formation is homogeneous and isotropic.\n",
    "\n",
    "Determine:\n",
    "1. The overall horizontal hydraulic conductivity.\n",
    "2. The overall horizontal vertical conductivity.\n",
    "<hr>"
   ]
  },
  {
   "cell_type": "markdown",
   "metadata": {},
   "source": [
    "# Exercise 1-5 (*Analysis B pp. 109*)\n",
    "\n",
    "The figure below (*Fig. 3.32 pp. 110*) is a map showing the ground-water elevations in wells screened in an unconfined aquifer in Milwaukee, Wisconsin.  The aquifer is hydraulically connected to Lake Michigan, which has a surface elevation of 580 ft above MSL.  Lakes and streams are also depicted on the map.\n",
    "\n",
    "![](http://54.243.252.9/ce-4363-webroot/2-Exercises/ES1/gwmap.png)\n",
    "\n",
    "Determine:\n",
    "1. Make a water-table contour map with a contour interval of 50 ft starting at 550 ft.\n",
    "2. How groundwater levels are below the Lake Michigan surface elevation in part of the area.\n",
    "<hr>"
   ]
  },
  {
   "cell_type": "code",
   "execution_count": null,
   "metadata": {},
   "outputs": [],
   "source": []
  }
 ],
 "metadata": {
  "kernelspec": {
   "display_name": "Python 3",
   "language": "python",
   "name": "python3"
  },
  "language_info": {
   "codemirror_mode": {
    "name": "ipython",
    "version": 3
   },
   "file_extension": ".py",
   "mimetype": "text/x-python",
   "name": "python",
   "nbconvert_exporter": "python",
   "pygments_lexer": "ipython3",
   "version": "3.8.10"
  }
 },
 "nbformat": 4,
 "nbformat_minor": 4
}
