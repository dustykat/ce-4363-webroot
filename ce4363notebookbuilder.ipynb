{
 "cells": [
  {
   "cell_type": "code",
   "execution_count": 1,
   "metadata": {},
   "outputs": [
    {
     "name": "stdout",
     "output_type": "stream",
     "text": [
      "\n",
      "\u001b[92m===============================================================================\u001b[0m\n",
      "\n",
      "Your book template can be found at\n",
      "\n",
      "    ce4363notes/\n",
      "\n",
      "\u001b[92m===============================================================================\u001b[0m\n",
      "\n"
     ]
    }
   ],
   "source": [
    "#! jupyter-book create ce4363notes"
   ]
  },
  {
   "cell_type": "code",
   "execution_count": 4,
   "metadata": {},
   "outputs": [
    {
     "name": "stdout",
     "output_type": "stream",
     "text": [
      "\n",
      "\u001b[92m===============================================================================\u001b[0m\n",
      "\n",
      "Your _build directory has been emptied except for .jupyter_cache\n",
      "\n",
      "\u001b[92m===============================================================================\u001b[0m\n",
      "\n"
     ]
    }
   ],
   "source": [
    "! jupyter-book clean ce4363notes"
   ]
  },
  {
   "cell_type": "code",
   "execution_count": 5,
   "metadata": {},
   "outputs": [
    {
     "name": "stdout",
     "output_type": "stream",
     "text": [
      "\u001b[32m\u001b[1mRunning Jupyter-Book v0.12.0\u001b[0m\n",
      "\u001b[34m\u001b[1mSource Folder: \u001b[0m/home/sensei/ce-4363-webroot/ce4363notes\n",
      "\u001b[34m\u001b[1mConfig Path: \u001b[0m/home/sensei/ce-4363-webroot/ce4363notes/_config.yml\n",
      "\u001b[34m\u001b[1mOutput Path: \u001b[0m/home/sensei/ce-4363-webroot/ce4363notes/_build/html\n",
      "\u001b[01mRunning Sphinx v3.5.2\u001b[39;49;00m\n",
      "\u001b[01mmaking output directory... \u001b[39;49;00mdone\n",
      "[etoc] Changing master_doc to 'intro'\n",
      "checking for /home/sensei/ce-4363-webroot/ce4363notes/references.bib in bibtex cache... not found\n",
      "parsing bibtex file /home/sensei/ce-4363-webroot/ce4363notes/references.bib... parsed 5 entries\n",
      "\u001b[01mmyst v0.15.2:\u001b[39;49;00m MdParserConfig(renderer='sphinx', commonmark_only=False, enable_extensions=['colon_fence', 'dollarmath', 'linkify', 'substitution', 'tasklist'], dmath_allow_labels=True, dmath_allow_space=True, dmath_allow_digits=True, dmath_double_inline=False, update_mathjax=True, mathjax_classes='tex2jax_process|mathjax_process|math|output_area', disable_syntax=[], url_schemes=['mailto', 'http', 'https'], heading_anchors=None, heading_slug_func=None, html_meta=[], footnote_transition=True, substitutions=[], sub_delimiters=['{', '}'], words_per_minute=200)\n",
      "\u001b[01mbuilding [mo]: \u001b[39;49;00mtargets for 0 po files that are out of date\n",
      "\u001b[01mbuilding [html]: \u001b[39;49;00mtargets for 29 source files that are out of date\n",
      "\u001b[01mupdating environment: \u001b[39;49;00m[new config] 29 added, 0 changed, 0 removed\n",
      "Executing: lessons/00introduction/00introduction in: /home/sensei/ce-4363-webroot/ce4363notes/lessons/00introduction\n",
      "Executing: lessons/01computationaltools/01computationaltools in: /home/sensei/ce-4363-webroot/ce4363notes/lessons/01computationaltools\n",
      "Executing: lessons/02water/02water in: /home/sensei/ce-4363-webroot/ce4363notes/lessons/02water                 \n",
      "Executing: lessons/03aquiferproperties/03aquiferproperties in: /home/sensei/ce-4363-webroot/ce4363notes/lessons/03aquiferproperties\n",
      "Executing: lessons/04aquiferproperties/04aquiferproperties in: /home/sensei/ce-4363-webroot/ce4363notes/lessons/04aquiferproperties\n",
      "Executing: lessons/05gwflowprinciples/05gwflowprinciples in: /home/sensei/ce-4363-webroot/ce4363notes/lessons/05gwflowprinciples\n",
      "Executing: lessons/06gwflowequations in: /home/sensei/ce-4363-webroot/ce4363notes/lessons                       \n",
      "Executing: lessons/07gwflow1Dsolutions in: /home/sensei/ce-4363-webroot/ce4363notes/lessons                     \n",
      "Executing: lessons/08gwflow2wells in: /home/sensei/ce-4363-webroot/ce4363notes/lessons                          \n",
      "Executing: lessons/09gwflow2wells in: /home/sensei/ce-4363-webroot/ce4363notes/lessons                          \n",
      "Executing: lessons/10gwflow2wells in: /home/sensei/ce-4363-webroot/ce4363notes/lessons                          \n",
      "Executing: lessons/11gwflow2wells in: /home/sensei/ce-4363-webroot/ce4363notes/lessons                          \n",
      "Executing: lessons/12gwflow2wells in: /home/sensei/ce-4363-webroot/ce4363notes/lessons                          \n",
      "Executing: lessons/16recharge in: /home/sensei/ce-4363-webroot/ce4363notes/lessons                              \n",
      "Executing: lessons/17fieldmethods in: /home/sensei/ce-4363-webroot/ce4363notes/lessons                          \n",
      "Executing: lessons/18waterwellconstruction in: /home/sensei/ce-4363-webroot/ce4363notes/lessons                 \n",
      "Executing: lessons/19waterwellconstruction in: /home/sensei/ce-4363-webroot/ce4363notes/lessons                 \n",
      "Executing: lessons/20gwchemistry in: /home/sensei/ce-4363-webroot/ce4363notes/lessons                           \n",
      "Executing: lessons/21gwchemistry in: /home/sensei/ce-4363-webroot/ce4363notes/lessons                           \n",
      "Executing: lessons/22gwcontamination in: /home/sensei/ce-4363-webroot/ce4363notes/lessons                       \n",
      "Executing: lessons/23gwcontamination in: /home/sensei/ce-4363-webroot/ce4363notes/lessons                       \n",
      "Executing: lessons/24contaminanttransport in: /home/sensei/ce-4363-webroot/ce4363notes/lessons                  \n",
      "Executing: lessons/25gwdevelopment in: /home/sensei/ce-4363-webroot/ce4363notes/lessons                         \n",
      "Executing: lessons/26waterlaw in: /home/sensei/ce-4363-webroot/ce4363notes/lessons                              \n",
      "Executing: lessons/groundwatermodels/13gwmodels in: /home/sensei/ce-4363-webroot/ce4363notes/lessons/groundwatermodels\n",
      "Executing: lessons/groundwatermodels/14gwmodels in: /home/sensei/ce-4363-webroot/ce4363notes/lessons/groundwatermodels\n",
      "Executing: lessons/groundwatermodels/15gwmodels in: /home/sensei/ce-4363-webroot/ce4363notes/lessons/groundwatermodels\n",
      "Executing: lessons/groundwatermodels/16gwmodels in: /home/sensei/ce-4363-webroot/ce4363notes/lessons/groundwatermodels\n",
      "\n",
      "\u001b[31mWARNING: Execution Failed with traceback saved in /home/sensei/ce-4363-webroot/ce4363notes/_build/html/reports/14gwmodels.log\u001b[39;49;00m\n",
      "\u001b[01mlooking for now-outdated files... \u001b[39;49;00mnone found\n",
      "\u001b[01mpickling environment... \u001b[39;49;00mdone\n",
      "\u001b[01mchecking consistency... \u001b[39;49;00mdone\n",
      "\u001b[01mpreparing documents... \u001b[39;49;00mdone\n",
      "\u001b[01mwriting output... \u001b[39;49;00m[100%] \u001b[32mlessons/groundwatermodels/16gwmodels\u001b[39;49;00m                   \n",
      "\u001b[01mgenerating indices... \u001b[39;49;00mgenindex done\n",
      "\u001b[01mwriting additional pages... \u001b[39;49;00msearch done\n",
      "\u001b[01mcopying images... \u001b[39;49;00m[100%] \u001b[33m_build/jupyter_execute/lessons/groundwatermodels/14gwmodels_11_5.png\u001b[39;49;00m\n",
      "\u001b[01mcopying static files... \u001b[39;49;00mdone\n",
      "\u001b[01mcopying extra files... \u001b[39;49;00mdone\n",
      "\u001b[01mdumping search index in English (code: en)... \u001b[39;49;00mdone\n",
      "\u001b[01mdumping object inventory... \u001b[39;49;00mdone\n",
      "\u001b[01mbuild succeeded, 1 warning.\u001b[39;49;00m\n",
      "\n",
      "The HTML pages are in ce4363notes/_build/html.\n",
      "[etoc] missing index.html written as redirect to 'intro.html'\n",
      "\n",
      "\u001b[92m===============================================================================\u001b[0m\n",
      "\n",
      "Finished generating HTML for book.\n",
      "Your book's HTML pages are here:\n",
      "    ce4363notes/_build/html/\n",
      "You can look at your book by opening this file in a browser:\n",
      "    ce4363notes/_build/html/index.html\n",
      "Or paste this line directly into your browser bar:\n",
      "    file:///home/sensei/ce-4363-webroot/ce4363notes/_build/html/index.html            \n",
      "\n",
      "\u001b[92m===============================================================================\u001b[0m\n",
      "\n"
     ]
    }
   ],
   "source": [
    "! jupyter-book build ce4363notes"
   ]
  },
  {
   "cell_type": "code",
   "execution_count": null,
   "metadata": {},
   "outputs": [],
   "source": []
  }
 ],
 "metadata": {
  "kernelspec": {
   "display_name": "Python 3",
   "language": "python",
   "name": "python3"
  },
  "language_info": {
   "codemirror_mode": {
    "name": "ipython",
    "version": 3
   },
   "file_extension": ".py",
   "mimetype": "text/x-python",
   "name": "python",
   "nbconvert_exporter": "python",
   "pygments_lexer": "ipython3",
   "version": "3.8.10"
  }
 },
 "nbformat": 4,
 "nbformat_minor": 4
}
