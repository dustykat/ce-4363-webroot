{
 "cells": [
  {
   "cell_type": "code",
   "execution_count": 1,
   "metadata": {},
   "outputs": [
    {
     "name": "stdout",
     "output_type": "stream",
     "text": [
      "\n",
      "\u001b[92m===============================================================================\u001b[0m\n",
      "\n",
      "Your book template can be found at\n",
      "\n",
      "    ce4363notes/\n",
      "\n",
      "\u001b[92m===============================================================================\u001b[0m\n",
      "\n"
     ]
    }
   ],
   "source": [
    "#! jupyter-book create ce4363notes"
   ]
  },
  {
   "cell_type": "code",
   "execution_count": 33,
   "metadata": {},
   "outputs": [
    {
     "name": "stdout",
     "output_type": "stream",
     "text": [
      "\n",
      "\u001b[92m===============================================================================\u001b[0m\n",
      "\n",
      "Your _build directory has been emptied except for .jupyter_cache\n",
      "\n",
      "\u001b[92m===============================================================================\u001b[0m\n",
      "\n"
     ]
    }
   ],
   "source": [
    "! jupyter-book clean ce4363notes"
   ]
  },
  {
   "cell_type": "code",
   "execution_count": 2,
   "metadata": {},
   "outputs": [
    {
     "name": "stdout",
     "output_type": "stream",
     "text": [
      "\u001b[32m\u001b[1mRunning Jupyter-Book v0.12.0\u001b[0m\n",
      "\u001b[34m\u001b[1mSource Folder: \u001b[0m/home/sensei/ce-4363-webroot/ce4363notes\n",
      "\u001b[34m\u001b[1mConfig Path: \u001b[0m/home/sensei/ce-4363-webroot/ce4363notes/_config.yml\n",
      "\u001b[34m\u001b[1mOutput Path: \u001b[0m/home/sensei/ce-4363-webroot/ce4363notes/_build/html\n",
      "\u001b[01mRunning Sphinx v3.5.2\u001b[39;49;00m\n",
      "[etoc] Changing master_doc to 'intro'\n",
      "\u001b[01mloading pickled environment... \u001b[39;49;00mchecking for /home/sensei/ce-4363-webroot/ce4363notes/references.bib in bibtex cache... up to date\n",
      "done\n",
      "\u001b[01mmyst v0.15.2:\u001b[39;49;00m MdParserConfig(renderer='sphinx', commonmark_only=False, enable_extensions=['colon_fence', 'dollarmath', 'linkify', 'substitution', 'tasklist'], dmath_allow_labels=True, dmath_allow_space=True, dmath_allow_digits=True, dmath_double_inline=False, update_mathjax=True, mathjax_classes='tex2jax_process|mathjax_process|math|output_area', disable_syntax=[], url_schemes=['mailto', 'http', 'https'], heading_anchors=None, heading_slug_func=None, html_meta=[], footnote_transition=True, substitutions=[], sub_delimiters=['{', '}'], words_per_minute=200)\n",
      "\u001b[01mbuilding [mo]: \u001b[39;49;00mtargets for 0 po files that are out of date\n",
      "\u001b[01mbuilding [html]: \u001b[39;49;00mtargets for 33 source files that are out of date\n",
      "\u001b[01mupdating environment: \u001b[39;49;00m\u001b[01mexecuting outdated notebooks... \u001b[39;49;00mExecuting: /home/sensei/ce-4363-webroot/ce4363notes/lessons/groundwatermodels/15gwmodels-examples-2.ipynb\n",
      "Execution Succeeded: /home/sensei/ce-4363-webroot/ce4363notes/lessons/groundwatermodels/15gwmodels-examples-2.ipynb\n",
      "Executing: /home/sensei/ce-4363-webroot/ce4363notes/lessons/groundwatermodels/14gwmodels.ipynb\n",
      "Execution Succeeded: /home/sensei/ce-4363-webroot/ce4363notes/lessons/groundwatermodels/14gwmodels.ipynb\n",
      "Executing: /home/sensei/ce-4363-webroot/ce4363notes/lessons/18waterwellconstruction.ipynb\n",
      "Execution Succeeded: /home/sensei/ce-4363-webroot/ce4363notes/lessons/18waterwellconstruction.ipynb\n",
      "Executing: /home/sensei/ce-4363-webroot/ce4363notes/lessons/12gwflow2wells/12gwflow2wells.ipynb\n",
      "Execution Succeeded: /home/sensei/ce-4363-webroot/ce4363notes/lessons/12gwflow2wells/12gwflow2wells.ipynb\n",
      "Executing: /home/sensei/ce-4363-webroot/ce4363notes/lessons/16recharge.ipynb\n",
      "Execution Succeeded: /home/sensei/ce-4363-webroot/ce4363notes/lessons/16recharge.ipynb\n",
      "Executing: /home/sensei/ce-4363-webroot/ce4363notes/lessons/groundwatermodels/13gwmodels.ipynb\n",
      "Execution Succeeded: /home/sensei/ce-4363-webroot/ce4363notes/lessons/groundwatermodels/13gwmodels.ipynb\n",
      "Executing: /home/sensei/ce-4363-webroot/ce4363notes/lessons/05gwflowprinciples/05gwflowprinciples.ipynb\n",
      "Execution Succeeded: /home/sensei/ce-4363-webroot/ce4363notes/lessons/05gwflowprinciples/05gwflowprinciples.ipynb\n",
      "Executing: /home/sensei/ce-4363-webroot/ce4363notes/lessons/19waterwellconstruction.ipynb\n",
      "Execution Succeeded: /home/sensei/ce-4363-webroot/ce4363notes/lessons/19waterwellconstruction.ipynb\n",
      "Executing: /home/sensei/ce-4363-webroot/ce4363notes/lessons/04aquiferproperties/04aquiferproperties.ipynb\n",
      "Execution Succeeded: /home/sensei/ce-4363-webroot/ce4363notes/lessons/04aquiferproperties/04aquiferproperties.ipynb\n",
      "Executing: /home/sensei/ce-4363-webroot/ce4363notes/lessons/07gwflow1Dsolutions/07gwflow1Dsolutions.ipynb\n",
      "Execution Succeeded: /home/sensei/ce-4363-webroot/ce4363notes/lessons/07gwflow1Dsolutions/07gwflow1Dsolutions.ipynb\n",
      "Executing: /home/sensei/ce-4363-webroot/ce4363notes/lessons/21gwchemistry.ipynb\n",
      "Execution Succeeded: /home/sensei/ce-4363-webroot/ce4363notes/lessons/21gwchemistry.ipynb\n",
      "Executing: /home/sensei/ce-4363-webroot/ce4363notes/lessons/22gwcontamination.ipynb\n",
      "Execution Succeeded: /home/sensei/ce-4363-webroot/ce4363notes/lessons/22gwcontamination.ipynb\n",
      "Executing: /home/sensei/ce-4363-webroot/ce4363notes/lessons/11gwflow2wells/11gwflow2wells.ipynb\n",
      "Execution Succeeded: /home/sensei/ce-4363-webroot/ce4363notes/lessons/11gwflow2wells/11gwflow2wells.ipynb\n",
      "Executing: /home/sensei/ce-4363-webroot/ce4363notes/lessons/02water/02water.ipynb\n",
      "Execution Succeeded: /home/sensei/ce-4363-webroot/ce4363notes/lessons/02water/02water.ipynb\n",
      "Executing: /home/sensei/ce-4363-webroot/ce4363notes/lessons/groundwatermodels/16project.ipynb\n",
      "Execution Succeeded: /home/sensei/ce-4363-webroot/ce4363notes/lessons/groundwatermodels/16project.ipynb\n",
      "Executing: /home/sensei/ce-4363-webroot/ce4363notes/lessons/26waterlaw.ipynb\n",
      "Execution Succeeded: /home/sensei/ce-4363-webroot/ce4363notes/lessons/26waterlaw.ipynb\n",
      "Executing: /home/sensei/ce-4363-webroot/ce4363notes/lessons/01computationaltools/01computationaltools.ipynb\n",
      "Execution Succeeded: /home/sensei/ce-4363-webroot/ce4363notes/lessons/01computationaltools/01computationaltools.ipynb\n",
      "Executing: /home/sensei/ce-4363-webroot/ce4363notes/lessons/08gwflow2wells/08gwflow2wells.ipynb\n",
      "Execution Succeeded: /home/sensei/ce-4363-webroot/ce4363notes/lessons/08gwflow2wells/08gwflow2wells.ipynb\n",
      "Executing: /home/sensei/ce-4363-webroot/ce4363notes/lessons/23gwcontamination.ipynb\n",
      "Execution Succeeded: /home/sensei/ce-4363-webroot/ce4363notes/lessons/23gwcontamination.ipynb\n",
      "Executing: /home/sensei/ce-4363-webroot/ce4363notes/lessons/25gwdevelopment.ipynb\n",
      "Execution Succeeded: /home/sensei/ce-4363-webroot/ce4363notes/lessons/25gwdevelopment.ipynb\n",
      "Executing: /home/sensei/ce-4363-webroot/ce4363notes/lessons/groundwatermodels/16gwmodels.ipynb\n",
      "Execution Succeeded: /home/sensei/ce-4363-webroot/ce4363notes/lessons/groundwatermodels/16gwmodels.ipynb\n",
      "Executing: /home/sensei/ce-4363-webroot/ce4363notes/lessons/17fieldmethods.ipynb\n",
      "Execution Succeeded: /home/sensei/ce-4363-webroot/ce4363notes/lessons/17fieldmethods.ipynb\n",
      "Executing: /home/sensei/ce-4363-webroot/ce4363notes/lessons/groundwatermodels/15gwmodels.ipynb\n",
      "Execution Succeeded: /home/sensei/ce-4363-webroot/ce4363notes/lessons/groundwatermodels/15gwmodels.ipynb\n",
      "Executing: /home/sensei/ce-4363-webroot/ce4363notes/lessons/groundwatermodels/15gwmodels-examples.ipynb\n",
      "Execution Succeeded: /home/sensei/ce-4363-webroot/ce4363notes/lessons/groundwatermodels/15gwmodels-examples.ipynb\n",
      "Executing: /home/sensei/ce-4363-webroot/ce4363notes/lessons/03aquiferproperties/03aquiferproperties.ipynb\n",
      "Execution Succeeded: /home/sensei/ce-4363-webroot/ce4363notes/lessons/03aquiferproperties/03aquiferproperties.ipynb\n",
      "Executing: /home/sensei/ce-4363-webroot/ce4363notes/lessons/24contaminanttransport.ipynb\n",
      "Execution Succeeded: /home/sensei/ce-4363-webroot/ce4363notes/lessons/24contaminanttransport.ipynb\n",
      "Executing: /home/sensei/ce-4363-webroot/ce4363notes/lessons/00introduction/00introduction.ipynb\n",
      "Execution Succeeded: /home/sensei/ce-4363-webroot/ce4363notes/lessons/00introduction/00introduction.ipynb\n",
      "Executing: /home/sensei/ce-4363-webroot/ce4363notes/lessons/groundwatermodels/16gwmodels-examples-3.ipynb\n",
      "Execution Succeeded: /home/sensei/ce-4363-webroot/ce4363notes/lessons/groundwatermodels/16gwmodels-examples-3.ipynb\n",
      "Executing: /home/sensei/ce-4363-webroot/ce4363notes/lessons/06gwflowequations/06gwflowequations.ipynb\n",
      "Execution Succeeded: /home/sensei/ce-4363-webroot/ce4363notes/lessons/06gwflowequations/06gwflowequations.ipynb\n",
      "Executing: /home/sensei/ce-4363-webroot/ce4363notes/lessons/10gwflow2wells/10gwflow2wells.ipynb\n",
      "Execution Succeeded: /home/sensei/ce-4363-webroot/ce4363notes/lessons/10gwflow2wells/10gwflow2wells.ipynb\n",
      "Executing: /home/sensei/ce-4363-webroot/ce4363notes/lessons/20gwchemistry.ipynb\n",
      "Execution Succeeded: /home/sensei/ce-4363-webroot/ce4363notes/lessons/20gwchemistry.ipynb\n",
      "Executing: /home/sensei/ce-4363-webroot/ce4363notes/lessons/09gwflow2wells/09gwflow2wells.ipynb\n",
      "Execution Succeeded: /home/sensei/ce-4363-webroot/ce4363notes/lessons/09gwflow2wells/09gwflow2wells.ipynb\n",
      "done\n",
      "[config changed ('jupyter_execute_notebooks')] 33 added, 0 changed, 0 removed\n",
      "\u001b[01mreading sources... \u001b[39;49;00m[100%] \u001b[35mlessons/groundwatermodels/16project\u001b[39;49;00m                   \n",
      "\u001b[01mlooking for now-outdated files... \u001b[39;49;00mnone found\n",
      "\u001b[01mpickling environment... \u001b[39;49;00mdone\n",
      "\u001b[01mchecking consistency... \u001b[39;49;00mdone\n",
      "\u001b[01mpreparing documents... \u001b[39;49;00mdone\n",
      "\u001b[01mwriting output... \u001b[39;49;00m[100%] \u001b[32mlessons/groundwatermodels/16project\u001b[39;49;00m                    \n",
      "\u001b[01mgenerating indices... \u001b[39;49;00mgenindex done\n",
      "\u001b[01mwriting additional pages... \u001b[39;49;00msearch done\n",
      "\u001b[01mcopying images... \u001b[39;49;00m[100%] \u001b[33m_build/jupyter_execute/lessons/groundwatermodels/16project_15_1.png\u001b[39;49;00mg\u001b[39;49;00m\n",
      "\u001b[01mcopying static files... \u001b[39;49;00mdone\n",
      "\u001b[01mcopying extra files... \u001b[39;49;00mdone\n",
      "\u001b[01mdumping search index in English (code: en)... \u001b[39;49;00mdone\n",
      "\u001b[01mdumping object inventory... \u001b[39;49;00mdone\n",
      "\u001b[01mbuild succeeded.\u001b[39;49;00m\n",
      "\n",
      "The HTML pages are in ce4363notes/_build/html.\n",
      "\n",
      "\u001b[92m===============================================================================\u001b[0m\n",
      "\n",
      "Finished generating HTML for book.\n",
      "Your book's HTML pages are here:\n",
      "    ce4363notes/_build/html/\n",
      "You can look at your book by opening this file in a browser:\n",
      "    ce4363notes/_build/html/index.html\n",
      "Or paste this line directly into your browser bar:\n",
      "    file:///home/sensei/ce-4363-webroot/ce4363notes/_build/html/index.html            \n",
      "\n",
      "\u001b[92m===============================================================================\u001b[0m\n",
      "\n"
     ]
    }
   ],
   "source": [
    "! jupyter-book build ce4363notes"
   ]
  },
  {
   "cell_type": "code",
   "execution_count": null,
   "metadata": {},
   "outputs": [],
   "source": []
  }
 ],
 "metadata": {
  "kernelspec": {
   "display_name": "Python 3",
   "language": "python",
   "name": "python3"
  },
  "language_info": {
   "codemirror_mode": {
    "name": "ipython",
    "version": 3
   },
   "file_extension": ".py",
   "mimetype": "text/x-python",
   "name": "python",
   "nbconvert_exporter": "python",
   "pygments_lexer": "ipython3",
   "version": "3.8.10"
  }
 },
 "nbformat": 4,
 "nbformat_minor": 4
}
