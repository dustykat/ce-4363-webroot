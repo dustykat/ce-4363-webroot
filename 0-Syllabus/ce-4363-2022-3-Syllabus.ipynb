{
 "cells": [
  {
   "cell_type": "code",
   "execution_count": 1,
   "metadata": {
    "jupyter": {
     "source_hidden": true
    }
   },
   "outputs": [
    {
     "name": "stdout",
     "output_type": "stream",
     "text": [
      "atomickitty.arm64\n",
      "aquarius\n",
      "/opt/jupyterhub/bin/python3\n",
      "3.8.5 (default, Jul 28 2020, 12:59:40) \n",
      "[GCC 9.3.0]\n",
      "sys.version_info(major=3, minor=8, micro=5, releaselevel='final', serial=0)\n",
      "Sun Nov 22 21:31:03 UTC 2020\n"
     ]
    }
   ],
   "source": [
    "# Script block to identify host, user, and kernel\n",
    "import sys\n",
    "! hostname\n",
    "! whoami\n",
    "print(sys.executable)\n",
    "print(sys.version)\n",
    "print(sys.version_info)\n",
    "! date"
   ]
  },
  {
   "cell_type": "code",
   "execution_count": 2,
   "metadata": {},
   "outputs": [
    {
     "data": {
      "text/html": [
       "<!--Script block to left align Markdown Tables-->\n",
       "<style>\n",
       "  table {margin-left: 0 !important;}\n",
       "</style>\n"
      ],
      "text/plain": [
       "<IPython.core.display.HTML object>"
      ]
     },
     "metadata": {},
     "output_type": "display_data"
    }
   ],
   "source": [
    "%%html\n",
    "<!--Script block to left align Markdown Tables-->\n",
    "<style>\n",
    "  table {margin-left: 0 !important;}\n",
    "</style>"
   ]
  },
  {
   "cell_type": "markdown",
   "metadata": {},
   "source": [
    "# CE 4363 Groundwater Hydrology"
   ]
  },
  {
   "cell_type": "markdown",
   "metadata": {},
   "source": [
    "## Course Description: \n",
    "\n",
    "\n",
    "\n",
    "## Catalog Description\n",
    "\n",
    "CE 4353: title (3:3:0). \n",
    "\n",
    "## Prerequisites: \n",
    "\n",
    "\n",
    "\n",
    "## Course Sections (in this syllabus)\n",
    "Lesson time, days, and location: \n",
    "\n",
    "1. Section XXX; CRN XXXXX; 0800-0920 T, TH ; TBA\n",
    "\n",
    "## Course Instructor:\n",
    "\n",
    "Instructor: Theodore G. Cleveland, Ph.D., P.E., M. ASCE, F. EWRI\n",
    "\n",
    "Email: theodore.cleveland@ttu.edu  (Put CE 4353 Hydraulics)\n",
    "\n",
    "Office location: Telepresence (Zoom)\n",
    "\n",
    "Office hours: TBD\n",
    "\n",
    "## Teaching assistants:\n",
    "\n",
    "Assistant: Not Authorized\n",
    "\n",
    "Email : NA\n",
    "\n",
    "Office location: NA\n",
    "\n",
    "Office hours: NA"
   ]
  },
  {
   "cell_type": "markdown",
   "metadata": {},
   "source": [
    "## Textbook: \n",
    "\n",
    "course notes\n"
   ]
  },
  {
   "cell_type": "markdown",
   "metadata": {},
   "source": [
    "## Course Schedule \n",
    "\n",
    "| Item | Lesson | Readings | Homework |\n",
    "|:---|:---|:---|:---|\n",
    "|11JAN23|0. Introduction <br> - subtopic1 <br> -subtopic 2| topic name <br> - subtopic1 <br> -subtopic 2 ||\n",
    "|18JAN23|1. Computational Tools <br> - Jupyter Notebooks <br> - Excel Spreadsheets <br> - Specialized software (MODFLOW; etc.) | Demonstration <br> - G3DATA (Digitizing) <br> - Contour Maps (Jupyter) <br> - Contour Maps (On-Line)||\n",
    "|23JAN23|2. Water <br> - Hydrologic Cycle <br> - Energy <br> - Hydrologic Equation| Ch 1 <br> - pp. 1-23 <br> -subtopic 2||\n",
    "|25JAN23|3. Aquifer Properties - I<br> - Porosity <br> - Hydraulic Conductivity| Ch 3 <br> - pp. 66-93 <br> - subtopic 2 ||\n",
    "|30JAN23|4. Aquifer Properties - II<br> - Storage <br> - Compressibility <br> - Effective Stress| Ch. 3 <br> - pp. 93-109 <br> - subtopic 2||\n",
    "|01FEB23|5. Groundwater Flow Principles <br> - Head <br> - Darcy's Law <br> - Measuring Discharge| Ch. 4 <br> - pp. 113-124 <br> -subtopic 2 |ES-1 (upload solution to BB)|\n",
    "|06FEB23|6. Groundwater Flow Equations <br> - Definition <br> -subtopic 2| Ch. 4 <br> - pp. 125-137 <br> -subtopic 2||\n",
    "|08FEB23|7. 1-D Solutions <br> - Applications <br> -subtopic 2| Ch. 4 <br> - pp. 138-148 <br> - subtopic 2 ||\n",
    "|13FEB23|8. Groundwater Flow to Wells - I <br> - Unsteady Flow <br> - Steady Flow| Ch. 5 <br> - 3.5-3.6 <br> -subtopic 2|ES-2 (upload solution to BB)|\n",
    "|15FEB23|9. Groundwater Flow to Wells - II  <br> - Definitions <br> -subtopic 2| Ch. 5 <br> - 4.1-4.5 <br> -subtopic 2 ||\n",
    "|20FEB23|10. Groundwater Flow to Wells - III<br> - Aquifer Pumping Tests <br> - Purpose| Ch. 5 <br> - 4.6-4.9 <br> -subtopic 2||\n",
    "|22FEB23|11. Groundwater Flow to Wells - IV <br> - Well Interference <br> - Superposition <br> - Recovery Tests| Ch. 5 <br> - 4.10-4.12 <br> -subtopic 2 |ES-3 (upload solution to BB)|\n",
    "|27FEB23|12. Groundwater Flow to Wells - V <br> - Slug Tests <br> - Partial Penetration <br> - Well Losses| Ch. 5 <br> - 4.13-4.15 <br> -subtopic 2||\n",
    "|01MAR23|Exam1|||\n",
    "|06MAR23|13. Groundwater Models - I <br> - Theory  <br> - Solution Methods <br> - Homebrew| Ch. 13 <br> - 4.16-4.18 <br> -subtopic 2||\n",
    "|08MAR23|14. Groundwater Models - II <br> - MODFLOW <br> - MODFLOW (OnLine)| server <br> - 5.1-5.3 <br> -subtopic 2||\n",
    "|20MAR23|15. Regional Groundwater Flow <br> - Applications <br> -subtopic 2| Ch. 7 <br> - 5.4-5.7 <br> -subtopic 2 ||\n",
    "|22MAR23|16. Soil Moisture and Recharge <br> - Applications <br> -subtopic 2| Ch. 6 <br> - 5.8-5.10 <br> -subtopic 2||\n",
    "|27MAR23|17. Field Methods <br> - subtopic1 <br> -subtopic 2| Ch. 12 <br> - subtopic1 <br> -subtopic 2 ||\n",
    "|29MAR23|18. Water Well Construction - I <br> - subtopic1 <br> -subtopic 2| server <br> - subtopic1 <br> -subtopic 2||\n",
    "|03APR23|19. Water Well Construction - II <br> - subtopic1 <br> -subtopic 2|server <br> - subtopic1 <br> -subtopic 2 ||\n",
    "|05APR23|20. Groundwater Chemistry - I <br> - Overview  <br> - Equilibrium Geochemical Models| Ch. 9 <br> - subtopic1 <br> -subtopic 2||\n",
    "|12APR23|21. Groundwater Chemistry - II <br> - Redox <br> - Ion Exchange <br> - Isotopes| Ch. 9<br> - subtopic1 <br> -subtopic 2 ||\n",
    "|17APR23|22. Groundwater Contamination - I <br> - Overview  <br> -subtopic 2| Ch. 9 <br> - subtopic1 <br> -subtopic 2||\n",
    "|19APR23|23. Groundwater Contamination - II <br> - Hydraulic Barriers <br> - Capture Zones| Ch. 9 <br> - subtopic1 <br> -subtopic 2||\n",
    "||Exam2|||\n",
    "|24APR23|24. 1D Contaminant Transport <br> - Tracer Hypothesis <br> - Linear Equilibrium Isotherms <br> - Decay|Ch. 10 <br> - subtopic1 <br> -subtopic 2||\n",
    "|26APR23|25. Groundwater Development and Management <br> - subtopic1 <br> -subtopic 2| Ch. 11 <br> - subtopic1 <br> -subtopic 2||\n",
    "|01MAY23|26. Water Law <br> - Water Rights  <br> - Firm Yield| Ch. 11 <br> - subtopic1 <br> -subtopic 2||"
   ]
  },
  {
   "cell_type": "markdown",
   "metadata": {},
   "source": [
    "## Learning Outcomes: \n",
    "On completion of the course, students will have\n",
    "1.  \n"
   ]
  },
  {
   "cell_type": "code",
   "execution_count": null,
   "metadata": {},
   "outputs": [],
   "source": []
  },
  {
   "cell_type": "markdown",
   "metadata": {},
   "source": [
    "## ABET Student Outcomes\n",
    "* General Engineering:\n",
    "\n",
    "|ABET Outcome|Assessment|\n",
    "|:---|:---|\n",
    "|(1) an ability to identify, formulate, and solve complex engineering problems by applying principles of engineering, science, and mathematics|application of Darcy's law, well hydraulics, aquifer characterization, equilibrium water chemistry, and computer modeling of groundwater flow|\n",
    "|(2) an ability to apply engineering design to produce solutions that meet specified needs with consideration of public health, safety, and welfare, as well as global, cultural, social, environmental, and economic factors|design of a well field with the constraints of minimizing drawdown and approximate optimization of capital and pumping costs|\n",
    "|(7) an ability to acquire and apply new knowledge as needed, using appropriate learning strategies| MODFLOW application|\n",
    "\n",
    "* Civil Engineering Program Criteria:\n",
    "\n",
    "|ABET Outcome|Assessment|\n",
    "|:---|:---|\n",
    "|(v) proficiency in water resources engineering|description of aquifers, well hydraulics, groundwater modeling|\n",
    "|(vii) design a system, component, or process in more than one civil engineering context|design of a well field|\n",
    "    \n",
    "* Environmental Engineering Program Criteria:\n",
    "\n",
    "|ABET Outcome|Assessment|\n",
    "|:---|:---|\n",
    "|(ii) introductory level knowledge of environmental issues associated with air, land, and water systems and associated environmental health impact| issues of groundwater quantity and quality|\n",
    "|(iv) an ability to perform engineering design by means of design experiences integrated throughout the professional component of the curriculum |design of a well field with the constraints of minimizing drawdown and optimization of capital and pumping costs|\n"
   ]
  },
  {
   "cell_type": "markdown",
   "metadata": {},
   "source": [
    "### Platforms for Python Programming (for your own laptop computers)\n",
    "1. Anaconda platform (https://www.anaconda.com/): Anaconda distribution is an open-source Data Science Distribution Development Platform.  It includes Python 3 with over 1,500 data science packages making it easy to manage libraries and dependencies.  Available in Linux, Windows, and Mac OS X.  \n",
    "2. Jupyter (https://jupyter.org/): JupyterLab is a web-based interactive development environment for Jupyter notebooks, code, and data. JupyterLab is flexible: Configure and arrange the user interface to support a wide range of workflows in data science, scientific computing, and machine learning. `note` Anaconda for MacOS includes a JupyterLab instance, so a separate install is not required.\n",
    "\n",
    "### Additional Modules that are needed\n",
    "3. Math module (https://docs.python.org/3/library/math.html): Gives access to the mathematical functions defined by the C standard e.g. factorial, gcd, exponential, logarithm. \n",
    "4. GPIO module ():\n",
    "\n",
    "In fact this syllabus was created using a JupyterLab notebook (as a markdown processor). "
   ]
  },
  {
   "cell_type": "markdown",
   "metadata": {},
   "source": [
    "## Course Assessment and Grading Criteria:\n",
    "There will be three midterm exams and one comprehensive final project for the course.  \n",
    "In addition, lab participation, quizzes, and assignments also contribute to the final grade.  \n",
    "<strong>Late</strong> assignments will not be scored.  \n",
    "\n",
    "Grades will be based on the following components; weighting is approximate:\n",
    "\n",
    "|Assessment Instrument|Total points|Weight(%)|\n",
    "|---|---:|---:|\n",
    "|Homework|100|20|\n",
    "|MODFLOW Project|100|20|\n",
    "|Exams|300|60|\n",
    "|Overall total|1000|100|\n",
    "\n",
    "Letter grades will be assigned using the following proportions:\n",
    "\n",
    "|Normalized Score Range|Letter Grade|\n",
    "|:-|---:|\n",
    "|≥ 90|A|\n",
    "|80-89|B|\n",
    "|70-79|C|\n",
    "|55-69|D|\n",
    "|< 55|F|\n",
    "\n",
    "\n"
   ]
  },
  {
   "cell_type": "markdown",
   "metadata": {},
   "source": [
    "## Classroom Policy:\n",
    "The following activities are not allowed in the classroom: Texting or talking on the cellphone or other electronic devices, and reading non-course related materials.\n",
    "### Telepresence (On-line) Courses\n",
    "Obviously electronic devices are vital; disrupting the webinar is prohibited, please mute your microphone unless you have a question - consider typing your question into the chat window as well. \n"
   ]
  },
  {
   "cell_type": "markdown",
   "metadata": {},
   "source": [
    "## ADA Statement: \n",
    "Any student who, because of a disability, may require special arrangements in order to meet the course requirements should contact the instructor as soon as possible to make necessary arrangements.  Students must present appropriate verification from Student Disability Services during the instructor's office hours.  Please note that instructors are not allowed to provide classroom accommodation to a student until appropriate verification from Student Disability Services has been provided.  For additional information, please contact Student Disability Services \n",
    "office in 335 West Hall or call 806.742.2405.\n",
    "\n",
    "## Academic Integrity Statement:\n",
    "Academic integrity is taking responsibility for one’s own class and/or course work, being individually accountable, and demonstrating intellectual honesty and ethical behavior.  Academic integrity is a personal choice to abide by the standards of intellectual honesty and responsibility.  Because education is a shared effort to achieve learning through the exchange of ideas, students, faculty, and staff have the collective responsibility to build mutual trust and respect.  Ethical behavior and independent thought are essential for the highest level of academic achievement, which then must be measured.  Academic achievement includes scholarship, teaching, and learning, all of which are shared endeavors.  Grades are a device used to quantify the successful accumulation of knowledge through learning.  Adhering to the standards of academic integrity ensures grades are earned honestly.  Academic integrity is the foundation upon which students, faculty, and staff build their educational and professional careers.  [Texas Tech University (“University”) Quality Enhancement Plan, Academic Integrity Task Force, 2010].\n",
    "\n",
    "## Religious Holy Day Statement: \n",
    "“Religious holy day” means a holy day observed by a religion whose places of worship are exempt from property taxation under Texas Tax Code §11.20.  A student who intends to observe a religious holy day should make that intention known to the instructor prior to the absence.  A student who is absent from classes for the observance of a religious holy day shall be allowed to take an examination or complete an assignment scheduled for that day within a reasonable time after the absence.  A student who is excused may not be penalized for the absence; however, the instructor may respond appropriately if the student fails to complete the assignment satisfactorily.\n",
    "\n",
    "## Ethical Conduct Policy:\n",
    "Cheating is prohibited, and the representation of the work of another person as your own will be grounds for receiving a failing grade in the course.\n"
   ]
  },
  {
   "cell_type": "markdown",
   "metadata": {},
   "source": []
  }
 ],
 "metadata": {
  "kernelspec": {
   "display_name": "Python 3",
   "language": "python",
   "name": "python3"
  },
  "language_info": {
   "codemirror_mode": {
    "name": "ipython",
    "version": 3
   },
   "file_extension": ".py",
   "mimetype": "text/x-python",
   "name": "python",
   "nbconvert_exporter": "python",
   "pygments_lexer": "ipython3",
   "version": "3.8.10"
  }
 },
 "nbformat": 4,
 "nbformat_minor": 4
}
