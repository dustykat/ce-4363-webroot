{
 "cells": [
  {
   "cell_type": "markdown",
   "metadata": {},
   "source": [
    "# <font color=darkblue>CE 4363/5363 Groundwater Hydrology <br> Spring 2023 Exam 1</font>\n",
    "\n",
    "**LAST NAME, FIRST NAME**\n",
    "\n",
    "**R00000000**\n",
    "\n",
    "___\n",
    "\n",
    "### Purpose : \n",
    "Demonstrate ability to apply groundwater hydrology principles to aquifers\n",
    "\n",
    "### Additional Instructions\n",
    "\n",
    "1. The test is intended to be completed by extracting the problem statements and inserting worked answers, including computations into a document, saving that document as a PDF file, and uploading the completed exam to Blackboard.  \n",
    "2. Show your work; handwritten is OK, but must be neat, organized, and legible (no brain vomit)\n",
    "3. Cite reference sources used to support your work\n",
    "\n",
    "**CE 4363** Complete problems 1-10<br>\n",
    "**CE 5363** Complete problems 1-15<br>\n",
    "\n",
    "<hr>\n",
    "<hr>"
   ]
  },
  {
   "cell_type": "markdown",
   "metadata": {},
   "source": [
    "## Question 1 (1 pts.)\n",
    "\n",
    "An aquitard is\n",
    "\n",
    "1. is a low-permeability geologic unit that can store groundwater and transmit it slowly from one aquifer to another.\n",
    "2. is an impermeable geologic unit\n",
    "3. a geologic unit which is neither porous nor permeable\n",
    "4. a saturated geologic unit that stores and transmits water in useful quantities\n",
    "\n",
    "<hr> \n",
    "\n",
    "**Solution**\n",
    "\n",
    "An aquitard is a layer of earth or rock that restricts the flow of water between two aquifers. Unlike an aquifer, which is a layer of earth or rock that can store and transmit water, an aquitard has low permeability and acts as a barrier to water flow. While an aquitard may contain water, it cannot transmit it easily due to its low permeability. Aquitards can play an important role in groundwater management, as they can help regulate the movement and distribution of water in aquifers. \n",
    "\n",
    "From this definition (1) is the bestest answer.\n",
    "\n",
    "### Reference\n",
    "\n",
    "Chat GPT 3.0 Completion [An aquitard is ... ](https://chat.openai.com/chat)"
   ]
  },
  {
   "cell_type": "markdown",
   "metadata": {},
   "source": [
    "## Question 2 (1 pts.)\n",
    "\n",
    "An aquifer is\n",
    "\n",
    "1. is a low-permeability geologic unit that can store groundwater and transmit it slowly from one aquifer to another.\n",
    "2. is an impermeable geologic unit\n",
    "3. a geologic unit which is neither porous nor permeable\n",
    "4. a saturated geologic unit that stores and transmits water in useful quantities\n",
    "\n",
    "<hr>\n",
    "\n",
    "**Solution**\n",
    "\n",
    "An aquifer is an underground layer of permeable rock, sediment, or soil that can hold and transmit water. It is a natural storage and conveyance system for groundwater. When precipitation or surface water infiltrates the ground, it moves through the pores and spaces in the rock or soil until it reaches an impermeable layer or a surface water body such as a lake, river, or ocean. The water stored in aquifers can be extracted by drilling wells, and it is an important source of drinking water for many communities around the world. However, overuse of aquifers can lead to depletion and contamination of the groundwater. \n",
    "\n",
    "From this definition (4) is the bestest answer.\n",
    "\n",
    "### Reference\n",
    "\n",
    "Chat GPT 3.0 Completion [An aquifer is ... ](https://chat.openai.com/chat)"
   ]
  },
  {
   "cell_type": "markdown",
   "metadata": {},
   "source": [
    "## Question 3 (3 pts.)\n",
    "\n",
    "Explain why the bottom of the aquifer is always used as the datum for head calculations when dealing with unconfined\n",
    "aquifers.\n",
    "<hr>\n",
    "\n",
    "**Solution**\n",
    "\n",
    "The bottom of the aquifer is always used as the datum for head calculations when dealing with unconfined aquifers because the water table in unconfined aquifers is free to move up and down, depending on factors such as precipitation, evapotranspiration, and groundwater pumping. The water table represents the upper surface of the groundwater in an unconfined aquifer, and its elevation is a measure of the hydraulic head of the groundwater at that location.\n",
    "\n",
    "The hydraulic head is the potential energy per unit weight of water at a particular location in an aquifer, and it determines the direction and rate of groundwater flow. The hydraulic head is measured from a reference point or datum, which is typically chosen as the bottom of the aquifer. This is because the bottom of the aquifer represents the lowest point that the water table can fall to under natural conditions, and it is a fixed reference point that does not change over time.\n",
    "\n",
    "Using the bottom of the aquifer as the datum for head calculations allows hydrogeologists and engineers to measure and monitor changes in the hydraulic head at different locations in the aquifer and assess the impact of various factors, such as groundwater pumping or changes in land use, on the groundwater system. It also allows them to make accurate predictions of groundwater flow rates and direction and design effective groundwater management strategies to protect this vital resource. \n",
    "\n",
    "### Reference\n",
    "\n",
    "Chat GPT 3.0 Completion [Explain why the bottom of the aquifer is always used as the datum for head calculations when dealing with unconfined\n",
    "aquifers.](https://chat.openai.com/chat) "
   ]
  },
  {
   "cell_type": "markdown",
   "metadata": {},
   "source": [
    "## Question 4 (5 pts.)\n",
    "\n",
    "What volume of solid material is present in one cubic meter of sandstone if the porosity is 20% ?\n",
    "<hr>\n",
    "\n",
    "**Solution**\n",
    "\n",
    "If the porosity of sandstone is 20%, it means that 20% of the volume is composed of voids or empty space, while the remaining 80% is composed of solid material.\n",
    "\n",
    "Therefore, the volume of solid material in one cubic meter of sandstone can be calculated as:\n",
    "\n",
    "Volume of solid material = 80% of 1 cubic meter<br>\n",
    "Volume of solid material = 0.8 x 1 cubic meter<br>\n",
    "Volume of solid material = 0.8 cubic meters<br>\n",
    "\n",
    "So, there is 0.8 cubic meters of solid material present in one cubic meter of sandstone if the porosity is 20%.\n",
    "\n",
    "### Reference\n",
    "\n",
    "Chat GPT 3.0 Completion [What volume of solid material is present in one cubic meter of sandstone if the porosity is 20% ?](https://chat.openai.com/chat) )"
   ]
  },
  {
   "cell_type": "markdown",
   "metadata": {},
   "source": [
    "## Question 5 (5 pts.)\n",
    "\n",
    "What volume of water is contained in one cubic meter of material if the porosity is 20% and the saturation expressed as a fraction of the pore space is 30% ?\n",
    "<hr>\n",
    "\n",
    "**Solution**\n",
    "\n",
    "If the porosity of a material is 20%, it means that 20% of its total volume is made up of pore space (voids). Therefore, the remaining 80% of the volume is made up of solid material.\n",
    "\n",
    "If the saturation expressed as a fraction of the pore space is 30%, it means that 30% of the pore space is filled with water, while the remaining 70% is empty.\n",
    "\n",
    "To find the volume of water contained in one cubic meter of the material, we can use the following formula:\n",
    "\n",
    "Volume of water = Porosity x Saturation x Total volume\n",
    "\n",
    "where the total volume is equal to one cubic meter.\n",
    "\n",
    "Plugging in the values we have:\n",
    "\n",
    "Volume of water = 0.20 x 0.30 x 1<br>\n",
    "Volume of water = 0.06 cubic meters<br>\n",
    "\n",
    "Therefore, one cubic meter of the material contains 0.06 cubic meters (or 60 liters) of water.\n",
    "\n",
    "### Reference\n",
    "\n",
    "\n",
    "Chat GPT 3.0 Completion [What volume of water is contained in one cubic meter of material if the porosity is 20% and the saturation expressed as a fraction of the pore space is 30% ?](https://chat.openai.com/chat) \n"
   ]
  },
  {
   "cell_type": "markdown",
   "metadata": {},
   "source": [
    "## Question 6 (5 pts.)\n",
    "\n",
    "During a long drought period the following declines in the water table were recorded in an unconfined aquifer.\n",
    "\n",
    "![](AquiferDeclines.png)\n",
    "\n",
    "The total volume of water removed from storage in this aquifer during the time period was $5.7385 \\times 10^4$ acre-feet.\n",
    "\n",
    "Determine:\n",
    "1. The specific yield of this aquifer\n",
    "\n",
    "<hr>\n",
    "\n",
    "**Solution**\n",
    "\n",
    "Apply same method as in ES1-2, compute volume from each cell using assumed Sy, total volume dewatered must equal withdrawl, answer is **$S_y=0.19$**"
   ]
  },
  {
   "cell_type": "code",
   "execution_count": 347,
   "metadata": {},
   "outputs": [
    {
     "name": "stdout",
     "output_type": "stream",
     "text": [
      "Sy guess 0.19\n",
      "Target withdrawl 57385.0 acre-feet\n",
      "Total withdrawl 57385.472 acre feet\n",
      "Mass Balance Error 0.001 percent\n",
      "If Total > Target, reduce Sy value\n"
     ]
    }
   ],
   "source": [
    "identity = [\"A\",\"B\",\"C\",\"D\"] #given\n",
    "size = [14.0,7.0,28.0,33.0] #given\n",
    "deltah = [2.75,3.56,5.42,7.78] #given \n",
    "Sy = 0.19 #unknown, trial-and-error this value\n",
    "target = 5.7385e04 #given total withdrawl in ac-ft\n",
    "volume = [0 for i in range(len(identity))]\n",
    "for i in range(len(identity)):\n",
    "    volume[i]=Sy*deltah[i]*size[i]*5280*5280 #convert mi^2 to ft^2\n",
    "total = sum(volume)/43560\n",
    "print(\"Sy guess\",round(Sy,4))\n",
    "print(\"Target withdrawl\",round(target,3),\"acre-feet\")\n",
    "print(\"Total withdrawl\",round(total,3),\"acre feet\")\n",
    "print(\"Mass Balance Error\",round(100*(total - target)/target,3),\"percent\")\n",
    "print(\"If Total > Target, reduce Sy value\")"
   ]
  },
  {
   "cell_type": "markdown",
   "metadata": {},
   "source": [
    "<hr><hr>\n",
    "\n",
    "## Question 6 (15 pts.)\n",
    "\n",
    "Three wells are completed in an aquifer in the configuration shown below. Well C is directly east of Well B. The\n",
    "land surface elevations and depths to water are shown in the table. \n",
    "\n",
    "![](3-wells.png)\n",
    "\n",
    "Determine:\n",
    "1. The magnitude and direction of the hydraulic gradient.\n",
    "\n",
    "<hr>\n",
    "\n",
    "**Solution**\n",
    "\n",
    "Same as ES2-5"
   ]
  },
  {
   "cell_type": "code",
   "execution_count": 348,
   "metadata": {},
   "outputs": [
    {
     "name": "stdout",
     "output_type": "stream",
     "text": [
      "x-component hydraulic gradient:  0.011\n",
      "y-component hydraulic gradient:  0.011\n",
      "magnitude hydraulic gradient:  0.015\n",
      "direction cosine x-component hydraulic gradient:  0.717\n",
      "direction cosine y-component hydraulic gradient:  0.697\n",
      "Gradient azmiuth 44.2 degrees (0 is due North in the plot)\n"
     ]
    },
    {
     "data": {
      "image/png": "[encoded data removed]",
      "text/plain": [
       "<Figure size 432x288 with 1 Axes>"
      ]
     },
     "metadata": {
      "needs_background": "light"
     },
     "output_type": "display_data"
    }
   ],
   "source": [
    "import numpy\n",
    "import math\n",
    "# well B is origin\n",
    "wellID =['Well A','Well B','Well C']\n",
    "well_X =[130.0,0.0,200.0]\n",
    "well_Y =[100.0,0.0,0.0]\n",
    "well_Z =[352.35-27.40,355.65-28.20,351.75-26.50]\n",
    "amatrix = [[0 for j in range(3)]for i in range(3)]\n",
    "b = [0 for j in range(3)]\n",
    "# A-matrix\n",
    "for i in range(3):\n",
    "    amatrix[i][0]=well_X[i]\n",
    "    amatrix[i][1]=well_Y[i]\n",
    "    amatrix[i][2]=1.0\n",
    "    b[i]= well_Z[i] \n",
    "amatrix = numpy.array(amatrix) #typecast as numpy array\n",
    "b = numpy.array(b)\n",
    "x = numpy.linalg.solve(amatrix,b) # solve equation of plane\n",
    "# recover and report results\n",
    "print(\"x-component hydraulic gradient: \",round(-x[0],3))\n",
    "print(\"y-component hydraulic gradient: \",round(-x[1],3))\n",
    "grad = math.sqrt(x[0]**2+x[1]**2)\n",
    "print(\"magnitude hydraulic gradient: \",round(grad,3))\n",
    "print(\"direction cosine x-component hydraulic gradient: \",round(-x[0]/grad,3))\n",
    "print(\"direction cosine y-component hydraulic gradient: \",round(-x[1]/grad,3))\n",
    "# angle in radians\n",
    "angle = math.atan(x[1]/x[0])\n",
    "# convert to degrees\n",
    "print(\"Gradient azmiuth\",round(180*angle/math.pi,1),\"degrees (0 is due North in the plot)\")\n",
    "# use this if want to plot\n",
    "list1 = [0,-100*x[0]/grad] \n",
    "list2 = [0,-100*x[1]/grad] \n",
    "stry='Distance Northing'\n",
    "strx='Distance Easting'\n",
    "strtitle='Hydraulic Gradient and 3-Well Locations\\n'+'Gradient Magnitude: '+ str(round(grad,3)) +'\\n Red segment is 100X direction cosines' \n",
    "\n",
    "plotlabel=['Wells','Gradient']\n",
    "from matplotlib import pyplot as plt # import the plotting library from matplotlibplt.show()\n",
    "plt.plot(well_X, well_Y, color ='green', marker ='o', linestyle ='none') # create a line chart, years on x-axis, gdp on y-axis\n",
    "plt.plot(list1, list2, color ='red', marker ='x', linestyle ='solid')\n",
    "plt.title(strtitle)# add a title\n",
    "plt.ylabel(stry)# add a label to the x and y-axes\n",
    "plt.xlabel(strx)\n",
    "plt.legend(plotlabel)\n",
    "plt.grid()\n",
    "plt.show() # display the plot\n"
   ]
  },
  {
   "cell_type": "markdown",
   "metadata": {},
   "source": [
    "<hr><hr>\n",
    "## Question 7 (15 pts.)\n",
    "\n",
    "A single well exists in an ideal **unconfined** aquifer. The pumping well has a flow rate of 200 gpm and an effective\n",
    "well radius of 0.60 ft. An observation well was placed 85 ft away from the centerline of the pumping well. The pumping well\n",
    "has been on long enough for equilibrium to be achieved, and drawdowns at the two wells were as shown in the figure\n",
    "below. **The sketch is not to scale.**\n",
    "\n",
    "![](TheimWell.png)\n",
    "\n",
    "Determine:\n",
    "1. The hydraulic conductivity of the aquifer in $\\frac{ft}{d}$.\n",
    "2. The radius of influence for this pumping well in $ft$.\n",
    "\n",
    "<hr>\n",
    "\n",
    "**Solution**\n",
    "\n",
    "Apply Theim equation for unconfined aquifer, solve for K.  Then find distance until no drawdown for radius-o-influence."
   ]
  },
  {
   "cell_type": "code",
   "execution_count": 349,
   "metadata": {},
   "outputs": [
    {
     "name": "stdout",
     "output_type": "stream",
     "text": [
      "    Head in pumping well  120  feet above bottom of aquifer\n",
      "Head in observation well  166  feet above bottom of aquifer\n"
     ]
    }
   ],
   "source": [
    "# Saturated thickness pre-development\n",
    "# pumpin well\n",
    "PGLp = 2520\n",
    "HGLp= 2452\n",
    "Bot= 2260\n",
    "# observation well\n",
    "PGLo = 2526\n",
    "HGLo = 2452\n",
    "\n",
    "h1 = (PGLp - Bot)-140\n",
    "h2 = (PGLo - Bot)-100\n",
    "\n",
    "print(\"    Head in pumping well \",h1,\" feet above bottom of aquifer\")\n",
    "print(\"Head in observation well \",h2,\" feet above bottom of aquifer\")"
   ]
  },
  {
   "cell_type": "code",
   "execution_count": 350,
   "metadata": {},
   "outputs": [
    {
     "name": "stdout",
     "output_type": "stream",
     "text": [
      "Hydraulic Conductivity =  4.611  ft/day \n"
     ]
    }
   ],
   "source": [
    "# Theim equation unconfined\n",
    "h1   = 120 #calculated\n",
    "h2   = 166 #calculated\n",
    "r1 = 0.60 #given raduis at well screen\n",
    "r2 = 85 #given distance to observation well\n",
    "QGPM = 200 #given\n",
    "QCFS = QGPM*(1.0/7.485)*(1.0/60.0) #gpm to cfs\n",
    "QCFD = QCFS*86400 #cfs to cfday\n",
    "K = (QCFD/(math.pi*(h2**2-h1**2)))*math.log(r2/r1)\n",
    "print(\"Hydraulic Conductivity = \",round(K,3),\" ft/day \")"
   ]
  },
  {
   "cell_type": "code",
   "execution_count": 351,
   "metadata": {},
   "outputs": [
    {
     "name": "stdout",
     "output_type": "stream",
     "text": [
      "Target 192 Guess 192.0 Diffence  -0.0\n"
     ]
    }
   ],
   "source": [
    "# Find effective radius\n",
    "h2target = HGLp-Bot\n",
    "r2 = 2828 # guess value, adjust by trial-and-error\n",
    "(h2guess)=math.sqrt((h1**2)+(QCFD/(math.pi*K))*math.log(r2/r1))\n",
    "print(\"Target\",round(h2target,3),\"Guess\",round(h2guess,3),\"Diffence \",round(h2target-h2guess,3))"
   ]
  },
  {
   "cell_type": "markdown",
   "metadata": {},
   "source": [
    "So the hydraulic conductivity is $K=4.611~\\frac{ft}{day}$ and the radius of influence is $2828~meters$"
   ]
  },
  {
   "cell_type": "markdown",
   "metadata": {},
   "source": [
    "<hr><hr>\n",
    "\n",
    "## Question 8 (15 pts.)\n",
    "\n",
    "A conventional pumping test was performed in an ideal confined aquifer under all the proper conditions. The flow\n",
    "rate at the pumping well was 100 gpm, and the distance to the pumping well was 170 ft. The drawdown observed at the\n",
    "pumping well is shown in the table below. \n",
    "\n",
    "![](JacobCooper.png)\n",
    "\n",
    "Determine:\n",
    "1. Drawdown vs Time on the semi-logarithmic chart (see Fetter pg. 181)\n",
    "1. The transmissivity in $\\frac{ft^2}{d}$, and storage coefficient for this aquifer.\n",
    "\n",
    "<hr>\n",
    "\n",
    "**Solution**\n",
    "\n",
    "Use tools developed in ES3-"
   ]
  },
  {
   "cell_type": "code",
   "execution_count": 352,
   "metadata": {},
   "outputs": [
    {
     "name": "stdout",
     "output_type": "stream",
     "text": [
      "Input Data and Initial Guess\n",
      "Transmissivity : 1000.0  ft^2/day \n",
      "Storativity : 0.01\n",
      "Time(days)|Radius(ft)|Obs. Drawdown(ft)|Mod. Drawdown(ft)|\n",
      "         2|       170|             2.60|             0.00|\n",
      "         3|       170|             3.35|             0.00|\n",
      "         5|       170|             5.03|             0.00|\n",
      "        10|       170|             6.70|             0.00|\n",
      "        40|       170|            10.40|             0.03|\n",
      "        80|       170|            12.05|             0.21|\n",
      "       100|       170|            12.50|             0.31|\n",
      "       120|       170|            13.10|             0.42|\n",
      "Initial Sum Squared Error : 645.106279\n"
     ]
    },
    {
     "data": {
      "image/png": "[encoded data removed]",
      "text/plain": [
       "<Figure size 432x288 with 1 Axes>"
      ]
     },
     "metadata": {
      "needs_background": "light"
     },
     "output_type": "display_data"
    }
   ],
   "source": [
    "def W(u): # Theis well function using exponential integral\n",
    "    import scipy.special as sc\n",
    "    w = sc.expn(1,u)\n",
    "    return(w)\n",
    "\n",
    "def smodel(radius,time,storage,transmissivity,discharge): # Drawdown function using exponential integral\n",
    "    import math\n",
    "    u = ((radius**2)*(storage))/(4*transmissivity*time)\n",
    "    smodel = ((discharge)/(4*math.pi*transmissivity))*W(u)\n",
    "    return(smodel)\n",
    "\n",
    "data = [\\\n",
    "[2,170,2.60],\\\n",
    "[3 ,170,3.35],\\\n",
    "[5 ,170,5.03],\\\n",
    "[10 ,170,6.70],\\\n",
    "[40 ,170,10.40],\\\n",
    "[80 ,170,12.05],\\\n",
    "[100 ,170,12.50],\\\n",
    "[120 ,170,13.10]\\\n",
    "]\n",
    "S = 0.01 # initial guess - use a minSSE search to find good value\n",
    "T = 1000.0 # ft^2/day guess - use a minSSE search to find good value\n",
    "QGPM = 100 # given\n",
    "QCFD = QGPM*(1/7.48)*(1440/1) # convert to ft^3/day\n",
    "ddn = [0 for i in range(len(data))]\n",
    "ddnobs = [0 for i in range(len(data))]\n",
    "time = [0 for i in range(len(data))]\n",
    "distance = [0 for i in range(len(data))]\n",
    "print(\"Input Data and Initial Guess\")\n",
    "print(\"Transmissivity :\",round(T,3),\" ft^2/day \\nStorativity :\",round(S,6))\n",
    "print(\"Time(days)|Radius(ft)|Obs. Drawdown(ft)|Mod. Drawdown(ft)|\")\n",
    "sse = 0.0\n",
    "for irow in range(len(data)):\n",
    "    time[irow]=data[irow][0]\n",
    "    distance[irow]=data[irow][1]\n",
    "    ddnobs[irow]=data[irow][2]\n",
    "    ddn[irow] = smodel(distance[irow],time[irow]/1440,S,T,QCFD)\n",
    "    print(\"%10i|%10i|%17.2f|%17.2f|\"%(time[irow],distance[irow],round(ddnobs[irow],2),round(ddn[irow],2)))\n",
    "    sse = sse + (ddnobs[irow]-ddn[irow])**2\n",
    "print(\"Initial Sum Squared Error :\",round(sse,6))\n",
    "\n",
    "# plotting results\n",
    "# import the package\n",
    "\n",
    "from matplotlib import pyplot as plt\n",
    "graph, (plt1) = plt.subplots(1, 1) # create a 1X1 plotting frame\n",
    "plt1.plot(time, ddn, c='blue',linewidth=1) # basic line plot\n",
    "plt1.plot(time, ddnobs, c='red', marker='o',linewidth=0) # basic line plot\n",
    "plt1.set_xscale('log') # set x-axis to display a logarithmic scale #################\n",
    "plt1.set_xlabel('Time (ft)') # label the x-axis\n",
    "plt1.set_ylabel('Drawdown (ft)') # label the y-axis, notice the LaTex markup\n",
    "plt1.legend(['Model','Observed']) # legend for each series\n",
    "plt1.set_title('Drawdown vs Time at Distance: ' + str(distance[0]) + \" feet\\n\" + \"Sum Squared Error: \" + str(round(sse,6))) # make a plot title\n",
    "plt1.grid() # display a grid\n",
    "plt.show() # display the plot"
   ]
  },
  {
   "cell_type": "markdown",
   "metadata": {},
   "source": [
    "So the initial guess barely even plots on the data chart.  Now by changing T and S we try to make the blue line pass through the red dots. Can try by trial-and-error, or just use calculus and some programming."
   ]
  },
  {
   "cell_type": "code",
   "execution_count": 353,
   "metadata": {},
   "outputs": [
    {
     "name": "stdout",
     "output_type": "stream",
     "text": [
      "Input Data and Fitted Model\n",
      "Transmissivity : 566.4  ft^2/day \n",
      "Storativity : 2.9e-05\n",
      "Time(days)|Radius(ft)|Obs. Drawdown(ft)|Mod. Drawdown(ft)|\n",
      "         2|       170|             2.60|             2.73|\n",
      "         3|       170|             3.35|             3.61|\n",
      "         5|       170|             5.03|             4.82|\n",
      "        10|       170|             6.70|             6.56|\n",
      "        40|       170|            10.40|            10.20|\n",
      "        80|       170|            12.05|            12.06|\n",
      "       100|       170|            12.50|            12.66|\n",
      "       120|       170|            13.10|            13.15|\n"
     ]
    },
    {
     "data": {
      "image/png": "[encoded data removed]",
      "text/plain": [
       "<Figure size 432x288 with 1 Axes>"
      ]
     },
     "metadata": {
      "needs_background": "light"
     },
     "output_type": "display_data"
    }
   ],
   "source": [
    "# build an optimizer to automatically find T and S\n",
    "import numpy as np\n",
    "from scipy.optimize import minimize\n",
    "from scipy.optimize import Bounds\n",
    "import math\n",
    "\n",
    "def objfn(x):\n",
    "    global data,ddn,ddnobs,time,distance\n",
    "    global QCFD\n",
    "    T = x[1]\n",
    "    S = x[0]\n",
    "    sse = 0.0\n",
    "    for irow in range(len(data)):\n",
    "        time[irow]=data[irow][0]\n",
    "        distance[irow]=data[irow][1]\n",
    "        ddnobs[irow]=data[irow][2]\n",
    "        ddn[irow] = smodel(distance[irow],time[irow]/1440,S,T,QCFD)\n",
    "#        print(\"%10i|%10i|%17.2f|%17.2f|\"%(time[irow],distance[irow],round(ddnobs[irow],2),round(ddn[irow],2)))\n",
    "        sse = sse + (ddnobs[irow]-ddn[irow])**2\n",
    "    return(sse)\n",
    "\n",
    "bounds = Bounds([0.0000001, 0.01], [1.0, 10000.0]) # define the search region\n",
    "ineq_cons = {'type': 'ineq'} # null inequality constraints\n",
    "eq_cons = {'type': 'eq',} # null equality constraints\n",
    "x0 = np.array([S, T]) # initial guess\n",
    "res = minimize(objfn, x0, method='SLSQP', jac=\"2-point\", options={'ftol': 1e-16},bounds=bounds)\n",
    "if res.status == 0: # success then extract and print the results\n",
    "    T = res.x[1]\n",
    "    S = res.x[0]\n",
    "# report results\n",
    "print(\"Input Data and Fitted Model\")\n",
    "print(\"Transmissivity :\",round(T,1),\" ft^2/day \\nStorativity :\",round(S,6))\n",
    "print(\"Time(days)|Radius(ft)|Obs. Drawdown(ft)|Mod. Drawdown(ft)|\")\n",
    "for irow in range(len(data)):\n",
    "    time[irow]=data[irow][0]\n",
    "    distance[irow]=data[irow][1]\n",
    "    ddnobs[irow]=data[irow][2]\n",
    "    ddn[irow] = smodel(distance[irow],time[irow]/1440,S,T,QCFD)\n",
    "    print(\"%10i|%10i|%17.2f|%17.2f|\"%(time[irow],distance[irow],round(ddnobs[irow],2),round(ddn[irow],2)))\n",
    "    \n",
    "    \n",
    "# plotting results\n",
    "# import the package\n",
    "\n",
    "from matplotlib import pyplot as plt\n",
    "graph, (plt1) = plt.subplots(1, 1) # create a 1X1 plotting frame\n",
    "plt1.plot(time, ddn, c='blue',linewidth=1) # basic line plot\n",
    "plt1.plot(time, ddnobs, c='red', marker='o',linewidth=0) # basic line plot\n",
    "plt1.set_xscale('log') # set x-axis to display a logarithmic scale #################\n",
    "plt1.set_xlabel('Time (ft)') # label the x-axis\n",
    "plt1.set_ylabel('Drawdown (ft)') # label the y-axis, notice the LaTex markup\n",
    "plt1.legend(['Model','Observed']) # legend for each series\n",
    "plt1.set_title('Drawdown vs Time at Distance: ' + str(distance[0]) + \" feet\\n\" + \"Sum Squared Error: \" + str(round(res.fun,6))) # make a plot title\n",
    "plt1.grid() # display a grid\n",
    "plt.show() # display the plot"
   ]
  },
  {
   "cell_type": "markdown",
   "metadata": {},
   "source": [
    "Ta da! - we have a decent fit.  Type curves would be fine too, as would Jacob's approximation.\n",
    "\n",
    "<hr><hr>"
   ]
  },
  {
   "cell_type": "markdown",
   "metadata": {},
   "source": [
    "## Question 9 (15 pts.)\n",
    "\n",
    "Two boreholes are located at points A and B along the same flowline. \n",
    "The soil between them has a hydraulic conductivity of $3.0 \\times 10^{-5}$ feet per second and a porosity of 40%.  Water flows from B to A in the water table aquifer. \n",
    "A 500 X 100 foot landfill cell is planned to be built between points A and B as shown. \n",
    "The bottom of the landfill cell must be at least 5 feet above the water table at all points. \n",
    "\n",
    "![](WasteCell.png)\n",
    "\n",
    "Determine:\n",
    "1. The hydraulic gradient between points A and B \n",
    "2. The minimum elevation of the waste cell. \n",
    "3. Estimate the travel time for contaminants to reach point A if the protective liner of the landfill cell fails and contaminated liquid seeps into the groundwater.\n",
    "\n",
    "<hr>\n",
    "\n",
    "**Solution**\n",
    "\n",
    "![](landfill1.png)\n",
    "\n",
    "![](landfill2.png)\n",
    "\n",
    "![](landfill3.png)\n",
    "\n",
    "![](landfill4.png)\n",
    "\n",
    "![](landfill5.png)\n",
    "\n",
    "![](landfill6.png)\n",
    "\n",
    "![](landfill7.png)\n",
    "\n",
    "<hr><hr>"
   ]
  },
  {
   "cell_type": "markdown",
   "metadata": {},
   "source": [
    "## Question 10 (20 pts.)\n",
    "\n",
    "The wells shown below are in a leaky confined aquifer. The aquifer has a hydraulic conductivity of 30 ft/d, saturated\n",
    "thickness of 45.0 ft, and storage coefficient of 0.00080. The aquitard above has a thickness of 8.0 ft and vertical\n",
    "conductivity of 0.45 ft/d. Well A was turned on at noon Sunday with a flow rate of 150 gpm. Well B was turned on at noon\n",
    "Tuesday with a flow rate of 200 gpm. Find the total drawdown in ft at the observation well C at noon Thursday. \n",
    "\n",
    "![](Unconfined3.png)\n",
    "\n",
    "<hr>\n",
    "\n",
    "**Solution**\n",
    "\n",
    "Apply image well theory and Hantush solution using supplied values\n",
    "\n",
    "**1)**\n",
    "First copy-paste solution code from notes:"
   ]
  },
  {
   "cell_type": "code",
   "execution_count": 354,
   "metadata": {},
   "outputs": [],
   "source": [
    "def wh(u, rho): # Hantush Leaky aquifer well function\n",
    "    import numpy\n",
    "    try:\n",
    "        u =float(u)\n",
    "        rho =float(rho)\n",
    "    except:\n",
    "        print(\"u and rho must be scalars.\")\n",
    "        raise ValueError()\n",
    "\n",
    "    LOGINF = 2\n",
    "    y = numpy.logspace(numpy.log10(u), LOGINF, 1000)\n",
    "    ym = 0.5 * (y[:-1]+  y[1:])\n",
    "    dy = numpy.diff(y)\n",
    "    w = numpy.sum(numpy.exp(-ym - (rho / 2)**2 / ym ) * dy / ym)\n",
    "    return w\n",
    "\n",
    "def W(u): # Theis well function using exponential integral\n",
    "    import scipy.special as sc\n",
    "    w = sc.expn(1,u)\n",
    "    return(w)\n",
    "\n",
    "def s(radius,time,storage,transmissivity,discharge): # Drawdown function using exponential integral\n",
    "    import math\n",
    "    u = ((radius**2)*(storage))/(4*transmissivity*time)\n",
    "    s = ((discharge)/(4*math.pi*transmissivity))*W(u)\n",
    "    return(s)\n",
    "\n",
    "def sleaky(radius,time,storage,transmissivity,discharge,leakance): # Drawdown function using exponential integral\n",
    "    import math\n",
    "    rho = radius/leakance\n",
    "    u = ((radius**2)*(storage))/(4*transmissivity*time)\n",
    "    s = ((discharge)/(4*math.pi*transmissivity))*wh(u,rho)\n",
    "    return(s)\n"
   ]
  },
  {
   "cell_type": "markdown",
   "metadata": {},
   "source": [
    "**2)** Then set up simulation conditions"
   ]
  },
  {
   "cell_type": "code",
   "execution_count": 355,
   "metadata": {},
   "outputs": [
    {
     "name": "stdout",
     "output_type": "stream",
     "text": [
      "Drawdown in Observation Well C : 1.78  feet\n"
     ]
    }
   ],
   "source": [
    "rAC = math.sqrt((350-150)**2+(150)**2) # distance well C to well A\n",
    "rBC = math.sqrt((150)**2+(150)**2) # distance well C to well B\n",
    "timeA = 4 # days, given 1200 Sunday to 1200 Thursday\n",
    "timeB = 2 # days, given 1200 Tuesday to 1200 Thursday\n",
    "QGPMA = 150 # given\n",
    "QCFDA = QGPMA*(1/7.48)*(1440/1) # convert to ft^3/day\n",
    "QGPMB = 200 # given\n",
    "QCFDB = QGPMB*(1/7.48)*(1440/1) # convert to ft^3/day\n",
    "T = 30*45 # ft^2/day - given\n",
    "S = 0.00080 # given\n",
    "bv = 8.0 # ft - given\n",
    "kv = 0.45 # ft/day - given\n",
    "B = math.sqrt((T*bv)/kv)\n",
    "ddnCA = sleaky(rAC,timeA,S,T,QCFDA,B)\n",
    "ddnCB = sleaky(rBC,timeB,S,T,QCFDB,B)\n",
    "ddnC = ddnCA + ddnCB\n",
    "print(\"Drawdown in Observation Well C :\",round(ddnC,2),\" feet\")"
   ]
  },
  {
   "cell_type": "markdown",
   "metadata": {},
   "source": [
    "Aside: a cooler version of the problem would be to produce a drawdown vs time plot at well C starting sunday at noon! \n",
    "\n",
    "<hr><hr>"
   ]
  },
  {
   "cell_type": "markdown",
   "metadata": {},
   "source": [
    "## CE 5363 Question 11 (20 pts.)\n",
    "\n",
    "An aquifer is comprised of three formations as shown. Each individual formation is homogeneous and isotropic. Derive formulas for the overall apparent hydraulic conductivity in the horizontal and vertical directions, and apply the formulas to estimate the average horizontal and vertical hydraulic conductivtiy of the composite formation\n",
    "\n",
    "![](composite-aquifer.png)\n",
    "\n",
    "<hr>\n",
    "\n",
    "**Solution**\n",
    "\n",
    "![](layered1.png)\n",
    "\n",
    "![](layered2.png)"
   ]
  },
  {
   "cell_type": "code",
   "execution_count": 356,
   "metadata": {},
   "outputs": [
    {
     "name": "stdout",
     "output_type": "stream",
     "text": [
      "Horizontal Average Hydraulic Conductivity : 25.015  meters/day\n",
      "Vertical Average Hydraulic Conductivity : 11.817  meters/day\n"
     ]
    }
   ],
   "source": [
    "L1=300\n",
    "L2=150\n",
    "L3=220\n",
    "K1=11\n",
    "K2=78\n",
    "K3=8\n",
    "Kv = (L1+L2+L3)/((L1/K1)+(L2/K2)+(L3/K3))\n",
    "Kh = ((K1*L1)+(K2*L2)+(K3*L3))/(L1+L2+L3)\n",
    "print(\"Horizontal Average Hydraulic Conductivity :\",round(Kh,3),\" meters/day\")\n",
    "print(\"Vertical Average Hydraulic Conductivity :\",round(Kv,3),\" meters/day\")"
   ]
  },
  {
   "cell_type": "markdown",
   "metadata": {},
   "source": [
    "<hr><hr>\n",
    "\n",
    "## CE 5363 Question 12 (20 pts.)\n",
    "\n",
    "A single pumping well exists in an ideal confined aquifer. The aquifer has a transmissivity of 4700 ft2/d and\n",
    "storage coefficient of 0.00025. The well is 85 ft west of a no-flow boundary that runs north-south. The pumping well has an\n",
    "effective radius of 0.50 ft, and pumps at a flow rate of 200 gpm. \n",
    "\n",
    "![](ImageWell.png)\n",
    "\n",
    "Determine:\n",
    "1. The total drawdown in ft at the pumping well at 6.0 hours after the well was turned on, ignoring characteristic well losses.\n",
    "\n",
    "<hr>\n",
    "\n",
    "**Solution**\n",
    "\n",
    "Apply method of images and Theis solution, notice here \"effective radius\" means the radius of the well.\n",
    "\n",
    "![](imageWellDraw.png)\n"
   ]
  },
  {
   "cell_type": "code",
   "execution_count": 357,
   "metadata": {},
   "outputs": [],
   "source": [
    "def W(u): # Theis well function using exponential integral\n",
    "    import scipy.special as sc\n",
    "    w = sc.expn(1,u)\n",
    "    return(w)\n",
    "\n",
    "def smodel(radius,time,storage,transmissivity,discharge): # Drawdown function using exponential integral\n",
    "    import math\n",
    "    u = ((radius**2)*(storage))/(4*transmissivity*time)\n",
    "    smodel = ((discharge)/(4*math.pi*transmissivity))*W(u)\n",
    "    return(smodel)"
   ]
  },
  {
   "cell_type": "code",
   "execution_count": 358,
   "metadata": {},
   "outputs": [
    {
     "name": "stdout",
     "output_type": "stream",
     "text": [
      "Drawdown at pumping well screen redius : 15.298  feets\n"
     ]
    }
   ],
   "source": [
    "# distances relative to pumping well\n",
    "r1 = 0.50 # ft radius of pumping well\n",
    "r2 = 84.5 + 85 # ft distance to image well\n",
    "T = 4700 # ft^2/day given\n",
    "S = 0.00025 # given\n",
    "QGPM = 200 # gpm given\n",
    "QCFD = QGPM*(1/7.48)*(1440/1) # convert to ft^3/day\n",
    "time = 6.0/24.0 # days given\n",
    "ddn1=smodel(r1,time,S,T,QCFD)\n",
    "ddn2=smodel(r2,time,S,T,QCFD)\n",
    "ddn = ddn1+ddn2\n",
    "print(\"Drawdown at pumping well screen redius :\",round(ddn,3),\" feets\")"
   ]
  },
  {
   "cell_type": "markdown",
   "metadata": {},
   "source": [
    "## CE 5363 Question 13 (20 pts.)\n",
    "\n",
    "The drawing below is a profile through an unconfined aquifer with two drains located left and right of the aquifer.  Derive the equation that relates head in the aquifer to the recharge ($N$) and the position ($x$).  The water level in the left drain is fixed at elevation $h_L = 10.0$ meters.  The elevation of the land surface is $D=18.5$ meters.  If the right drain is one kilometer from the left drain and the desired minimum depth to water is $d_{min} = 1.0$ meter, find the required elevation of water, $h_R$, in the right drain.  The recharge rate is $N=0.001 \\frac{m}{day}$, the hydraulic conductivity is $K=1.0 \\frac{m}{day}$\n",
    "\n",
    "![](Unconfined2Ditch.png)\n",
    "\n",
    "<hr>\n",
    "\n",
    "**Solution**\n",
    "\n",
    "By hand analysis :\n",
    "\n",
    "![](ditch1.png)\n",
    "\n",
    "![](ditch2.png)\n",
    "\n",
    "Or by computer plotting, goal is to find $h_R$ so that maximum head is 17.5 meters (1 meter below land surface)"
   ]
  },
  {
   "cell_type": "code",
   "execution_count": 359,
   "metadata": {},
   "outputs": [
    {
     "data": {
      "image/png": "[encoded data removed]",
      "text/plain": [
       "<Figure size 432x288 with 1 Axes>"
      ]
     },
     "metadata": {
      "needs_background": "light"
     },
     "output_type": "display_data"
    }
   ],
   "source": [
    "# scripting\n",
    "L = 1000 #m\n",
    "K = 1.0 #m/d\n",
    "N = 0.001 #m/d\n",
    "hl = 10 #m given\n",
    "hr = 2.89 #m guess and adjust\n",
    "\n",
    "def ditch(x,hl,hr,L,N,K):\n",
    "    import math\n",
    "    ditch = math.sqrt(hl**2 + (((hr**2 - hl**2)*x)/(L)) + ((N*x)*(L-x)/(K)) )\n",
    "    return(ditch)\n",
    "\n",
    "x=[0 for i in range(100)]\n",
    "h=[0 for i in range(100)]\n",
    "max = 0.0\n",
    "for i in range(100):\n",
    "    x[i]=float(i)*10\n",
    "    h[i]=ditch(x[i],hl,hr,L,N,K)\n",
    "    if h[i]>max:\n",
    "        max=h[i]\n",
    "\n",
    "from matplotlib import pyplot as plt\n",
    "graph, (plt1) = plt.subplots(1, 1) # create a 1X1 plotting frame\n",
    "plt1.plot(x, h, c='blue',linewidth=1) # basic line plot\n",
    "#plt1.plot(x, h, c='red', marker='o',linewidth=0) # basic line plot\n",
    "#plt1.set_xscale('log') # set x-axis to display a logarithmic scale #################\n",
    "plt1.set_ylim([0,20])\n",
    "plt1.set_xlabel('Time (ft)') # label the x-axis\n",
    "plt1.set_ylabel('Drawdown (ft)') # label the y-axis, notice the LaTex markup\n",
    "#plt1.legend(['Model','Observed']) # legend for each series\n",
    "plt1.set_title('Head vs Distance Between 2 Ditches\\n Left Ditch Head:' + str(round(hl,3)) + ' Right Ditch Head: ' + str(round(hr,3)) + \"\\nMax Head: \" + str(round(max,3))) # make a plot title\n",
    "plt1.grid() # display a grid\n",
    "plt.show() # display the plot"
   ]
  },
  {
   "cell_type": "markdown",
   "metadata": {},
   "source": [
    "## CE 5363 Question 14 (20 pts.)\n",
    "\n",
    "Calculate the porosity of uniform sized spheres packed in a body-centered cubic structure as shown below. \n",
    "\n",
    "![](BCCstructure.png)\n",
    "\n",
    "<hr>\n",
    "\n",
    "**Solution**\n",
    "\n",
    "- **First using Chat GPT 3.0 Completion Engine:**\n",
    "\n",
    "> The porosity of a packing of uniform spheres in a body-centered cubic structure can be calculated as follows:\n",
    "\n",
    "> In a body-centered cubic structure, each sphere is in contact with six neighboring spheres. The spheres are arranged in such a way that there is a sphere at the center of the cube and another at each corner of the cube.\n",
    "\n",
    "> Let's consider a unit cell of the body-centered cubic structure, which contains two spheres. The diameter of each sphere is equal to the edge length of the cube. Therefore, the volume of each sphere is:\n",
    "\n",
    "> V_s = (4/3) * pi * (d/2)^3\n",
    "= (4/3) * pi * (a/2)^3 (where d is the diameter of the sphere, and a is the edge length of the cube)\n",
    "\n",
    "> The volume of the unit cell is:\n",
    "\n",
    "> V_c = a^3\n",
    "\n",
    "> The total volume occupied by the spheres in the unit cell is:\n",
    "\n",
    "> V_p = 2 * V_s = (8/3) * pi * (a/2)^3\n",
    "\n",
    "> The porosity, P, is defined as the ratio of the void space (the space not occupied by the spheres) to the total volume:\n",
    "\n",
    ">P = (V_c - V_p) / V_c\n",
    "= (a^3 - (8/3) * pi * (a/2)^3) / a^3\n",
    "= 1 - (8pi/3)(1/2)^3\n",
    "= 1 - (2*pi/3)\n",
    "≈ 0.259877\n",
    "\n",
    ">Therefore, the porosity of uniform sized spheres packed in a body-centered cubic structure is approximately 0.259877, or about 26%.\n",
    "\n",
    "- **Now the more conventional \"human\" approach**\n",
    "\n",
    "> ![](BCCporosity.png)\n",
    "\n",
    "**Here we see the computer answer and human answer differ!  I would probably lean towards the human analysis, although the 6% difference is probably trivial**\n",
    "<hr>"
   ]
  },
  {
   "cell_type": "markdown",
   "metadata": {},
   "source": [
    "## CE 5363 Question 15 (20 pts.)\n",
    "\n",
    "An artifical recharge pond is located in a sandy area (Kv = 10 m/day; porosity = 30%).\n",
    "The pond covers a large area. A flood wave fills the pond rapidly to a water level of 5.5 meters above the sandy bottom.\n",
    "By controlling the inflow and outflow the water level is maintained at this elevation. \n",
    "During previous operations, the bottom of the pond was covered by a layer of fine material 0.5 meters thick with Kv = 0.1 m/day and a porosity of 50%.\n",
    "\n",
    "Assuming infiltration is vertically downward only, determine the position of the wetting front from the recharge pond into an initially dry soil as a function of time (derive an equation). \n",
    "Assume a very deep water table.   What is the infiltration after a long time?\n",
    "\n",
    "<hr>\n",
    "\n",
    "**Solution**\n",
    "\n",
    "![](infiltration1.png)\n",
    "\n",
    "![](infiltration2.png)\n",
    "\n",
    "![](infiltration3.png)\n",
    "\n",
    "![](infiltration4.png)\n",
    "\n",
    "![](infiltration5.png)\n",
    "\n",
    "![](infiltration6.png)\n",
    "\n",
    "![](infiltration7.png)\n",
    "\n",
    "![](infiltration8.png)\n",
    "<hr>"
   ]
  },
  {
   "cell_type": "code",
   "execution_count": null,
   "metadata": {},
   "outputs": [],
   "source": []
  }
 ],
 "metadata": {
  "kernelspec": {
   "display_name": "Python 3",
   "language": "python",
   "name": "python3"
  },
  "language_info": {
   "codemirror_mode": {
    "name": "ipython",
    "version": 3
   },
   "file_extension": ".py",
   "mimetype": "text/x-python",
   "name": "python",
   "nbconvert_exporter": "python",
   "pygments_lexer": "ipython3",
   "version": "3.8.10"
  }
 },
 "nbformat": 4,
 "nbformat_minor": 4
}
