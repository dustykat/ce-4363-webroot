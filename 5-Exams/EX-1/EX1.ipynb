{
 "cells": [
  {
   "cell_type": "markdown",
   "metadata": {},
   "source": [
    "# <font color=darkblue>CE 4363/5363 Groundwater Hydrology <br> Spring 2023 Exam 1</font>\n",
    "\n",
    "**LAST NAME, FIRST NAME**\n",
    "\n",
    "**R00000000**\n",
    "\n",
    "___\n",
    "\n",
    "### Purpose : \n",
    "Demonstrate ability to apply groundwater hydrology principles to aquifers\n",
    "\n",
    "### Additional Instructions\n",
    "\n",
    "1. The test is intended to be completed by extracting the problem statements and inserting worked answers, including computations into a document, saving that document as a PDF file, and uploading the completed exam to Blackboard.  \n",
    "2. Show your work; handwritten is OK, but must be neat, organized, and legible (no brain vomit)\n",
    "3. Cite reference sources used to support your work\n",
    "\n",
    "**CE 4363** Complete problems 1-10<br>\n",
    "**CE 5363** Complete problems 1-15<br>\n",
    "\n",
    "<hr>\n",
    "<hr>"
   ]
  },
  {
   "cell_type": "markdown",
   "metadata": {},
   "source": [
    "## Question 1 (1 pts.)\n",
    "\n",
    "An aquitard is\n",
    "\n",
    "1. is a low-permeability geologic unit that can store groundwater and transmit it slowly from one aquifer to another.\n",
    "2. is an impermeable geologic unit\n",
    "3. a geologic unit which is neither porous nor permeable\n",
    "4. a saturated geologic unit that stores and transmits water in useful quantities\n",
    "\n",
    "<hr>"
   ]
  },
  {
   "cell_type": "markdown",
   "metadata": {},
   "source": [
    "## Question 2 (1 pts.)\n",
    "\n",
    "An aquifer is\n",
    "\n",
    "1. is a low-permeability geologic unit that can store groundwater and transmit it slowly from one aquifer to another.\n",
    "2. is an impermeable geologic unit\n",
    "3. a geologic unit which is neither porous nor permeable\n",
    "4. a saturated geologic unit that stores and transmits water in useful quantities\n",
    "\n",
    "<hr>"
   ]
  },
  {
   "cell_type": "markdown",
   "metadata": {},
   "source": [
    "## Question 3 (3 pts.)\n",
    "\n",
    "Explain why the bottom of the aquifer is always used as the datum for head calculations when dealing with unconfined\n",
    "aquifers.\n",
    "<hr>"
   ]
  },
  {
   "cell_type": "markdown",
   "metadata": {},
   "source": [
    "## Question 4 (5 pts.)\n",
    "\n",
    "What volume of solid material is present in one cubic meter of sandstone if the porosity is 20% ?\n",
    "<hr>"
   ]
  },
  {
   "cell_type": "markdown",
   "metadata": {},
   "source": [
    "## Question 5 (5 pts.)\n",
    "\n",
    "What volume of water is contained in one cubic meter of material if the porosity is 20% and the saturation expressed as a fraction of the pore space is 30% ?\n",
    "<hr>"
   ]
  },
  {
   "cell_type": "markdown",
   "metadata": {},
   "source": [
    "## Question 6 (5 pts.)\n",
    "\n",
    "During a long drought period the following declines in the water table were recorded in an unconfined aquifer.\n",
    "\n",
    "![](AquiferDeclines.png)\n",
    "\n",
    "The total volume of water removed from storage in this aquifer during the time period was $5.7385 \\times 10^4$ acre-feet.\n",
    "\n",
    "Determine:\n",
    "1. The specific yield of this aquifer\n",
    "\n",
    "<hr>"
   ]
  },
  {
   "cell_type": "markdown",
   "metadata": {},
   "source": [
    "## Question 6 (15 pts.)\n",
    "\n",
    "Three wells are completed in an aquifer in the configuration shown below. Well C is directly east of Well B. The\n",
    "land surface elevations and depths to water are shown in the table. \n",
    "\n",
    "![](3-wells.png)\n",
    "\n",
    "Determine:\n",
    "1. The magnitude and direction of the hydraulic gradient.\n",
    "\n",
    "<hr>"
   ]
  },
  {
   "cell_type": "markdown",
   "metadata": {},
   "source": [
    "## Question 7 (15 pts.)\n",
    "\n",
    "A single well exists in an ideal unconfined aquifer. The pumping well has a flow rate of 200 gpm and an effective\n",
    "well radius of 0.60 ft. An observation well was placed 85 ft away from the centerline of the pumping well. The pumping well\n",
    "has been on long enough for equilibrium to be achieved, and drawdowns at the two wells were as shown in the figure\n",
    "below. **The sketch is not to scale.**\n",
    "\n",
    "![](TheimWell.png)\n",
    "\n",
    "Determine:\n",
    "1. The hydraulic conductivity of the aquifer in $\\frac{ft}{d}$.\n",
    "2. The radius of influence for this pumping well in $ft$.\n",
    "\n",
    "<hr>"
   ]
  },
  {
   "cell_type": "markdown",
   "metadata": {},
   "source": [
    "## Question 8 (15 pts.)\n",
    "\n",
    "A conventional pumping test was performed in an ideal confined aquifer under all the proper conditions. The flow\n",
    "rate at the pumping well was 100 gpm, and the distance to the pumping well was 170 ft. The drawdown observed at the\n",
    "pumping well is shown in the table below. \n",
    "\n",
    "![](JacobCooper.png)\n",
    "\n",
    "Determine:\n",
    "1. Drawdown vs Time on the semi-logarithmic chart (see Fetter pg. 181)\n",
    "1. The transmissivity in $\\frac{ft^2}{d}$, and storage coefficient for this aquifer.\n",
    "\n",
    "<hr>"
   ]
  },
  {
   "cell_type": "markdown",
   "metadata": {},
   "source": [
    "## Question 9 (15 pts.)\n",
    "\n",
    "Two boreholes are located at points A and B along the same flowline. \n",
    "The soil between them has a hydraulic conductivity of 3.0 space cross times 10 to the power of negative 5 end exponent feet per second and a porosity of 40%.  Water flows from B to A in the water table aquifer. \n",
    "A 500 X 100 foot landfill cell is planned to be built between points A and B as shown. \n",
    "The bottom of the landfill cell must be at least 5 feet above the water table at all points. \n",
    "\n",
    "![](WasteCell.png)\n",
    "\n",
    "Determine:\n",
    "1. The hydraulic gradient between points A and B \n",
    "2. The minimum elevation of the waste cell. \n",
    "3. Estimate the travel time for contaminants to reach point A if the protective liner of the landfill cell fails and contaminated liquid seeps into the groundwater.\n",
    "\n",
    "<hr>\n"
   ]
  },
  {
   "cell_type": "markdown",
   "metadata": {},
   "source": [
    "## Question 10 (20 pts.)\n",
    "\n",
    "The wells shown below are in a leaky confined aquifer. The aquifer has a hydraulic conductivity of 30 ft/d, saturated\n",
    "thickness of 45.0 ft, and storage coefficient of 0.00080. The aquitard above has a thickness of 8.0 ft and vertical\n",
    "conductivity of 0.45 ft/d. Well A was turned on at noon Sunday with a flow rate of 150 gpm. Well B was turned on at noon\n",
    "Tuesday with a flow rate of 200 gpm. Find the total drawdown in ft at the observation well C at noon Thursday. \n",
    "\n",
    "![](Unconfined3.png)\n",
    "\n",
    "<hr>\n",
    "<hr>"
   ]
  },
  {
   "cell_type": "markdown",
   "metadata": {},
   "source": [
    "## CE 5363 Question 11 (20 pts.)\n",
    "\n",
    "An aquifer is comprised of three formations as shown. Each individual formation is homogeneous and isotropic. Derive formulas for the overall apparent hydraulic conductivity in the horizontal and vertical directions, and apply the formulas to estimate the average horizontal and vertical hydraulic conductivtiy of the composite formation\n",
    "\n",
    "![](composite-aquifer.png)\n",
    "\n",
    "<hr>"
   ]
  },
  {
   "cell_type": "markdown",
   "metadata": {},
   "source": [
    "## CE 5363 Question 12 (20 pts.)\n",
    "\n",
    "A single pumping well exists in an ideal confined aquifer. The aquifer has a transmissivity of 4700 ft2/d and\n",
    "storage coefficient of 0.00025. The well is 85 ft west of a no-flow boundary that runs north-south. The pumping well has an\n",
    "effective radius of 0.50 ft, and pumps at a flow rate of 200 gpm. \n",
    "\n",
    "![](ImageWell.png)\n",
    "\n",
    "Determine:\n",
    "1. The total drawdown in ft at the pumping well at 6.0 hours after the well was turned on, ignoring characteristic well losses.\n",
    "\n",
    "<hr>"
   ]
  },
  {
   "cell_type": "markdown",
   "metadata": {},
   "source": [
    "## CE 5363 Question 13 (20 pts.)\n",
    "\n",
    "The drawing below is a profile through an unconfined aquifer with two drains located left and right of the aquifer.  Derive the equation that relates head in the aquifer to the recharge ($N$) and the position ($x$).  The water level in the left drain is fixed at elevation $h_L = 10.0$ meters.  The elevation of the land surface is $D=18.5$ meters.  If the right drain is one kilometer from the left drain and the desired minimum depth to water is $d_{min} = 1.0$ meter, find the required elevation of water, $h_R$, in the right drain.  The recharge rate is $N=0.001 \\frac{m}{day}$, the hydraulic conductivity is $K=1.0 \\frac{m}{day}$\n",
    "\n",
    "![](Unconfined2Ditch.png)\n",
    "\n",
    "<hr>"
   ]
  },
  {
   "cell_type": "markdown",
   "metadata": {},
   "source": [
    "## CE 5363 Question 14 (20 pts.)\n",
    "\n",
    "Calculate the porosity of uniform sized spheres packed in a body-centered cubic structure as shown below. \n",
    "\n",
    "![](BCCstructure.png)\n",
    "\n",
    "<hr>\n",
    "<hr>"
   ]
  },
  {
   "cell_type": "markdown",
   "metadata": {},
   "source": [
    "## CE 5363 Question 15 (20 pts.)\n",
    "\n",
    "An artifical recharge pond is located in a sandy area (Kv = 10 m/day; porosity = 30%).\n",
    "The pond covers a large area. A flood wave fills the pond rapidly to a water level of 5.5 meters above the sandy bottom.\n",
    "By controlling the inflow and outflow the water level is maintained at this elevation. \n",
    "During previous operations, the bottom of the pond was covered by a layer of fine material 0.5 meters thick with Kv = 0.1 m/day and a porosity of 50%.\n",
    "\n",
    "Assuming infiltration is vertically downward only, determine the position of the wetting front from the recharge pond into an initially dry soil as a function of time (derive an equation). \n",
    "Assume a very deep water table.   What is the infiltration after a long time?\n",
    "\n",
    "<hr>\n",
    "<hr>"
   ]
  }
 ],
 "metadata": {
  "kernelspec": {
   "display_name": "Python 3",
   "language": "python",
   "name": "python3"
  },
  "language_info": {
   "codemirror_mode": {
    "name": "ipython",
    "version": 3
   },
   "file_extension": ".py",
   "mimetype": "text/x-python",
   "name": "python",
   "nbconvert_exporter": "python",
   "pygments_lexer": "ipython3",
   "version": "3.8.10"
  }
 },
 "nbformat": 4,
 "nbformat_minor": 4
}
