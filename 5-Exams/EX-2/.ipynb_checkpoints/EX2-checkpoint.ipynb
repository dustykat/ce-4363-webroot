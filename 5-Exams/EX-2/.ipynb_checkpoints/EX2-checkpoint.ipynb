{
 "cells": [
  {
   "cell_type": "markdown",
   "metadata": {},
   "source": [
    "# <font color=darkblue>CE 4363/5363 Groundwater Hydrology <br> Spring 2023 Exam 2</font>\n",
    "\n",
    "**LAST NAME, FIRST NAME**\n",
    "\n",
    "**R00000000**\n",
    "\n",
    "___\n",
    "\n",
    "### Purpose : \n",
    "Demonstrate ability to apply groundwater hydrology principles to aquifers\n",
    "\n",
    "### Additional Instructions\n",
    "\n",
    "1. The test is intended to be completed by extracting the problem statements and inserting worked answers, including computations into a document, saving that document as a PDF file, and uploading the completed exam to Blackboard.  \n",
    "2. Show your work; handwritten is OK, but must be neat, organized, and legible (no brain vomit)\n",
    "3. Cite reference sources used to support your work\n",
    "\n",
    "**CE 4363** Complete problems 1-10<br>\n",
    "**CE 5363** Complete problems 1-15<br>\n",
    "\n",
    "<hr>\n",
    "<hr>"
   ]
  },
  {
   "cell_type": "markdown",
   "metadata": {},
   "source": [
    "## Question 1 (3 pts.)\n",
    "\n",
    "Distinguish between the capabilities of ModelMUSE and MODFLOW.\n",
    "\n",
    "<hr>\n",
    "<hr>"
   ]
  },
  {
   "cell_type": "markdown",
   "metadata": {},
   "source": [
    "## Question 2 (4 pts.)\n",
    "\n",
    "List four potential sources of groundwater contamination.\n",
    "\n",
    "<hr>\n",
    "<hr>"
   ]
  },
  {
   "cell_type": "markdown",
   "metadata": {},
   "source": [
    "## Question 3 (3 pts.)\n",
    "\n",
    "Distinguish between calibration and validation for a numerical groundwater computer model.\n",
    "\n",
    "<hr>\n",
    "<hr>"
   ]
  },
  {
   "cell_type": "markdown",
   "metadata": {},
   "source": [
    "## Question 4 (5 pts.)\n",
    "\n",
    "Does the presence of a man-made chemical in groundwater make it unusable? Explain your answer in terms of regulatory or technical issues.\n",
    "\n",
    "<hr>\n",
    "<hr>"
   ]
  },
  {
   "cell_type": "markdown",
   "metadata": {},
   "source": [
    "## Question 5 (5 pts.)\n",
    "\n",
    "Explain how geophysical application of electrical resistivity can be used to distinguish between clay and sand, and between dry and saturated clay.\n",
    "\n",
    "<hr>\n",
    "<hr>"
   ]
  },
  {
   "cell_type": "markdown",
   "metadata": {},
   "source": [
    "## Question 6 (5 pts.)\n",
    "\n",
    "Explain the concept of safe yield for an aquifer. Why is it hard to define? Why must we try to define it?\n",
    "\n",
    "<hr>\n",
    "<hr>"
   ]
  },
  {
   "cell_type": "markdown",
   "metadata": {},
   "source": [
    "## Question 7 (15 pts.)\n",
    "\n",
    "A confined aquifer system is conceptualized as pictured below.\n",
    "\n",
    "![](aquiferSystem.png)\n",
    "\n",
    "Water enters the system in the recharge area and exits as a spring.\n",
    "\n",
    "Determine:\n",
    "1. The piezometric head in the well located at $M$ (express the head in terms of the other variables indicated on the sketch)\n",
    "2. Specify the conditions for the well to become a flowing (artesian) well (water flows from the well without pumping).\n",
    "\n",
    "<hr>\n",
    "<hr>"
   ]
  },
  {
   "cell_type": "markdown",
   "metadata": {},
   "source": [
    "## Question 8 (20 pts.)\n",
    "\n",
    "A 4-cell aquifer model is conceptualized in the figure below.\n",
    "\n",
    "![](aquiferSystem1D.png)\n",
    "\n",
    "The width of the aquifer strip is 3.0 km; the length of each cell is 5 km.  The recharge rates for the aquifer strip is $400~\\frac{mm}{yr}$, $300~\\frac{mm}{yr}$,$300~\\frac{mm}{yr}$, $200~\\frac{mm}{yr}$ in Cells 1,2,3, and 4, respectively.  The water level in the river is maintained at a constant elevation of $160~m$ above the horizontal impervious bottom.  The hydraulic conductivity in Cells 1 and 2 is $30~\\frac{m}{d}$, while in Cells 3 and 4 it is $60~\\frac{m}{d}$.\n",
    "\n",
    "Using this conceptual model, determine:\n",
    "\n",
    "1. Write the steady-flow balance equations to estimate average water levels in the four cells.\n",
    "2. Solve these equations to determine the average elevations in the 4 cells without pumping.\n",
    "3. Solve these equations when pumping takes place in Cells 2 and 3 at rates of $4\\times10^{6}~\\frac{m^3}{yr}$ and $7\\times10^{6}~\\frac{m^3}{yr}$, respectively.\n",
    "\n",
    "### Reference(s)\n",
    "\n",
    "1. [Bear (1979). *Hydraulics of Groundwater* McGraw-Hill (Chapter 10: Modeling of Aquifer Systems)](ce-4363-webroot/3-Readings/BearChapter10.pdf) (Eq. 10-9) is useful.\n",
    "\n",
    "<hr>\n",
    "<hr>"
   ]
  },
  {
   "cell_type": "markdown",
   "metadata": {},
   "source": [
    "## Question 9 (15 pts.)\n",
    "\n",
    "A one-dimensional soil column experiment was performed to study the effects of dispersion on solutes in a soil sample. The soil column was 0.30 m long, and the actual flow velocity was set at 6.0 cm/hr. The dispersivity of the solute was found to be 4.5 cm. Molecular diffusion was neglected. A conservative tracer, which was initially absent in the soil column, was introduced to the influent end of the column at time zero at a concentration of 50 mg/L. \n",
    "\n",
    "Determine:\n",
    "1. The concentration of the tracer in the column effluent in mg/L at time of 4.5 hr after injection began.\n",
    "\n",
    "<hr>\n",
    "<hr>"
   ]
  },
  {
   "cell_type": "markdown",
   "metadata": {},
   "source": [
    "## Question 10 (20 pts.)\n",
    "\n",
    "The figure is a plan view of a confined aquifer showing two contaminated zones, 1 and 2. The aquifer has a saturated thickness of 80 ft, hydraulic conductivity of 42 ft/d, and the regional hydraulic gradient is 0.0075 from right to left as shown. A pumping well with a flow rate of 170 gpm is planned to run continuously at the location shown, and form a stable (equilibrium) capture zone. You may assume that the 2500 ft distance from the well to zone 1 is long enough that the capture zone has reached its maximum width.\n",
    "\n",
    "![](plumeria.png)\n",
    "\n",
    "Determine:\n",
    "\n",
    "1. If contamination from zone 1 find its way to the pumping well? Provide support for your answer with a capture zone analysis or contaminant simulation model.\n",
    "2. If contamination from zone 2 find its way to the pumping well? Provide support for your answer with a capture zone analysis or contaminant simulation model.\n",
    "\n",
    "### References\n",
    "\n",
    "1. [Javandel,I., and Tsang,C-F. (1986) \"Capture Zone Type Curves: A Tool for Aquifer Cleanup\" *Groundwater* Vol. 24 No. 5 pp. 616-625](http://54.243.252.9/ce-4363-webroot/3-Readings/Capture.PDF)\n",
    "\n",
    "<hr>\n",
    "<hr>"
   ]
  },
  {
   "cell_type": "markdown",
   "metadata": {},
   "source": [
    "## CE 5363 Question 11 (30 pts.)\n",
    "\n",
    "A saturated aquifer sample core of diameter 2.54 cm and length of 6 cm weighs 63 grams.  After drying the sample weighs 53 grams.  The core sample was placed into an permeameter and exposed to a unit hydraulic gradient.  The measured flowrate was 25.4 milliliters/second.\n",
    "\n",
    "The water levels in three wells in the same aquifer were measured in meters above MSL.  The levels were: Well MW-1: 83.1 m; Well MW-2: 84.6 m; Well MW-3: 83.9 m.  \n",
    "\n",
    "Well MW-2 is located 1km due north of Well MW-1, and Well MW-3 is located 700 meters Northeast of Well MW-1.\n",
    "\n",
    "Determine:\n",
    "1. Estimate the porosity of the aquifer.\n",
    "2. Estimate the hydraulic conductivity of the aquifer.\n",
    "3. Sketch the relative positions of the three wells.  Use MW-1 as the origin of the local (your sketch) coordinate system, and North is to the top of your sketch.\n",
    "4. Determine the magniture and direction of the hydraulic gradient in the aquifer monitored by the three wells.  Indicate the hydraulic gradient on your sketch (direction and magnitude)\n",
    "5. Estimate the concentration of a conservative constituient (contaminant) at a receptor 4 km away from MW-1 on a flowline that passes through MW-1 using the Ogata-Banks  model, assuming MW-1 is at the source location, and the source concentration is 1000 mg/l. Use one-tenth of the path length as the aquifer dispersivity (recall dispersion coefficient is the product of dispersivity and average linear velocity).  Calculate the receptor concentration from 0 days after release to 1000 days after release in 10 day increments, and make a concentration history plot for the receptor location.\n",
    "6. An estimate of the time from release until the concentration at the receptor is 500 mg/L.\n",
    "\n",
    "### References\n",
    "\n",
    "1. [Ogata, A., & Banks, R. B. (1961). A solution of the differential equation of longitudinal dispersion in porous media: fluid movement in earth materials. US Government Printing Office. (link is to an on-line calculator)](https://www.groundwatersoftware.com/calculator_5_ogata_banks.htm)\n",
    "\n",
    "2. Fetter Eq. 10-8 p. 412 \n",
    "\n",
    "<hr>\n",
    "<hr>\n"
   ]
  },
  {
   "cell_type": "markdown",
   "metadata": {},
   "source": [
    "## CE 5363 Question 12 (10 pts.)\n",
    "\n",
    "In a plan view of a contaminant plume you notice that the leading edge of the chloride has moved approximately 1500 meters, while cadmium has moved only about 400 meters.  Both constituients were released at the same time; the aquifer porosity is 0.30 and the solids density is 2.22 g/cc.\n",
    "\n",
    "![](plumerb.png)\n",
    "\n",
    "Determine:\n",
    "1. The distribution coefficient for cadmium\n",
    "\n",
    "### References\n",
    "\n",
    "1. Fetter Eq. 10-15 p. 418\n",
    "\n",
    "<hr>\n",
    "<hr>"
   ]
  },
  {
   "cell_type": "markdown",
   "metadata": {},
   "source": [
    "## CE 5363 Question 13 (15 pts.)\n",
    "\n",
    "The three figures below depict streamline patterns for flow near a circular region.  \n",
    "\n",
    "![](streamPattern.png)\n",
    "\n",
    "Explain the differences in the patterns in terms of the hydraulic conductivity within the circular region and the surrounding region.\n",
    "\n",
    "<hr>\n",
    "<hr>"
   ]
  },
  {
   "cell_type": "markdown",
   "metadata": {},
   "source": [
    "## CE 5363 Question 14 (15 pts.)\n",
    "\n",
    "Consider a single “cell” model. The cell contains a liquid with known initial concentration of a pollutant. The cell is flushed at a constant flow rate with a liquid with zero concentration of the pollutant.  \n",
    "\n",
    "![](singleCell.png)\n",
    "\n",
    "The cell is completely back-mixed, so any mass entering is uniformily distributed within the cell.  The volume of the cell is $V$, the discharge entering and leaving is $Q$\n",
    "\n",
    "Determine:\n",
    "\n",
    "1. An expression for the mass of **pollutant** in the cell at any time.\n",
    "2. A difference expression for the change in mass in the cell over a discrete time interval (∆t).\n",
    "3. The mass flow of pollutant into the cell (yes, I know its zero, but play along).\n",
    "4. The mass flow of pollutant leaving the cell.\n",
    "5. Combine 2,3, and 4 into a single balance expression (i.e. $\\frac{\\Delta C}{\\Delta t} = \\dots~$).\n",
    "\n",
    "<hr>\n",
    "<hr>"
   ]
  },
  {
   "cell_type": "markdown",
   "metadata": {},
   "source": [
    "## CE 5363 Question 15 (40 pts.)\n",
    "\n",
    "Given the four-cell conceptualization of an aquifer with the properties listed below \n",
    "\n",
    "![](4cellmodel.png)\n",
    "\n",
    "Determine:\n",
    "\n",
    "1. Write the steady-flow balance equations for average water levels in the four cells\n",
    "2. Solve these equations to determine if the aquifer is a net supplier of water to the river or if the river is a supplier of water to the aquifer.\n",
    "3. Write the steady-state balance equations for average concentration of a conservative tracer in the four cells.\n",
    "4. If the river concentration of this tracer is 1,000 mg/L, calculate the steady-state concentrations in the four cells.\n",
    "\n",
    "### Reference(s)\n",
    "\n",
    "1. [Bear (1979). *Hydraulics of Groundwater* McGraw-Hill (Chapter 10: Modeling of Aquifer Systems)](ce-4363-webroot/3-Readings/BearChapter10.pdf) (Eq. 10-9) is useful, also (Eq. 10-11).  \n",
    "\n",
    "<hr>\n",
    "<hr>"
   ]
  },
  {
   "cell_type": "code",
   "execution_count": null,
   "metadata": {},
   "outputs": [],
   "source": []
  }
 ],
 "metadata": {
  "kernelspec": {
   "display_name": "Python 3",
   "language": "python",
   "name": "python3"
  },
  "language_info": {
   "codemirror_mode": {
    "name": "ipython",
    "version": 3
   },
   "file_extension": ".py",
   "mimetype": "text/x-python",
   "name": "python",
   "nbconvert_exporter": "python",
   "pygments_lexer": "ipython3",
   "version": "3.8.10"
  }
 },
 "nbformat": 4,
 "nbformat_minor": 4
}
