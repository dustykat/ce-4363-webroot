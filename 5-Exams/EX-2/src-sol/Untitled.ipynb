{
 "cells": [
  {
   "cell_type": "code",
   "execution_count": null,
   "metadata": {
    "jupyter": {
     "source_hidden": true
    }
   },
   "outputs": [],
   "source": [
    "# No pumping"
   ]
  },
  {
   "cell_type": "code",
   "execution_count": 156,
   "metadata": {},
   "outputs": [],
   "source": [
    "# STEP 1\n",
    "KR=3*365 # RIVER CELL\n",
    "K1=3*365\n",
    "K2=3*365\n",
    "K3=6*365\n",
    "K4=6*365\n",
    "#\n",
    "W=3000\n",
    "L=5000\n",
    "#\n",
    "R1=0.4 \n",
    "R2=0.3\n",
    "R3=0.3\n",
    "R4=0.2\n",
    "h=[160,160,160,160,160] # initial guess of heads\n",
    "hold = h[:]\n",
    "#\n",
    "KB1=(K1+KR)*0.5\n",
    "KB2=(K2+K1)*0.5\n",
    "KB3=(K3+K2)*0.5\n",
    "KB4=(K4+K3)*0.5\n",
    "# INITIAL TRANSMISSIVITY\n",
    "TB1=KB1*(h[1]+h[0])*0.5*W/L\n",
    "TB2=KB2*(h[2]+h[1])*0.5*W/L\n",
    "TB3=KB3*(h[3]+h[2])*0.5*W/L\n",
    "TB4=KB4*(h[4]+h[3])*0.5*W/L"
   ]
  },
  {
   "cell_type": "code",
   "execution_count": 159,
   "metadata": {},
   "outputs": [
    {
     "name": "stdout",
     "output_type": "stream",
     "text": [
      "[160, 283.5392751418138, 341.94180925011483, 363.51740132413033, 369.744656636321]\n"
     ]
    }
   ],
   "source": [
    "for updates in range(100): # do a bunch of updates\n",
    "    h = hold[:]\n",
    "    for iter in range(100): # do a bunch of iterations per update\n",
    "        h[1]=(TB2*h[2]+TB1*h[0]+R1*W*L)/(TB2+TB1)\n",
    "        h[2]=(TB3*h[3]+TB2*h[1]+R2*W*L)/(TB3+TB2)\n",
    "        h[3]=(TB4*h[4]+TB3*h[2]+R3*W*L)/(TB4+TB3)\n",
    "        h[4]=(         TB4*h[3]+R4*W*L)/(TB4    )\n",
    "    hold = h[:]\n",
    "# update the transmissivity array\n",
    "    TB1=KB1*(hold[1]+hold[0])*0.5*W/L\n",
    "    TB2=KB2*(hold[2]+hold[1])*0.5*W/L\n",
    "    TB3=KB3*(hold[3]+hold[2])*0.5*W/L\n",
    "    TB4=KB4*(hold[4]+hold[3])*0.5*W/L\n",
    "print(hold)"
   ]
  },
  {
   "cell_type": "code",
   "execution_count": 161,
   "metadata": {},
   "outputs": [
    {
     "name": "stdout",
     "output_type": "stream",
     "text": [
      "[-2.0489096641540527e-08, -1.5832483768463135e-08, 2.60770320892334e-08, 1.3969838619232178e-08]\n"
     ]
    }
   ],
   "source": [
    "# check results\n",
    "cell1 = TB2*(h[2]-h[1])-TB1*(h[1]-h[0])+R1*W*L\n",
    "cell2 = TB3*(h[3]-h[2])-TB2*(h[2]-h[1])+R2*W*L\n",
    "cell3 = TB4*(h[4]-h[3])-TB3*(h[3]-h[2])+R3*W*L\n",
    "cell4 =                -TB4*(h[4]-h[3])+R4*W*L\n",
    "bal = [cell1,cell2,cell3,cell4]\n",
    "print(bal)"
   ]
  },
  {
   "cell_type": "code",
   "execution_count": 162,
   "metadata": {},
   "outputs": [],
   "source": [
    "# STEP 1\n",
    "KR=3*365 # RIVER CELL\n",
    "K1=3*365\n",
    "K2=3*365\n",
    "K3=6*365\n",
    "K4=6*365\n",
    "#\n",
    "W=3000\n",
    "L=5000\n",
    "#\n",
    "R1=0.4 \n",
    "R2=0.3\n",
    "R3=0.3\n",
    "R4=0.2\n",
    "h=[160,160,160,160,160] # initial guess of heads\n",
    "hold = h[:]\n",
    "#\n",
    "KB1=(K1+KR)*0.5\n",
    "KB2=(K2+K1)*0.5\n",
    "KB3=(K3+K2)*0.5\n",
    "KB4=(K4+K3)*0.5\n",
    "# INITIAL TRANSMISSIVITY\n",
    "TB1=KB1*(h[1]+h[0])*0.5*W/L\n",
    "TB2=KB2*(h[2]+h[1])*0.5*W/L\n",
    "TB3=KB3*(h[3]+h[2])*0.5*W/L\n",
    "TB4=KB4*(h[4]+h[3])*0.5*W/L\n",
    "# pumping\n",
    "P1=0\n",
    "P2=4e6\n",
    "P3=7e6\n",
    "P4=0"
   ]
  },
  {
   "cell_type": "code",
   "execution_count": 163,
   "metadata": {},
   "outputs": [
    {
     "name": "stdout",
     "output_type": "stream",
     "text": [
      "[160, 216.5848106703003, 223.50194684505828, 225.76056694429994, 235.6566222975154]\n"
     ]
    }
   ],
   "source": [
    "for updates in range(100): # do a bunch of updates\n",
    "    h = hold[:]\n",
    "    for iter in range(100): # do a bunch of iterations per update\n",
    "        h[1]=(TB2*h[2]+TB1*h[0]+R1*W*L-P1)/(TB2+TB1)\n",
    "        h[2]=(TB3*h[3]+TB2*h[1]+R2*W*L-P2)/(TB3+TB2)\n",
    "        h[3]=(TB4*h[4]+TB3*h[2]+R3*W*L-P3)/(TB4+TB3)\n",
    "        h[4]=(         TB4*h[3]+R4*W*L-P4)/(TB4    )\n",
    "    hold = h[:]\n",
    "# update the transmissivity array\n",
    "    TB1=KB1*(hold[1]+hold[0])*0.5*W/L\n",
    "    TB2=KB2*(hold[2]+hold[1])*0.5*W/L\n",
    "    TB3=KB3*(hold[3]+hold[2])*0.5*W/L\n",
    "    TB4=KB4*(hold[4]+hold[3])*0.5*W/L\n",
    "print(hold)"
   ]
  },
  {
   "cell_type": "code",
   "execution_count": 164,
   "metadata": {},
   "outputs": [
    {
     "name": "stdout",
     "output_type": "stream",
     "text": [
      "[2.7939677238464355e-09, -6.51925802230835e-09, -1.862645149230957e-09, -2.7939677238464355e-09]\n"
     ]
    }
   ],
   "source": [
    "# check results\n",
    "cell1 = TB2*(h[2]-h[1])-TB1*(h[1]-h[0])+R1*W*L-P1\n",
    "cell2 = TB3*(h[3]-h[2])-TB2*(h[2]-h[1])+R2*W*L-P2\n",
    "cell3 = TB4*(h[4]-h[3])-TB3*(h[3]-h[2])+R3*W*L-P3\n",
    "cell4 =                -TB4*(h[4]-h[3])+R4*W*L-P4\n",
    "bal = [cell1,cell2,cell3,cell4]\n",
    "print(bal)"
   ]
  }
 ],
 "metadata": {
  "kernelspec": {
   "display_name": "Python 3",
   "language": "python",
   "name": "python3"
  },
  "language_info": {
   "codemirror_mode": {
    "name": "ipython",
    "version": 3
   },
   "file_extension": ".py",
   "mimetype": "text/x-python",
   "name": "python",
   "nbconvert_exporter": "python",
   "pygments_lexer": "ipython3",
   "version": "3.8.10"
  }
 },
 "nbformat": 4,
 "nbformat_minor": 4
}
